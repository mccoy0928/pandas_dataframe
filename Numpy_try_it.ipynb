{
  "nbformat": 4,
  "nbformat_minor": 0,
  "metadata": {
    "colab": {
      "provenance": [],
      "toc_visible": true,
      "authorship_tag": "ABX9TyNdvUn9wqFMAN3TAOPdb1Sf",
      "include_colab_link": true
    },
    "kernelspec": {
      "name": "python3",
      "display_name": "Python 3"
    },
    "language_info": {
      "name": "python"
    }
  },
  "cells": [
    {
      "cell_type": "markdown",
      "metadata": {
        "id": "view-in-github",
        "colab_type": "text"
      },
      "source": [
        "<a href=\"https://colab.research.google.com/github/mccoy0928/pandas_dataframe/blob/main/Numpy_try_it.ipynb\" target=\"_parent\"><img src=\"https://colab.research.google.com/assets/colab-badge.svg\" alt=\"Open In Colab\"/></a>"
      ]
    },
    {
      "cell_type": "markdown",
      "source": [
        "# Numpy 20230805\n",
        "\n"
      ],
      "metadata": {
        "id": "TEYV4BohHL3w"
      }
    },
    {
      "cell_type": "markdown",
      "source": [
        "## 建立陣列及初始值\n",
        "* 我們會先import numpy 模組，透過傳入Python的list或tuple到 numpy.array() 建立陣列。"
      ],
      "metadata": {
        "id": "wCN2J3gUHri1"
      }
    },
    {
      "cell_type": "code",
      "execution_count": 1,
      "metadata": {
        "id": "YoBAvVSQHGp-"
      },
      "outputs": [],
      "source": [
        "import numpy as np"
      ]
    },
    {
      "cell_type": "code",
      "source": [
        "a = np.array([1, 2, 3, 4])     #一維陣列建立\n",
        "b = np.array([(2.5, 1, 3, 4.5), (5, 6, 7, 8)], dtype = float)  #二維陣列建立\n",
        "c = np.array([[(2.5, 1, 3, 4.5), (5, 6, 7, 8)], [(2.5, 1, 3, 4.5), (5, 6, 7, 8)]], dtype = float)  #三維陣列建立"
      ],
      "metadata": {
        "id": "pbFs3z3PHw18"
      },
      "execution_count": 2,
      "outputs": []
    },
    {
      "cell_type": "code",
      "source": [
        "np.zeros((2, 3))               # 建立一個2x3全為0的陣列\n",
        "np.ones((2, 3, 4))             # 建立一個2x3x4全為1的陣列\n",
        "np.arange(1, 10, 2)            # 建立一個由1開始，不超過10，間隔值為2的均勻數值陣列\n",
        "np.linspace(0, 10, 5)          # 建立一個0到10之間，均勻的5個數值陣列\n",
        "np.full((3,2), 8)              # 建立一個3x2全為8的陣列\n",
        "np.eye(2)                      # 建立一個5x5的單位矩陣\n",
        "np.random.random((2,3))        # 建立一個2x3的隨機值矩陣"
      ],
      "metadata": {
        "colab": {
          "base_uri": "https://localhost:8080/"
        },
        "id": "RdEOJ9rAIH2C",
        "outputId": "3ed6517c-3c4e-4d0c-b1cf-4a7752f034fd"
      },
      "execution_count": 3,
      "outputs": [
        {
          "output_type": "execute_result",
          "data": {
            "text/plain": [
              "array([[0.13940543, 0.45955618, 0.05372759],\n",
              "       [0.87716578, 0.68202218, 0.81623801]])"
            ]
          },
          "metadata": {},
          "execution_count": 3
        }
      ]
    },
    {
      "cell_type": "markdown",
      "source": [
        "## I/O"
      ],
      "metadata": {
        "id": "g_edpv92ItE5"
      }
    },
    {
      "cell_type": "code",
      "source": [
        "original_array = np.array([1, 2, 3])\n",
        "np.save('my_array', original_array)\n",
        "np.savetxt('my_array.txt', original_array)\n",
        "array_from_npy = np.load('my_array.npy')\n",
        "print(array_from_npy)\n",
        "\n",
        "array_from_txtfile = np.loadtxt('my_array.txt')\n",
        "print(array_from_txtfile)\n"
      ],
      "metadata": {
        "colab": {
          "base_uri": "https://localhost:8080/"
        },
        "id": "aU8FDIaUI0ES",
        "outputId": "37678d93-3731-4565-fd07-d6304989b2af"
      },
      "execution_count": 4,
      "outputs": [
        {
          "output_type": "stream",
          "name": "stdout",
          "text": [
            "[1 2 3]\n",
            "[1. 2. 3.]\n"
          ]
        }
      ]
    },
    {
      "cell_type": "markdown",
      "source": [
        "## Data Types\n",
        "* NumPy支援比Python更多的數字類型。可參考下圖。\n",
        "[caption id=”attachment_19\" align=”alignnone” width=”866\"]"
      ],
      "metadata": {
        "id": "fX0ShIeEJLO9"
      }
    },
    {
      "cell_type": "markdown",
      "source": [
        "* 其中有5種基本數字類型比較常用，分別是booleans (bool), integers (int), unsigned integers (uint), floating point (float)和complex。"
      ],
      "metadata": {
        "id": "rPn0ogoeJgOV"
      }
    },
    {
      "cell_type": "code",
      "source": [
        "np.array([1.2, 3, 5.2], dtype='i')\n",
        "\n",
        "np.array([1, 2, 3], dtype='f')\n",
        "\n",
        "x = np.float32(1)\n",
        "x\n",
        "\n",
        "y = np.int_([1.0, 2.3])\n",
        "y"
      ],
      "metadata": {
        "colab": {
          "base_uri": "https://localhost:8080/"
        },
        "id": "m_f2Er7LJPh6",
        "outputId": "f9cf2a01-624a-4cee-8f29-70571a104843"
      },
      "execution_count": 6,
      "outputs": [
        {
          "output_type": "execute_result",
          "data": {
            "text/plain": [
              "array([1, 2])"
            ]
          },
          "metadata": {},
          "execution_count": 6
        }
      ]
    },
    {
      "cell_type": "markdown",
      "source": [
        "* Inspecting Your Array"
      ],
      "metadata": {
        "id": "VmVgNvS9K6p9"
      }
    },
    {
      "cell_type": "code",
      "source": [
        "a = np.array([1, 2, 3])\n",
        "b = np.array([(2.5, 1, 4.5), (5, 6, 7, 8)])\n",
        "a.shape                        # Array dimensions\n",
        "\n",
        "len(a)                         # Length of array\n",
        "\n",
        "len(b)                         # Length of array\n",
        "\n",
        "b.ndim                         # Number of array dimensions\n",
        "\n",
        "a.size                         # Number of array elements\n",
        "\n",
        "b.size                         # Number of array elements\n",
        "\n",
        "b.dtype                        # Data type of array elements\n",
        "\n",
        "a.dtype                        # Data type of array elements\n",
        "\n",
        "b.dtype.name                   # Name of data type\n",
        "\n",
        "a.dtype.name                   # Name of data type\n",
        "\n",
        "a.astype(float)                # Convert an array to a different type\n"
      ],
      "metadata": {
        "colab": {
          "base_uri": "https://localhost:8080/"
        },
        "id": "ZW95xqe0K8nM",
        "outputId": "f8a2607a-09d9-4b22-fcbf-d9aa27a1ac09"
      },
      "execution_count": 7,
      "outputs": [
        {
          "output_type": "stream",
          "name": "stderr",
          "text": [
            "<ipython-input-7-730634e3bfe0>:2: VisibleDeprecationWarning: Creating an ndarray from ragged nested sequences (which is a list-or-tuple of lists-or-tuples-or ndarrays with different lengths or shapes) is deprecated. If you meant to do this, you must specify 'dtype=object' when creating the ndarray.\n",
            "  b = np.array([(2.5, 1, 4.5), (5, 6, 7, 8)])\n"
          ]
        },
        {
          "output_type": "execute_result",
          "data": {
            "text/plain": [
              "array([1., 2., 3.])"
            ]
          },
          "metadata": {},
          "execution_count": 7
        }
      ]
    },
    {
      "cell_type": "markdown",
      "source": [
        "* Array Mathematics"
      ],
      "metadata": {
        "id": "FzyWTZlYL33E"
      }
    },
    {
      "cell_type": "code",
      "source": [
        "a = np.array([1, 2, 3])\n",
        "b = np.array([2, 4, 6])\n",
        "np.add(a, b)                   # 陣列加法，也可以a + b\n",
        "\n",
        "np.subtract(a, b)              # 陣列減法，也可以a – b\n",
        "\n",
        "np.multiply(a, b)              # 陣列乘法，也可以a * b\n",
        "\n",
        "np.divide(a, b)                # 陣列除法，也可以a / b\n",
        "\n",
        "# 除了四則運算之外，也可以對陣列做其他的算術運算\n",
        "c = np.array([1, 4, 9])\n",
        "np.sqrt(c)\n",
        "\n",
        "np.sin(c)\n",
        "\n",
        "np.cos(c)\n",
        "\n",
        "np.log(c)\n"
      ],
      "metadata": {
        "colab": {
          "base_uri": "https://localhost:8080/"
        },
        "id": "IlFgfeJjL5iI",
        "outputId": "639f5d2a-feac-47ec-baf0-2ea361422aa4"
      },
      "execution_count": 8,
      "outputs": [
        {
          "output_type": "execute_result",
          "data": {
            "text/plain": [
              "array([0.        , 1.38629436, 2.19722458])"
            ]
          },
          "metadata": {},
          "execution_count": 8
        }
      ]
    },
    {
      "cell_type": "markdown",
      "source": [
        "# Comparison\n",
        "* NumPy也提供Array幾種比較方式如下："
      ],
      "metadata": {
        "id": "Ptpy8ByPMfJr"
      }
    },
    {
      "cell_type": "code",
      "source": [
        "a = np.array([(1, 2, 3), (4, 5, 6)])\n",
        "b = np.array([(1, 3, 3), (4, 7, 6)])\n",
        "c = np.array([(1, 2, 3), (4, 5, 6)])\n",
        "a == b                         # Element-wise comparison\n",
        "\n",
        "a < 3                          # Element-wise comparison\n",
        "\n",
        "np.array_equal(a, b)           # Array-wise comparison\n"
      ],
      "metadata": {
        "colab": {
          "base_uri": "https://localhost:8080/"
        },
        "id": "-A_ZxHXnMl17",
        "outputId": "9da9bb11-6ba7-43ae-f10a-4b682fba26d4"
      },
      "execution_count": 9,
      "outputs": [
        {
          "output_type": "execute_result",
          "data": {
            "text/plain": [
              "False"
            ]
          },
          "metadata": {},
          "execution_count": 9
        }
      ]
    },
    {
      "cell_type": "markdown",
      "source": [
        "# Aggregate Functions\n",
        "* 利用numpy的聚合函數(Aggregate Functions)於統計領域是很方便的，常見聚合函數有最大值(max)、最小值(min)、中位數( median)、平均數(mean)、方差、標準差(std)、在numpy的使用上是很常見的。"
      ],
      "metadata": {
        "id": "Kf-lFRTDM1tO"
      }
    },
    {
      "cell_type": "markdown",
      "source": [
        "# Copying & Sorting Arrays\n",
        "* numpy同時提供多種陣列間的copying及sorting功能，我們就先簡介其中幾種做法。"
      ],
      "metadata": {
        "id": "32ttVa5sM8D2"
      }
    },
    {
      "cell_type": "code",
      "source": [
        "a = np.array([5, 13, -5, -2, 3, 4, 7])\n",
        "a.sort()\n",
        "a\n",
        "# array([-5, -2, 3, 4, 5, 7, 13])\n",
        "b = np.copy(a)\n",
        "b\n",
        "# array([-5, -2, 3, 4, 5, 7, 13])"
      ],
      "metadata": {
        "colab": {
          "base_uri": "https://localhost:8080/"
        },
        "id": "WGSDvEv0NCeM",
        "outputId": "b4bac246-d578-4a33-8007-30fc41651701"
      },
      "execution_count": 10,
      "outputs": [
        {
          "output_type": "execute_result",
          "data": {
            "text/plain": [
              "array([-5, -2,  3,  4,  5,  7, 13])"
            ]
          },
          "metadata": {},
          "execution_count": 10
        }
      ]
    },
    {
      "cell_type": "markdown",
      "source": [
        "# Subsetting, Slicing, Indexing\n",
        "* 藉由下列範例你將會清楚了解Subsetting, Slicing及Indexing的應用。我們先試著各建立一個一維陣列(1D array)及二維陣列(2D array)如下："
      ],
      "metadata": {
        "id": "CeJ6jPuBNTFx"
      }
    },
    {
      "cell_type": "code",
      "source": [
        "a = np.array([1, 2, 3, 4])\n",
        "b = np.array([(2.5, 1, 3, 4.5), (5, 6, 7, 8)])"
      ],
      "metadata": {
        "id": "Hkk9Hv8cNXqy"
      },
      "execution_count": 11,
      "outputs": []
    },
    {
      "cell_type": "code",
      "source": [
        "# Subsetting\n",
        "a[2]\n",
        "b[1,3]"
      ],
      "metadata": {
        "colab": {
          "base_uri": "https://localhost:8080/"
        },
        "id": "xdaHZXaiNgp8",
        "outputId": "1f84e84d-0d7b-4bcc-845f-31d45d4ca724"
      },
      "execution_count": 13,
      "outputs": [
        {
          "output_type": "execute_result",
          "data": {
            "text/plain": [
              "8.0"
            ]
          },
          "metadata": {},
          "execution_count": 13
        }
      ]
    },
    {
      "cell_type": "code",
      "source": [
        "# Slicing\n",
        "a[0:2]\n",
        "b[0 : 2, 1]"
      ],
      "metadata": {
        "colab": {
          "base_uri": "https://localhost:8080/"
        },
        "id": "JIWiEB0GNxFX",
        "outputId": "37814497-c2f1-4953-b71a-355979b9f756"
      },
      "execution_count": 14,
      "outputs": [
        {
          "output_type": "execute_result",
          "data": {
            "text/plain": [
              "array([1., 6.])"
            ]
          },
          "metadata": {},
          "execution_count": 14
        }
      ]
    },
    {
      "cell_type": "code",
      "source": [
        "b[1, 0 : 2]"
      ],
      "metadata": {
        "colab": {
          "base_uri": "https://localhost:8080/"
        },
        "id": "KwBG5iN_ODuC",
        "outputId": "fdeb8d4e-2f18-4998-878e-68bd23e55ba6"
      },
      "execution_count": 15,
      "outputs": [
        {
          "output_type": "execute_result",
          "data": {
            "text/plain": [
              "array([5., 6.])"
            ]
          },
          "metadata": {},
          "execution_count": 15
        }
      ]
    },
    {
      "cell_type": "code",
      "source": [
        "# Boolean Indexing\n",
        "a[a<4]"
      ],
      "metadata": {
        "colab": {
          "base_uri": "https://localhost:8080/"
        },
        "id": "xR9r6hkdOJlj",
        "outputId": "431599a7-5af6-4fd4-fa2f-0487b9fba3c9"
      },
      "execution_count": 16,
      "outputs": [
        {
          "output_type": "execute_result",
          "data": {
            "text/plain": [
              "array([1, 2, 3])"
            ]
          },
          "metadata": {},
          "execution_count": 16
        }
      ]
    },
    {
      "cell_type": "code",
      "source": [
        "# Transposing Array\n",
        "a = np.array([(1, 3, 5, 7), (2, 4, 6, 8)])\n",
        "b = np.transpose(a)\n",
        "b"
      ],
      "metadata": {
        "colab": {
          "base_uri": "https://localhost:8080/"
        },
        "id": "gvY5tuVgO8uJ",
        "outputId": "d66eebd0-785a-45cd-d845-92ce057d7521"
      },
      "execution_count": 19,
      "outputs": [
        {
          "output_type": "execute_result",
          "data": {
            "text/plain": [
              "array([[1, 2],\n",
              "       [3, 4],\n",
              "       [5, 6],\n",
              "       [7, 8]])"
            ]
          },
          "metadata": {},
          "execution_count": 19
        }
      ]
    },
    {
      "cell_type": "code",
      "source": [
        "print(b.T)"
      ],
      "metadata": {
        "colab": {
          "base_uri": "https://localhost:8080/"
        },
        "id": "CrvK-gWFP3jW",
        "outputId": "a6c68138-2159-44c1-ff7e-e86bfa96011e"
      },
      "execution_count": 20,
      "outputs": [
        {
          "output_type": "stream",
          "name": "stdout",
          "text": [
            "[[1 3 5 7]\n",
            " [2 4 6 8]]\n"
          ]
        }
      ]
    },
    {
      "cell_type": "code",
      "source": [
        "# Adding/Removing Elements\n",
        "a = np.array([1, 2, 3, 4])     # 建立a陣列\n",
        "b = np.array([6, 7, 8, 9])\n",
        "np.append(a, 5)"
      ],
      "metadata": {
        "colab": {
          "base_uri": "https://localhost:8080/"
        },
        "id": "Vz0s-xnLQEdC",
        "outputId": "2ae2e87c-17fc-4cee-dee3-1720aa873e92"
      },
      "execution_count": 22,
      "outputs": [
        {
          "output_type": "execute_result",
          "data": {
            "text/plain": [
              "array([1, 2, 3, 4, 5])"
            ]
          },
          "metadata": {},
          "execution_count": 22
        }
      ]
    },
    {
      "cell_type": "code",
      "source": [
        "np.insert(a, 1, 0)"
      ],
      "metadata": {
        "colab": {
          "base_uri": "https://localhost:8080/"
        },
        "id": "ZMePukZiQard",
        "outputId": "08729463-5277-4b41-a90f-09c2e8dea0ad"
      },
      "execution_count": 23,
      "outputs": [
        {
          "output_type": "execute_result",
          "data": {
            "text/plain": [
              "array([1, 0, 2, 3, 4])"
            ]
          },
          "metadata": {},
          "execution_count": 23
        }
      ]
    },
    {
      "cell_type": "code",
      "source": [
        "np.delete(b, [2])"
      ],
      "metadata": {
        "colab": {
          "base_uri": "https://localhost:8080/"
        },
        "id": "aNEt4UEmQcHC",
        "outputId": "5a4e7a6a-fd01-4b10-9fad-c3c8d88e18dd"
      },
      "execution_count": 24,
      "outputs": [
        {
          "output_type": "execute_result",
          "data": {
            "text/plain": [
              "array([6, 7, 9])"
            ]
          },
          "metadata": {},
          "execution_count": 24
        }
      ]
    },
    {
      "cell_type": "code",
      "source": [
        "a.resize((2,2))\n",
        "a"
      ],
      "metadata": {
        "colab": {
          "base_uri": "https://localhost:8080/"
        },
        "id": "7pD5eH3HQk89",
        "outputId": "3a91fb2b-0b58-4030-ba90-127be6340697"
      },
      "execution_count": 26,
      "outputs": [
        {
          "output_type": "execute_result",
          "data": {
            "text/plain": [
              "array([[1, 2],\n",
              "       [3, 4]])"
            ]
          },
          "metadata": {},
          "execution_count": 26
        }
      ]
    },
    {
      "cell_type": "markdown",
      "source": [
        "* Combining Arrays\n",
        "利用NumPy將array間做彼此合併或連結的方法很多，這裡先簡單介紹一些常用的方式。\n",
        "* vstack：垂直方向合併\n",
        "* hstack：水平方向合併"
      ],
      "metadata": {
        "id": "bSM2j15LO7RQ"
      }
    },
    {
      "cell_type": "code",
      "source": [
        "a = np.array([(1, 2), (3, 4)])\n",
        "b = np.array([(5, 6), (7, 8)])\n",
        "np.vstack((a, b))"
      ],
      "metadata": {
        "colab": {
          "base_uri": "https://localhost:8080/"
        },
        "id": "GLc3bfXoQ1xk",
        "outputId": "63283153-ee93-431e-94a9-3971ce635d2c"
      },
      "execution_count": 27,
      "outputs": [
        {
          "output_type": "execute_result",
          "data": {
            "text/plain": [
              "array([[1, 2],\n",
              "       [3, 4],\n",
              "       [5, 6],\n",
              "       [7, 8]])"
            ]
          },
          "metadata": {},
          "execution_count": 27
        }
      ]
    },
    {
      "cell_type": "code",
      "source": [
        "np.hstack((a, b))"
      ],
      "metadata": {
        "colab": {
          "base_uri": "https://localhost:8080/"
        },
        "id": "hFMi_7rGQ5ax",
        "outputId": "91f6610c-5a41-423c-ac2c-be04fbe0adda"
      },
      "execution_count": 28,
      "outputs": [
        {
          "output_type": "execute_result",
          "data": {
            "text/plain": [
              "array([[1, 2, 5, 6],\n",
              "       [3, 4, 7, 8]])"
            ]
          },
          "metadata": {},
          "execution_count": 28
        }
      ]
    },
    {
      "cell_type": "code",
      "source": [
        "#concatenate (axis = 0)：沿垂直方向合併\n",
        "#concatenate (axis = 1)：沿水平方向合併\n",
        "np.concatenate((a, b), axis = 0)   # axis=0，沿垂直方向合併\n",
        "np.concatenate((a, b), axis = 1)   # axis=1，沿水平方向合併"
      ],
      "metadata": {
        "colab": {
          "base_uri": "https://localhost:8080/"
        },
        "id": "Quu-_c45RC_3",
        "outputId": "fd269538-cbc8-433c-9f4f-21e8530a7615"
      },
      "execution_count": 29,
      "outputs": [
        {
          "output_type": "execute_result",
          "data": {
            "text/plain": [
              "array([[1, 2, 5, 6],\n",
              "       [3, 4, 7, 8]])"
            ]
          },
          "metadata": {},
          "execution_count": 29
        }
      ]
    },
    {
      "cell_type": "markdown",
      "source": [
        "# Splitting Arrays\n",
        "* 跟Combining Arrays一樣，NumPy提供一些在不同軸向的切割方式，如下說明：\n",
        "* vsplit：垂直方向分割\n",
        "* hsplit：水平方向分割"
      ],
      "metadata": {
        "id": "q5aic5zxRByU"
      }
    },
    {
      "cell_type": "code",
      "source": [
        "a = np.array([(1, 2, 3, 4, 5, 6), (-1, -2, -3, -4, -5, -6), (2, 4, 6, 8, 10, 12)])\n",
        "a\n",
        "np.vsplit(a, 3)                # 垂直方向分割\n",
        "#[array([[1, 2, 3, 4, 5, 6]]), array([[-1, -2, -3, -4, -5, -6]]), array([[ 2, 4, 6, 8, 10, 12]])]\n",
        "np.hsplit(a, 2)                # 水平方向分割\n",
        "# [array([[ 1, 2, 3],\n",
        "#  [-1, -2, -3],\n",
        "#  [ 2, 4, 6]]), array([[ 4, 5, 6],\n",
        "#  [-4, -5, -6],\n",
        "#  [ 8, 10, 12]])]\n",
        "np.split(a, 3, axis=0)         # axis=0，沿垂直方向分割\n",
        "# [array([[1, 2, 3, 4, 5, 6]]), array([[-1, -2, -3, -4, -5, -6]]), array([[ 2, 4, 6, 8, 10, 12]])]\n",
        "np.split(a, 2, axis=1)         # axis=1，沿水平方向分割\n"
      ],
      "metadata": {
        "colab": {
          "base_uri": "https://localhost:8080/"
        },
        "id": "x68s_UohReMJ",
        "outputId": "68f3146b-9c91-4c0b-cb4e-2891ad0b164e"
      },
      "execution_count": 30,
      "outputs": [
        {
          "output_type": "execute_result",
          "data": {
            "text/plain": [
              "[array([[ 1,  2,  3],\n",
              "        [-1, -2, -3],\n",
              "        [ 2,  4,  6]]),\n",
              " array([[ 4,  5,  6],\n",
              "        [-4, -5, -6],\n",
              "        [ 8, 10, 12]])]"
            ]
          },
          "metadata": {},
          "execution_count": 30
        }
      ]
    }
  ]
}