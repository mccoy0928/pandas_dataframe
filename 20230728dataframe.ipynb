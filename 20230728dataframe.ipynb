{
  "nbformat": 4,
  "nbformat_minor": 0,
  "metadata": {
    "colab": {
      "provenance": [],
      "toc_visible": true,
      "authorship_tag": "ABX9TyOCYosXUfB0KapPswdWD+HS",
      "include_colab_link": true
    },
    "kernelspec": {
      "name": "python3",
      "display_name": "Python 3"
    },
    "language_info": {
      "name": "python"
    }
  },
  "cells": [
    {
      "cell_type": "markdown",
      "metadata": {
        "id": "view-in-github",
        "colab_type": "text"
      },
      "source": [
        "<a href=\"https://colab.research.google.com/github/mccoy0928/pandas_dataframe/blob/main/20230728dataframe.ipynb\" target=\"_parent\"><img src=\"https://colab.research.google.com/assets/colab-badge.svg\" alt=\"Open In Colab\"/></a>"
      ]
    },
    {
      "cell_type": "markdown",
      "source": [
        "# Python pandas DataFrame 行列的常用操作及运算\n",
        "\n",
        "## 1、DataFrame的常用操作\n",
        "\n",
        "* 1）查看DataFrame的大小"
      ],
      "metadata": {
        "id": "VadPqMm0A9Qn"
      }
    },
    {
      "cell_type": "code",
      "execution_count": 1,
      "metadata": {
        "colab": {
          "base_uri": "https://localhost:8080/"
        },
        "id": "WCLen8RzA4Wa",
        "outputId": "5fbf8de7-84cd-4e92-ccbd-b79eabea5f4e"
      },
      "outputs": [
        {
          "output_type": "stream",
          "name": "stdout",
          "text": [
            "(3, 4)\n"
          ]
        }
      ],
      "source": [
        "import pandas as pd\n",
        "\n",
        "df = pd.DataFrame([[10,6,7,8],\n",
        "                   [1,9,12,14],\n",
        "                   [5,8,10,6]],\n",
        "                  columns = ['a','b','c','d'])\n",
        "print(df.shape)"
      ]
    },
    {
      "cell_type": "markdown",
      "source": [
        "  * 2）查看DataFrame的列名(columns)"
      ],
      "metadata": {
        "id": "FzcshRagBbXA"
      }
    },
    {
      "cell_type": "code",
      "source": [
        "df = pd.DataFrame([[10,6,7,8],\n",
        "                   [1,9,12,14],\n",
        "                   [5,8,10,6]],\n",
        "                  columns = ['a','b','c','d'])\n",
        "print(df.columns)"
      ],
      "metadata": {
        "colab": {
          "base_uri": "https://localhost:8080/"
        },
        "id": "1pezB01vBmnG",
        "outputId": "ace2f406-438b-494a-ad77-b3107643afc6"
      },
      "execution_count": 2,
      "outputs": [
        {
          "output_type": "stream",
          "name": "stdout",
          "text": [
            "Index(['a', 'b', 'c', 'd'], dtype='object')\n"
          ]
        }
      ]
    },
    {
      "cell_type": "markdown",
      "source": [
        "  * 3）查看DataFrame的行名(index)"
      ],
      "metadata": {
        "id": "w4-6oxvPB7di"
      }
    },
    {
      "cell_type": "code",
      "source": [
        "df = pd.DataFrame([[10,6,7,8],\n",
        "                   [1,9,12,14],\n",
        "                   [5,8,10,6]],\n",
        "                  columns = ['a','b','c','d'])\n",
        "print(df.index)"
      ],
      "metadata": {
        "colab": {
          "base_uri": "https://localhost:8080/"
        },
        "id": "MgMN5e95B417",
        "outputId": "a24c3ee1-d02d-4ae1-e532-48dbc3bbc885"
      },
      "execution_count": 3,
      "outputs": [
        {
          "output_type": "stream",
          "name": "stdout",
          "text": [
            "RangeIndex(start=0, stop=3, step=1)\n"
          ]
        }
      ]
    },
    {
      "cell_type": "markdown",
      "source": [
        "  * 4）查看每行的数据类型"
      ],
      "metadata": {
        "id": "KUiESKN7CE_m"
      }
    },
    {
      "cell_type": "code",
      "source": [
        "df = pd.DataFrame([[10,6,7,8],\n",
        "                   [1,9,12,14],\n",
        "                   [5,8,10,6]],\n",
        "                  columns = ['a','b','c','d'])\n",
        "print(df.dtypes)"
      ],
      "metadata": {
        "colab": {
          "base_uri": "https://localhost:8080/"
        },
        "id": "IUSZK27sCFnN",
        "outputId": "dbb64807-6ee8-47c8-bf19-d7daa56ee664"
      },
      "execution_count": 4,
      "outputs": [
        {
          "output_type": "stream",
          "name": "stdout",
          "text": [
            "a    int64\n",
            "b    int64\n",
            "c    int64\n",
            "d    int64\n",
            "dtype: object\n"
          ]
        }
      ]
    },
    {
      "cell_type": "markdown",
      "source": [
        "  * 5）查看行列的内容"
      ],
      "metadata": {
        "id": "86HCPuBjCN8R"
      }
    },
    {
      "cell_type": "code",
      "source": [
        "df = pd.DataFrame([[10,6,7,8],\n",
        "                   [1,9,12,14],\n",
        "                   [5,8,10,6]],\n",
        "                  columns = ['a','b','c','d'])\n",
        "print(df)\n",
        "print(df.iloc[-1]) #选取DataFrame最后一行，返回的是Series\n",
        "print(df.iloc[-1:]) #选取DataFrame最后一行，返回的是DataFrame\n",
        "print(df.loc[0:1,'b':'c']) #这种用于选取行索引列索引已知\n",
        "print(df.iat[1,1]) #选取第二行第二列，用于已知行、列位置的选取。\n",
        "print(df.head(2)) #查看前两行的内容\n",
        "print(df.tail(2)) #查看后两行的内容\n",
        "print(df.loc[[df.index[0],df.index[1]]]) #通过label查看\n",
        "print(df.loc[[df.index[-2],df.index[-1]]])"
      ],
      "metadata": {
        "colab": {
          "base_uri": "https://localhost:8080/"
        },
        "id": "NhhjV23pCOUi",
        "outputId": "0e158d52-f564-4eb5-a56d-dcab524bd4c6"
      },
      "execution_count": 5,
      "outputs": [
        {
          "output_type": "stream",
          "name": "stdout",
          "text": [
            "    a  b   c   d\n",
            "0  10  6   7   8\n",
            "1   1  9  12  14\n",
            "2   5  8  10   6\n",
            "a     5\n",
            "b     8\n",
            "c    10\n",
            "d     6\n",
            "Name: 2, dtype: int64\n",
            "   a  b   c  d\n",
            "2  5  8  10  6\n",
            "   b   c\n",
            "0  6   7\n",
            "1  9  12\n",
            "9\n",
            "    a  b   c   d\n",
            "0  10  6   7   8\n",
            "1   1  9  12  14\n",
            "   a  b   c   d\n",
            "1  1  9  12  14\n",
            "2  5  8  10   6\n",
            "    a  b   c   d\n",
            "0  10  6   7   8\n",
            "1   1  9  12  14\n",
            "   a  b   c   d\n",
            "1  1  9  12  14\n",
            "2  5  8  10   6\n"
          ]
        }
      ]
    },
    {
      "cell_type": "markdown",
      "source": [
        "  * 6）查看每一列数据的整体特征"
      ],
      "metadata": {
        "id": "db1yj6pBCkk7"
      }
    },
    {
      "cell_type": "code",
      "source": [
        "df = pd.DataFrame([[10,6,7,8],\n",
        "                   [1,9,12,14],\n",
        "                   [5,8,10,6]],\n",
        "                  columns = ['a','b','c','d'])\n",
        "print(df.describe())"
      ],
      "metadata": {
        "colab": {
          "base_uri": "https://localhost:8080/"
        },
        "id": "6INKSsnuCk7M",
        "outputId": "b9d48dde-1697-4fb3-d49a-a0f62280eab8"
      },
      "execution_count": 6,
      "outputs": [
        {
          "output_type": "stream",
          "name": "stdout",
          "text": [
            "               a         b          c          d\n",
            "count   3.000000  3.000000   3.000000   3.000000\n",
            "mean    5.333333  7.666667   9.666667   9.333333\n",
            "std     4.509250  1.527525   2.516611   4.163332\n",
            "min     1.000000  6.000000   7.000000   6.000000\n",
            "25%     3.000000  7.000000   8.500000   7.000000\n",
            "50%     5.000000  8.000000  10.000000   8.000000\n",
            "75%     7.500000  8.500000  11.000000  11.000000\n",
            "max    10.000000  9.000000  12.000000  14.000000\n"
          ]
        }
      ]
    },
    {
      "cell_type": "markdown",
      "source": [
        "  * 7）对DataFrame进行倒置"
      ],
      "metadata": {
        "id": "_WpW1UEzCv7v"
      }
    },
    {
      "cell_type": "code",
      "source": [
        "df = pd.DataFrame([[10,6,7,8],\n",
        "                   [1,9,12,14],\n",
        "                   [5,8,10,6]],\n",
        "                  columns = ['a','b','c','d'])\n",
        "print(df.T)"
      ],
      "metadata": {
        "colab": {
          "base_uri": "https://localhost:8080/"
        },
        "id": "gejXanbRCwWA",
        "outputId": "fb546ee7-a0c4-42fb-e757-ed442388b211"
      },
      "execution_count": 7,
      "outputs": [
        {
          "output_type": "stream",
          "name": "stdout",
          "text": [
            "    0   1   2\n",
            "a  10   1   5\n",
            "b   6   9   8\n",
            "c   7  12  10\n",
            "d   8  14   6\n"
          ]
        }
      ]
    },
    {
      "cell_type": "markdown",
      "source": [
        "## 2、DataFrame的行列运算\n",
        "\n",
        "  * 1）DataFrame中两列数据相加减"
      ],
      "metadata": {
        "id": "sZ1JGVeCDA6I"
      }
    },
    {
      "cell_type": "code",
      "source": [
        "df = pd.DataFrame([[10,6,7,8],\n",
        "                   [1,9,12,14],\n",
        "                   [5,8,10,6]],\n",
        "                  columns = ['a','b','c','d'])\n",
        "\n",
        "df['d - a'] = df['d'] - df['a']\n",
        "df['d + a'] = df['d'] + df['a']\n",
        "\n",
        "\n",
        "print(df)"
      ],
      "metadata": {
        "colab": {
          "base_uri": "https://localhost:8080/"
        },
        "id": "YiscYdAEDLMO",
        "outputId": "8ae58c9c-fe42-4b2e-88e4-b0a8ba60c29e"
      },
      "execution_count": 8,
      "outputs": [
        {
          "output_type": "stream",
          "name": "stdout",
          "text": [
            "    a  b   c   d  d - a  d + a\n",
            "0  10  6   7   8     -2     18\n",
            "1   1  9  12  14     13     15\n",
            "2   5  8  10   6      1     11\n"
          ]
        }
      ]
    },
    {
      "cell_type": "markdown",
      "source": [
        "  * 2）DataFrame中两行数据相加减"
      ],
      "metadata": {
        "id": "0FPTIsyzDXkn"
      }
    },
    {
      "cell_type": "code",
      "source": [
        "df = pd.DataFrame([[10,6,7,8],\n",
        "                   [1,9,12,14],\n",
        "                   [5,8,10,6]],\n",
        "                  columns = ['a','b','c','d'])\n",
        "\n",
        "print(df[df.a==10].values-df[df.a==1].values)\n",
        "print(df[df.a==10].values+df[df.a==1].values)"
      ],
      "metadata": {
        "colab": {
          "base_uri": "https://localhost:8080/"
        },
        "id": "LwdNDoQmDcWR",
        "outputId": "5bbdcf35-0e7c-4c2f-afb3-226635bcf4fb"
      },
      "execution_count": 9,
      "outputs": [
        {
          "output_type": "stream",
          "name": "stdout",
          "text": [
            "[[ 9 -3 -5 -6]]\n",
            "[[11 15 19 22]]\n"
          ]
        }
      ]
    }
  ]
}