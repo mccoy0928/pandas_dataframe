{
  "nbformat": 4,
  "nbformat_minor": 0,
  "metadata": {
    "colab": {
      "provenance": [],
      "toc_visible": true,
      "authorship_tag": "ABX9TyN1XeCfVX81X/T6T1nBzIpW",
      "include_colab_link": true
    },
    "kernelspec": {
      "name": "python3",
      "display_name": "Python 3"
    },
    "language_info": {
      "name": "python"
    }
  },
  "cells": [
    {
      "cell_type": "markdown",
      "metadata": {
        "id": "view-in-github",
        "colab_type": "text"
      },
      "source": [
        "<a href=\"https://colab.research.google.com/github/mccoy0928/pandas_dataframe/blob/main/markdown_try_it.ipynb\" target=\"_parent\"><img src=\"https://colab.research.google.com/assets/colab-badge.svg\" alt=\"Open In Colab\"/></a>"
      ]
    },
    {
      "cell_type": "markdown",
      "source": [
        "# MarkDown 語法\n",
        "\n",
        "標題\n",
        "===\n",
        "\n",
        "副標題\n",
        "---\n",
        "\n",
        "字體大小\n",
        "\n",
        "# H1\n",
        "## H1\n",
        "### H1\n",
        "#### H1\n",
        "##### H1\n",
        "###### H1"
      ],
      "metadata": {
        "id": "z1x-mSB1OsMO"
      }
    },
    {
      "cell_type": "markdown",
      "source": [
        "*斜體字*\n",
        "\n",
        "**粗體字**\n",
        "\n",
        "***斜體兼粗體***\n",
        "\n",
        "~~刪除線~~\n",
        "\n",
        "_斜體2_\n",
        "\n",
        "__斜粗2__\n",
        "\n",
        "正常^上標^\n",
        "\n",
        "正常~下標~\n",
        "\n",
        "++底線++\n",
        "\n",
        "==螢光標記=="
      ],
      "metadata": {
        "id": "UBm3sc2pPZ8u"
      }
    },
    {
      "cell_type": "markdown",
      "source": [
        ">縮排語法\n",
        ">第一層\n",
        ">>第二層\n",
        ">>>第三層"
      ],
      "metadata": {
        "id": "RX8o7b7SPvEq"
      }
    },
    {
      "cell_type": "markdown",
      "source": [
        "# 標號\n",
        "\n",
        "1. 數字標號\n",
        "2. 數字標號\n",
        "3. 數字標號\n",
        "- 其他標號\n",
        "+ 其他標號\n",
        "* 其他標號"
      ],
      "metadata": {
        "id": "RsREaDAGQGVm"
      }
    },
    {
      "cell_type": "markdown",
      "source": [
        "[Tab]縮排\n",
        "行末按兩個空格  産生斷行 (．↲)。\n",
        "\n",
        "  縮排\n",
        "\n",
        "  縮排+2空格  \n",
        "  \n"
      ],
      "metadata": {
        "id": "4WWKvD9IQXEo"
      }
    },
    {
      "cell_type": "markdown",
      "source": [
        "# 巢狀標號\n",
        "\n",
        "- 無序清單\n",
        "- 無序清單\n",
        "    - 無序清單子清單\n",
        "        - 無序清單子子清單\n",
        "\n",
        "1. 有序清單\n",
        "2. 有序清單\n",
        "    1. 有序清單子清單\n",
        "        1. 有序清單子子清單"
      ],
      "metadata": {
        "id": "NOn7gi7xQ0Tc"
      }
    },
    {
      "cell_type": "markdown",
      "source": [
        "# 定義清單\n",
        "\n",
        "名詞1\n",
        "\n",
        ": 解釋1\n",
        "\n",
        "名字2\n",
        "\n",
        ": 解釋2\n",
        "\n",
        "名詞 3\n",
        "\n",
        "~ 定義 3\n",
        "\n",
        "~ 定義 3"
      ],
      "metadata": {
        "id": "5sL4RbKLQ7Zs"
      }
    },
    {
      "cell_type": "markdown",
      "source": [
        "# 連結名單\n",
        "[連結名稱](https://google.com \"游標顯示\")"
      ],
      "metadata": {
        "id": "0GV1gu1IRXS1"
      }
    },
    {
      "cell_type": "markdown",
      "source": [
        "# 簡易超連結\n",
        "\n",
        "<https://google.com>\n",
        "\n",
        "<test@google.com>"
      ],
      "metadata": {
        "id": "2IWfZKv4RifS"
      }
    },
    {
      "cell_type": "markdown",
      "source": [
        "# 分割線\n",
        "\n",
        "1.\n",
        "空行\n",
        "---\n",
        "\n",
        "2.\n",
        "***\n",
        "\n",
        "3.\n",
        "- - -\n",
        "\n",
        "4.\n",
        "* * *\n",
        "---"
      ],
      "metadata": {
        "id": "Q74fQxIRR90V"
      }
    },
    {
      "cell_type": "markdown",
      "source": [
        "# 程式碼\n",
        "\n",
        "```程式類型\n",
        "程式碼\n",
        "```\n",
        "\n",
        "```程式類型=\n",
        "1.程式碼\n",
        "2.程式碼\n",
        "```\n",
        "\n",
        "```=\n",
        "1+#include <stdio.h>\n",
        "2+int main(){\n",
        "3+    printf(\"Hello World\");\n",
        "4+    return 0;\n",
        "5+}\n",
        "\n",
        "```"
      ],
      "metadata": {
        "id": "bT0I-OG_STC-"
      }
    },
    {
      "cell_type": "markdown",
      "source": [
        "# 標籤連結\n",
        "[Google][1]\n",
        "\n",
        "[Yahoo][2]\n",
        "\n",
        "[MSN][3]\n",
        "\n",
        "  [1]: http://google.com/        \"游標顯示\"\n",
        "  [2]: http://search.yahoo.com/  \"游標顯示\"\n",
        "  [3]: http://search.msn.com/    \"游標顯示\""
      ],
      "metadata": {
        "id": "ho1Dx4D_TZIY"
      }
    },
    {
      "cell_type": "markdown",
      "source": [
        "# 圖片\n",
        "![圖片名稱](https://img.icons8.com/?size=2x&id=ZvrDVl1ZH6xX&format=gif \"游標顯示\")\n",
        "\n",
        "# 圖片超連結\n",
        "[![圖片名稱](https://img.icons8.com/?size=2x&id=ZvrDVl1ZH6xX&format=gif \"游標顯示\")](https://img.icons8.com/?size=2x&id=ZvrDVl1ZH6xX&format=gif)\n",
        "\n"
      ],
      "metadata": {
        "id": "jUP_Yr6YTmu9"
      }
    },
    {
      "cell_type": "markdown",
      "source": [
        "# 表格\n",
        "\n",
        "| 欄位1 | 欄位2 | 欄位3 |\n",
        "| :-- | --: |:--:|\n",
        "| 置左  | 置右 | 置中 |"
      ],
      "metadata": {
        "id": "oXD24XVeUwQ6"
      }
    },
    {
      "cell_type": "markdown",
      "source": [
        "# 短區塊\n",
        "`block test it`\n",
        "\n",
        "# check box\n",
        " - [ ] uncheck\n",
        " - [x] check\n",
        "\n",
        "# 跳脫字元\n",
        "\\+任意符號\n",
        "\n",
        "\\%\n",
        "\n",
        "\\#\n",
        "\n"
      ],
      "metadata": {
        "id": "-bKfNgcKVDAb"
      }
    },
    {
      "cell_type": "code",
      "execution_count": null,
      "metadata": {
        "id": "a0ROHnreOoBv"
      },
      "outputs": [],
      "source": []
    }
  ]
}