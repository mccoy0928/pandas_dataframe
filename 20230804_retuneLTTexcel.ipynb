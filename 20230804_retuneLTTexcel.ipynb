{
  "nbformat": 4,
  "nbformat_minor": 0,
  "metadata": {
    "colab": {
      "provenance": [],
      "gpuType": "T4",
      "authorship_tag": "ABX9TyNePq4Ji4LqwZ13O3TzQcIr",
      "include_colab_link": true
    },
    "kernelspec": {
      "name": "python3",
      "display_name": "Python 3"
    },
    "language_info": {
      "name": "python"
    }
  },
  "cells": [
    {
      "cell_type": "markdown",
      "metadata": {
        "id": "view-in-github",
        "colab_type": "text"
      },
      "source": [
        "<a href=\"https://colab.research.google.com/github/mccoy0928/pandas_dataframe/blob/main/20230804_retuneLTTexcel.ipynb\" target=\"_parent\"><img src=\"https://colab.research.google.com/assets/colab-badge.svg\" alt=\"Open In Colab\"/></a>"
      ]
    },
    {
      "cell_type": "markdown",
      "source": [
        "# 20230803 update\n",
        "\n",
        "# 練習myData圖形繪製\n",
        "\n",
        "## 20230729 use seaborn 製作直方圖+KDE\n",
        "\n",
        "# 20230804 針對LTT設備讀取資料分析\n",
        "\n",
        "## 20230804 將34*80,資料轉換標準68*40, Row1~Row40(R1,R3,R5...), 68*40(R2,R4,R6......)\n",
        "\n"
      ],
      "metadata": {
        "id": "ustuvS9-Gg5N"
      }
    },
    {
      "cell_type": "code",
      "execution_count": null,
      "metadata": {
        "id": "jDYOjgLsGZte"
      },
      "outputs": [],
      "source": [
        "import pandas as pd\n",
        "import matplotlib.pyplot as plt\n",
        "import numpy as np\n"
      ]
    },
    {
      "cell_type": "code",
      "source": [
        "# from google.colab import drive\n",
        "# drive.mount('/content/drive')"
      ],
      "metadata": {
        "id": "d3mHKTn_L93i"
      },
      "execution_count": null,
      "outputs": []
    },
    {
      "cell_type": "markdown",
      "source": [
        "## 資料讀取轉換"
      ],
      "metadata": {
        "id": "8uRD0nznHCSi"
      }
    },
    {
      "cell_type": "code",
      "source": [
        "# # 20230803 for JPT data read\n",
        "# myfile = \"myData06.xlsx\"  # 請變更讀取檔名 xlsx\n",
        "# df = pd.read_excel(myfile, sheet_name = \"工作表1\")\n",
        "# # print(df)\n",
        "# # type(df)\n",
        "# # len(df)\n",
        "# # df.head()"
      ],
      "metadata": {
        "id": "W-EjQg0kHJS1"
      },
      "execution_count": null,
      "outputs": []
    },
    {
      "cell_type": "code",
      "source": [
        "#20200804 for TF3050 data read\n",
        "myfile = \"myData.xlsx\"  # 請變更讀取檔名 xlsx\n",
        "df = pd.read_excel(myfile, sheet_name = \"工作表1\")"
      ],
      "metadata": {
        "id": "2Tk-9i-KJL2Y"
      },
      "execution_count": 142,
      "outputs": []
    },
    {
      "cell_type": "code",
      "source": [
        "# from IPython.utils.py3compat import encode\n",
        "# temp = pd.read_csv('2ndrow.csv')\n",
        "# print(temp)"
      ],
      "metadata": {
        "id": "hzXsSHtr5bLD"
      },
      "execution_count": null,
      "outputs": []
    },
    {
      "cell_type": "code",
      "source": [
        "# for JPT 20230803\n",
        "df2 = pd.read_excel(myfile, sheet_name = \"工作表1\", usecols=\"B:AO\")  #40 rows 讀取欄位名only 針對熱力圖所需\n",
        "# # df2.head()\n",
        "\n",
        "# for TF3050 20230804\n",
        "# df2 = pd.read_excel(myfile, sheet_name='工作表1', usecols='B:CC')  # 80 rows"
      ],
      "metadata": {
        "id": "Dg2_2NDlIHau"
      },
      "execution_count": 143,
      "outputs": []
    },
    {
      "cell_type": "code",
      "source": [
        "dftemp = df2"
      ],
      "metadata": {
        "id": "bzL4z4juhjS6"
      },
      "execution_count": 144,
      "outputs": []
    },
    {
      "cell_type": "code",
      "source": [
        "# set20 = df2.columns[:20] #列出column名稱\n",
        "# merchiDF=pd.DataFrame(np.array([[1,2,3],[4,5,6],[1,2,1]]), columns=['A', 'B', 'C'])\n",
        "# merchiDF\n",
        "# newdata=np.array(temp1[:40])\n",
        "# newdata2=np.array(temp2[:40])\n",
        "# newcol=df2.columns[:40]\n",
        "# merchi=pd.DataFrame(newdata, columns=newcol)\n",
        "# merchi2=pd.DataFrame(newdata2, columns=newcol)\n",
        "# merchi2.loc[0,:]\n",
        "# newCol=[]\n",
        "# for i in set20:\n",
        "#   newCol.append(i)\n",
        "# print(newCol)"
      ],
      "metadata": {
        "id": "bab9PPnTV_OF"
      },
      "execution_count": null,
      "outputs": []
    },
    {
      "cell_type": "code",
      "source": [
        "# temp1 = df2.iloc[:, :20]\n",
        "# temp2 = df2.iloc[:,20:]\n",
        "# ta ={\n",
        "#     \"Row 1\":[1.00, 1.22, 1.33],\n",
        "#     \"Row 2\":[1.11, 1.55, 1.23],\n",
        "#     \"Row 3\":[1.21, 1.32, 1.42]\n",
        "\n",
        "# }\n",
        "# tb = {\n",
        "#     \"Row 1\":[1.33, 1.11, 1.11],\n",
        "#     \"Row 2\":[1.52, 1.42, 1.23],\n",
        "#     \"Row 3\":[1.25, 1.34, 1.33]\n",
        "# }\n",
        "# temp1 =pd.DataFrame(ta)\n",
        "# temp2= pd.DataFrame(tb)"
      ],
      "metadata": {
        "id": "a9Hia0WfNUHq"
      },
      "execution_count": 136,
      "outputs": []
    },
    {
      "cell_type": "code",
      "source": [
        "# print(temp1,\"\\n\", temp2)"
      ],
      "metadata": {
        "id": "5JfPa6LQoUu4"
      },
      "execution_count": null,
      "outputs": []
    },
    {
      "cell_type": "code",
      "source": [
        "#********************************************\n",
        "# Inserting a Row at a Specific Index\n",
        "# df.loc[1.5] = ['Jane', 25, 'Madrid']\n",
        "# df = df.sort_index().reset_index(drop=True)\n",
        "#********************************************\n",
        "\n",
        "# temp1.loc[0.5]=temp2.loc[0]  # 先行插入半格位置，再重新定義index\n",
        "# temp1=temp1.sort_index().reset_index(drop=True)"
      ],
      "metadata": {
        "id": "Vj7WXiBsoeyb"
      },
      "execution_count": 124,
      "outputs": []
    },
    {
      "cell_type": "code",
      "source": [
        "# for i in temp2.index:\n",
        "#   temp1.loc[i+0.5]=temp2.loc[i]\n",
        "# temp1=temp1.sort_index().reset_index(drop=True)\n"
      ],
      "metadata": {
        "id": "OtydMS-tyQOb"
      },
      "execution_count": 140,
      "outputs": []
    },
    {
      "cell_type": "code",
      "source": [],
      "metadata": {
        "id": "ePeFs4BfxaQZ"
      },
      "execution_count": 138,
      "outputs": []
    },
    {
      "cell_type": "code",
      "source": [
        "# temp1.drop([1])\n",
        "# temp1"
      ],
      "metadata": {
        "colab": {
          "base_uri": "https://localhost:8080/",
          "height": 328
        },
        "id": "EFdJXOmVzCOZ",
        "outputId": "8357bc9c-a754-4001-aaf6-8bf612f723c0"
      },
      "execution_count": 141,
      "outputs": [
        {
          "output_type": "execute_result",
          "data": {
            "text/plain": [
              "   Row 1  Row 2  Row 3\n",
              "0   1.00   1.11   1.21\n",
              "1   1.33   1.52   1.25\n",
              "2   1.33   1.52   1.25\n",
              "3   1.11   1.42   1.34\n",
              "4   1.22   1.55   1.32\n",
              "5   1.11   1.23   1.33\n",
              "6   1.11   1.42   1.34\n",
              "7   1.33   1.23   1.42\n",
              "8   1.11   1.23   1.33"
            ],
            "text/html": [
              "\n",
              "\n",
              "  <div id=\"df-d5ac7f09-5b8b-4751-9279-efb45f579c85\">\n",
              "    <div class=\"colab-df-container\">\n",
              "      <div>\n",
              "<style scoped>\n",
              "    .dataframe tbody tr th:only-of-type {\n",
              "        vertical-align: middle;\n",
              "    }\n",
              "\n",
              "    .dataframe tbody tr th {\n",
              "        vertical-align: top;\n",
              "    }\n",
              "\n",
              "    .dataframe thead th {\n",
              "        text-align: right;\n",
              "    }\n",
              "</style>\n",
              "<table border=\"1\" class=\"dataframe\">\n",
              "  <thead>\n",
              "    <tr style=\"text-align: right;\">\n",
              "      <th></th>\n",
              "      <th>Row 1</th>\n",
              "      <th>Row 2</th>\n",
              "      <th>Row 3</th>\n",
              "    </tr>\n",
              "  </thead>\n",
              "  <tbody>\n",
              "    <tr>\n",
              "      <th>0</th>\n",
              "      <td>1.00</td>\n",
              "      <td>1.11</td>\n",
              "      <td>1.21</td>\n",
              "    </tr>\n",
              "    <tr>\n",
              "      <th>1</th>\n",
              "      <td>1.33</td>\n",
              "      <td>1.52</td>\n",
              "      <td>1.25</td>\n",
              "    </tr>\n",
              "    <tr>\n",
              "      <th>2</th>\n",
              "      <td>1.33</td>\n",
              "      <td>1.52</td>\n",
              "      <td>1.25</td>\n",
              "    </tr>\n",
              "    <tr>\n",
              "      <th>3</th>\n",
              "      <td>1.11</td>\n",
              "      <td>1.42</td>\n",
              "      <td>1.34</td>\n",
              "    </tr>\n",
              "    <tr>\n",
              "      <th>4</th>\n",
              "      <td>1.22</td>\n",
              "      <td>1.55</td>\n",
              "      <td>1.32</td>\n",
              "    </tr>\n",
              "    <tr>\n",
              "      <th>5</th>\n",
              "      <td>1.11</td>\n",
              "      <td>1.23</td>\n",
              "      <td>1.33</td>\n",
              "    </tr>\n",
              "    <tr>\n",
              "      <th>6</th>\n",
              "      <td>1.11</td>\n",
              "      <td>1.42</td>\n",
              "      <td>1.34</td>\n",
              "    </tr>\n",
              "    <tr>\n",
              "      <th>7</th>\n",
              "      <td>1.33</td>\n",
              "      <td>1.23</td>\n",
              "      <td>1.42</td>\n",
              "    </tr>\n",
              "    <tr>\n",
              "      <th>8</th>\n",
              "      <td>1.11</td>\n",
              "      <td>1.23</td>\n",
              "      <td>1.33</td>\n",
              "    </tr>\n",
              "  </tbody>\n",
              "</table>\n",
              "</div>\n",
              "      <button class=\"colab-df-convert\" onclick=\"convertToInteractive('df-d5ac7f09-5b8b-4751-9279-efb45f579c85')\"\n",
              "              title=\"Convert this dataframe to an interactive table.\"\n",
              "              style=\"display:none;\">\n",
              "\n",
              "  <svg xmlns=\"http://www.w3.org/2000/svg\" height=\"24px\"viewBox=\"0 0 24 24\"\n",
              "       width=\"24px\">\n",
              "    <path d=\"M0 0h24v24H0V0z\" fill=\"none\"/>\n",
              "    <path d=\"M18.56 5.44l.94 2.06.94-2.06 2.06-.94-2.06-.94-.94-2.06-.94 2.06-2.06.94zm-11 1L8.5 8.5l.94-2.06 2.06-.94-2.06-.94L8.5 2.5l-.94 2.06-2.06.94zm10 10l.94 2.06.94-2.06 2.06-.94-2.06-.94-.94-2.06-.94 2.06-2.06.94z\"/><path d=\"M17.41 7.96l-1.37-1.37c-.4-.4-.92-.59-1.43-.59-.52 0-1.04.2-1.43.59L10.3 9.45l-7.72 7.72c-.78.78-.78 2.05 0 2.83L4 21.41c.39.39.9.59 1.41.59.51 0 1.02-.2 1.41-.59l7.78-7.78 2.81-2.81c.8-.78.8-2.07 0-2.86zM5.41 20L4 18.59l7.72-7.72 1.47 1.35L5.41 20z\"/>\n",
              "  </svg>\n",
              "      </button>\n",
              "\n",
              "\n",
              "\n",
              "    <div id=\"df-e4281214-4c6c-41af-a0ff-f97ab5c35f28\">\n",
              "      <button class=\"colab-df-quickchart\" onclick=\"quickchart('df-e4281214-4c6c-41af-a0ff-f97ab5c35f28')\"\n",
              "              title=\"Suggest charts.\"\n",
              "              style=\"display:none;\">\n",
              "\n",
              "<svg xmlns=\"http://www.w3.org/2000/svg\" height=\"24px\"viewBox=\"0 0 24 24\"\n",
              "     width=\"24px\">\n",
              "    <g>\n",
              "        <path d=\"M19 3H5c-1.1 0-2 .9-2 2v14c0 1.1.9 2 2 2h14c1.1 0 2-.9 2-2V5c0-1.1-.9-2-2-2zM9 17H7v-7h2v7zm4 0h-2V7h2v10zm4 0h-2v-4h2v4z\"/>\n",
              "    </g>\n",
              "</svg>\n",
              "      </button>\n",
              "    </div>\n",
              "\n",
              "<style>\n",
              "  .colab-df-quickchart {\n",
              "    background-color: #E8F0FE;\n",
              "    border: none;\n",
              "    border-radius: 50%;\n",
              "    cursor: pointer;\n",
              "    display: none;\n",
              "    fill: #1967D2;\n",
              "    height: 32px;\n",
              "    padding: 0 0 0 0;\n",
              "    width: 32px;\n",
              "  }\n",
              "\n",
              "  .colab-df-quickchart:hover {\n",
              "    background-color: #E2EBFA;\n",
              "    box-shadow: 0px 1px 2px rgba(60, 64, 67, 0.3), 0px 1px 3px 1px rgba(60, 64, 67, 0.15);\n",
              "    fill: #174EA6;\n",
              "  }\n",
              "\n",
              "  [theme=dark] .colab-df-quickchart {\n",
              "    background-color: #3B4455;\n",
              "    fill: #D2E3FC;\n",
              "  }\n",
              "\n",
              "  [theme=dark] .colab-df-quickchart:hover {\n",
              "    background-color: #434B5C;\n",
              "    box-shadow: 0px 1px 3px 1px rgba(0, 0, 0, 0.15);\n",
              "    filter: drop-shadow(0px 1px 2px rgba(0, 0, 0, 0.3));\n",
              "    fill: #FFFFFF;\n",
              "  }\n",
              "</style>\n",
              "\n",
              "    <script>\n",
              "      async function quickchart(key) {\n",
              "        const containerElement = document.querySelector('#' + key);\n",
              "        const charts = await google.colab.kernel.invokeFunction(\n",
              "            'suggestCharts', [key], {});\n",
              "      }\n",
              "    </script>\n",
              "\n",
              "      <script>\n",
              "\n",
              "function displayQuickchartButton(domScope) {\n",
              "  let quickchartButtonEl =\n",
              "    domScope.querySelector('#df-e4281214-4c6c-41af-a0ff-f97ab5c35f28 button.colab-df-quickchart');\n",
              "  quickchartButtonEl.style.display =\n",
              "    google.colab.kernel.accessAllowed ? 'block' : 'none';\n",
              "}\n",
              "\n",
              "        displayQuickchartButton(document);\n",
              "      </script>\n",
              "      <style>\n",
              "    .colab-df-container {\n",
              "      display:flex;\n",
              "      flex-wrap:wrap;\n",
              "      gap: 12px;\n",
              "    }\n",
              "\n",
              "    .colab-df-convert {\n",
              "      background-color: #E8F0FE;\n",
              "      border: none;\n",
              "      border-radius: 50%;\n",
              "      cursor: pointer;\n",
              "      display: none;\n",
              "      fill: #1967D2;\n",
              "      height: 32px;\n",
              "      padding: 0 0 0 0;\n",
              "      width: 32px;\n",
              "    }\n",
              "\n",
              "    .colab-df-convert:hover {\n",
              "      background-color: #E2EBFA;\n",
              "      box-shadow: 0px 1px 2px rgba(60, 64, 67, 0.3), 0px 1px 3px 1px rgba(60, 64, 67, 0.15);\n",
              "      fill: #174EA6;\n",
              "    }\n",
              "\n",
              "    [theme=dark] .colab-df-convert {\n",
              "      background-color: #3B4455;\n",
              "      fill: #D2E3FC;\n",
              "    }\n",
              "\n",
              "    [theme=dark] .colab-df-convert:hover {\n",
              "      background-color: #434B5C;\n",
              "      box-shadow: 0px 1px 3px 1px rgba(0, 0, 0, 0.15);\n",
              "      filter: drop-shadow(0px 1px 2px rgba(0, 0, 0, 0.3));\n",
              "      fill: #FFFFFF;\n",
              "    }\n",
              "  </style>\n",
              "\n",
              "      <script>\n",
              "        const buttonEl =\n",
              "          document.querySelector('#df-d5ac7f09-5b8b-4751-9279-efb45f579c85 button.colab-df-convert');\n",
              "        buttonEl.style.display =\n",
              "          google.colab.kernel.accessAllowed ? 'block' : 'none';\n",
              "\n",
              "        async function convertToInteractive(key) {\n",
              "          const element = document.querySelector('#df-d5ac7f09-5b8b-4751-9279-efb45f579c85');\n",
              "          const dataTable =\n",
              "            await google.colab.kernel.invokeFunction('convertToInteractive',\n",
              "                                                     [key], {});\n",
              "          if (!dataTable) return;\n",
              "\n",
              "          const docLinkHtml = 'Like what you see? Visit the ' +\n",
              "            '<a target=\"_blank\" href=https://colab.research.google.com/notebooks/data_table.ipynb>data table notebook</a>'\n",
              "            + ' to learn more about interactive tables.';\n",
              "          element.innerHTML = '';\n",
              "          dataTable['output_type'] = 'display_data';\n",
              "          await google.colab.output.renderOutput(dataTable, element);\n",
              "          const docLink = document.createElement('div');\n",
              "          docLink.innerHTML = docLinkHtml;\n",
              "          element.appendChild(docLink);\n",
              "        }\n",
              "      </script>\n",
              "    </div>\n",
              "  </div>\n"
            ]
          },
          "metadata": {},
          "execution_count": 141
        }
      ]
    },
    {
      "cell_type": "code",
      "source": [
        "# for i in temp1.index:\n",
        "#   for j in newCol:\n",
        "#     print(temp1[j][i],\", \")"
      ],
      "metadata": {
        "id": "npvxOGX5jBqh"
      },
      "execution_count": null,
      "outputs": []
    },
    {
      "cell_type": "markdown",
      "source": [
        "## ndarray 便於運算\n",
        "\n",
        "* 可合併\n",
        "\n",
        "* 可加，減，乘，除"
      ],
      "metadata": {
        "id": "U-mINH-eitOR"
      }
    },
    {
      "cell_type": "code",
      "source": [
        "# len(df2)\n",
        "# arr1 = np.array(df2)\n",
        "# arr2 = np.array(dftemp)"
      ],
      "metadata": {
        "id": "KWgzNJeiTzSd"
      },
      "execution_count": 81,
      "outputs": []
    },
    {
      "cell_type": "code",
      "source": [
        "\n",
        "for i in range(68):\n",
        "  df2.loc[i+0.5]=dftemp.loc[i]\n",
        "\n",
        "df2=df2.sort_index().reset_index(drop=True)\n",
        "\n",
        "\n",
        "\n"
      ],
      "metadata": {
        "id": "CB9P3tCoiHmg"
      },
      "execution_count": 149,
      "outputs": []
    },
    {
      "cell_type": "code",
      "source": [
        "df2.shape"
      ],
      "metadata": {
        "colab": {
          "base_uri": "https://localhost:8080/"
        },
        "id": "iFmIQ-qu20F8",
        "outputId": "8113f495-85ac-475a-e05a-9ba1473fafc4"
      },
      "execution_count": 150,
      "outputs": [
        {
          "output_type": "execute_result",
          "data": {
            "text/plain": [
              "(136, 40)"
            ]
          },
          "metadata": {},
          "execution_count": 150
        }
      ]
    },
    {
      "cell_type": "code",
      "source": [
        "# sumArray"
      ],
      "metadata": {
        "id": "jaY61_FNihgx"
      },
      "execution_count": null,
      "outputs": []
    },
    {
      "cell_type": "code",
      "source": [
        "# df2.iat[67,39]   # iat[row, col]\n",
        "\n",
        "# len(df2.index)\n",
        "# len(df2.columns)\n",
        "# newDa=[]\n",
        "# for i in range(len(df2.index)):\n",
        "#   for j in newCol:\n",
        "#     newDa.append(df2.at[i,j])"
      ],
      "metadata": {
        "id": "6HOVf4UuS4c6"
      },
      "execution_count": null,
      "outputs": []
    },
    {
      "cell_type": "code",
      "source": [
        "# len(newDa)"
      ],
      "metadata": {
        "colab": {
          "base_uri": "https://localhost:8080/"
        },
        "id": "MdyuMIs3XtmA",
        "outputId": "edce5817-bf6e-4558-ce0d-8d8fac9addf1"
      },
      "execution_count": null,
      "outputs": [
        {
          "output_type": "execute_result",
          "data": {
            "text/plain": [
              "1360"
            ]
          },
          "metadata": {},
          "execution_count": 74
        }
      ]
    },
    {
      "cell_type": "code",
      "source": [
        "# df2.head(5)\n",
        "# type(df2)\n",
        "\n",
        "\n",
        "# temp1.insert(1,'newRow', -99.9) # 插入直向column欄位\n",
        "# temp2.columns=newCol  #更改column欄位名稱\n",
        "#\n",
        "# print(temp1.head(5))\n",
        "# temp2\n",
        "# temp2.head(3)"
      ],
      "metadata": {
        "id": "-6FaNvJ0N0yn"
      },
      "execution_count": null,
      "outputs": []
    },
    {
      "cell_type": "code",
      "source": [],
      "metadata": {
        "id": "M17Stjizmrrw"
      },
      "execution_count": null,
      "outputs": []
    },
    {
      "cell_type": "code",
      "source": [
        "myList = np.array(df2)\n",
        "df3 = df2.dropna()\n",
        "# myList\n",
        "# myList.shape"
      ],
      "metadata": {
        "id": "mB2zcXgeQCCT"
      },
      "execution_count": 151,
      "outputs": []
    },
    {
      "cell_type": "code",
      "source": [
        "# df3.shape"
      ],
      "metadata": {
        "colab": {
          "base_uri": "https://localhost:8080/"
        },
        "id": "w0QgDGW4KtDi",
        "outputId": "14b97953-a22f-4b88-8e6d-9d1be3be0fa0"
      },
      "execution_count": null,
      "outputs": [
        {
          "output_type": "execute_result",
          "data": {
            "text/plain": [
              "(34, 81)"
            ]
          },
          "metadata": {},
          "execution_count": 14
        }
      ]
    },
    {
      "cell_type": "markdown",
      "source": [
        "## 熱力圖"
      ],
      "metadata": {
        "id": "izBukWGB7C9A"
      }
    },
    {
      "cell_type": "code",
      "source": [
        "# 創建熱力圖\n",
        "figName = myfile[:-5] +'_heatMap.jpg'\n",
        "plt.imshow(df3, cmap='viridis', origin='upper', aspect='auto')  # 正常68*40，量測數據\n",
        "\n",
        "# plt.imshow(temp1, cmap='viridis', origin='upper', aspect='auto')  # 20230804 數據分開前後各一半統計\n",
        "# plt.imshow(temp2, cmap='viridis', origin='upper', aspect='auto')\n",
        "\n",
        "# 添加顏色欄圖示\n",
        "plt.title(figName[:-4])\n",
        "plt.colorbar()\n",
        "\n",
        "# 顯示圖形\n",
        "plt.title(figName[:-4])\n",
        "plt.savefig(figName)\n",
        "plt.show()\n"
      ],
      "metadata": {
        "colab": {
          "base_uri": "https://localhost:8080/",
          "height": 452
        },
        "id": "5OHULk6KU6bH",
        "outputId": "9bf1e61b-d130-4450-8d98-9d00e0f555c8"
      },
      "execution_count": 152,
      "outputs": [
        {
          "output_type": "display_data",
          "data": {
            "text/plain": [
              "<Figure size 640x480 with 2 Axes>"
            ],
            "image/png": "[encoded data removed]"
          },
          "metadata": {}
        }
      ]
    },
    {
      "cell_type": "code",
      "source": [
        "#df.iloc[:, 0]"
      ],
      "metadata": {
        "id": "J8eugXNfZH1I"
      },
      "execution_count": null,
      "outputs": []
    },
    {
      "cell_type": "code",
      "source": [
        "# 維度轉換 範例\n",
        "# 二維陣列\n",
        "# two_dim_array = np.array([[1, 2, 3], [4, 5, 6], [7, 8, 9]])\n",
        "\n",
        "# # 使用 flatten() 方法\n",
        "# one_dim_array_flatten = two_dim_array.flatten()\n",
        "\n",
        "# # 使用 ravel() 方法\n",
        "# one_dim_array_ravel = two_dim_array.ravel()"
      ],
      "metadata": {
        "id": "DceShgV_g0CT"
      },
      "execution_count": null,
      "outputs": []
    },
    {
      "cell_type": "markdown",
      "source": [
        "## 繪製分佈圖"
      ],
      "metadata": {
        "id": "idR2dPm17KCj"
      }
    },
    {
      "cell_type": "markdown",
      "source": [
        "```\n",
        "import matplotlib.pyplot as plt\n",
        "\n",
        "plt.rcParams['font.sans-serif'] = ['Taipei Sans TC Beta']\n",
        "\n",
        "sales = [100,80,50]\n",
        "x_labels = ['A','B','C']\n",
        "sales_pos = [0,1,5]\n",
        "plt.title('我的標題')\n",
        "plt.xlabel('銷售品項')\n",
        "plt.ylabel('銷售量')\n",
        "plt.bar(sales_pos,sales)\n",
        "plt.xticks(sales_pos,x_labels)\n",
        "plt.show()\n",
        "```"
      ],
      "metadata": {
        "id": "SP1ixfnpSNLd"
      }
    },
    {
      "cell_type": "code",
      "source": [
        "temp = np.array(df3)\n",
        "x = temp.flatten()  # 二維轉換一維\n",
        "# 20230730 改用 seaborn 繪製hist分佈圖直方圖\n",
        "# 繪製分佈圖\n",
        "\n",
        "# plt.hist(x, bins=20, edgecolor='y')\n",
        "# # plt.hist(x, bins='auto', edgecolor='y')\n",
        "# plt.xlabel('Total %')\n",
        "# plt.ylabel('PCS')\n",
        "# plt.title('distribution')\n",
        "# plt.show()"
      ],
      "metadata": {
        "id": "sxFWOFGNfJ9z"
      },
      "execution_count": 153,
      "outputs": []
    },
    {
      "cell_type": "markdown",
      "source": [
        "* seaborn.histplot(data=None, *, x=None, y=None, hue=None, weights=None, stat='count', bins='auto', binwidth=None, binrange=None, discrete=None, cumulative=False, common_bins=True, common_norm=True, multiple='layer', element='bars', fill=True, shrink=1, kde=False, kde_kws=None, line_kws=None, thresh=0, pthresh=None, pmax=None, cbar=False, cbar_ax=None, cbar_kws=None, palette=None, hue_order=None, hue_norm=None, color=None, log_scale=None, legend=True, ax=None, **kwargs)\n",
        "\n",
        "[Seaborn API](https://seaborn.pydata.org/generated/seaborn.histplot.html)"
      ],
      "metadata": {
        "id": "Zp8Cb1HItov_"
      }
    },
    {
      "cell_type": "code",
      "source": [
        "# myfile[:-5]"
      ],
      "metadata": {
        "id": "V5dHuJaZvkjg"
      },
      "execution_count": null,
      "outputs": []
    },
    {
      "cell_type": "code",
      "source": [
        "# 20230730 *********************\n",
        "import seaborn as sns\n",
        "figName = myfile[:-5] + '_hist.jpg'\n",
        "# import numpy as np\n",
        "# x = np.random.normal(size=2000)\n",
        "# sns.distplot(x)\n",
        "# myFig = sns.histplot(x, bins=35, color='green', kde=True).set_xlim(-3, 1) # kde曲線\n",
        "myFig = sns.histplot(x, bins=35, color='green', kde=True).set(title=figName[:-4])\n",
        "plt.savefig(figName)\n",
        "\n",
        "\n"
      ],
      "metadata": {
        "colab": {
          "base_uri": "https://localhost:8080/",
          "height": 452
        },
        "id": "Xxevn0YW0rI7",
        "outputId": "46d20548-7f31-46d8-b0f5-64e7f4498560"
      },
      "execution_count": 154,
      "outputs": [
        {
          "output_type": "display_data",
          "data": {
            "text/plain": [
              "<Figure size 640x480 with 1 Axes>"
            ],
            "image/png": "[encoded data removed]"
          },
          "metadata": {}
        }
      ]
    },
    {
      "cell_type": "markdown",
      "source": [
        "## 趨勢圖\n",
        "\n",
        "\n",
        "* 均值\n",
        "  * np.mean(nums)\n",
        "* 中位数\n",
        "  * np.median(nums)"
      ],
      "metadata": {
        "id": "OgJk6dobjL0x"
      }
    },
    {
      "cell_type": "code",
      "source": [
        "# import numpy\n",
        "# from matplotlib import pyplot as plt\n",
        "df3 = df2.dropna()  # 剔除dataframe空值\n",
        "figName = myfile[:-5] + '_median.jpg'\n",
        "# a = df\n",
        "b = []\n",
        "for i in df3:\n",
        "  #mean = np.mean(df2[i])\n",
        "  mean = np.median(df3[i])\n",
        "  b.append(mean)\n",
        "\n",
        "# Plot the Data itself.\n",
        "plt.title(figName[:-4])\n",
        "plt.plot(b)\n",
        "plt.savefig(figName)\n",
        "plt.show()\n"
      ],
      "metadata": {
        "colab": {
          "base_uri": "https://localhost:8080/",
          "height": 452
        },
        "id": "ZtFM157WlK4p",
        "outputId": "3fd9b7b2-9e71-4f1c-e75c-eae8fea6c8a8"
      },
      "execution_count": 155,
      "outputs": [
        {
          "output_type": "display_data",
          "data": {
            "text/plain": [
              "<Figure size 640x480 with 1 Axes>"
            ],
            "image/png": "[encoded data removed]"
          },
          "metadata": {}
        }
      ]
    },
    {
      "cell_type": "markdown",
      "source": [
        "## R1~R68 良率%\n"
      ],
      "metadata": {
        "id": "3xmE8e0mrBQV"
      }
    },
    {
      "cell_type": "code",
      "source": [
        "# 設定各Row上下限標準 依照中位數為準\n",
        "bUp = []\n",
        "bDn = []\n",
        "allCenter = np.median(df3)\n",
        "for i in df3.columns :\n",
        "  #mean = np.mean(df2[i])\n",
        "  meanUp = np.median(df3[i]) + 0.8\n",
        "  meanDn = np.median(df3[i]) - 0.8\n",
        "  bUp.append(meanUp)\n",
        "  bDn.append(meanDn)\n"
      ],
      "metadata": {
        "id": "9lVcSaIFs5XF"
      },
      "execution_count": 156,
      "outputs": []
    },
    {
      "cell_type": "markdown",
      "source": [
        "### 計算中位數"
      ],
      "metadata": {
        "id": "KICki9G_8krD"
      }
    },
    {
      "cell_type": "code",
      "source": [
        "print('全部數據中位數:', allCenter)"
      ],
      "metadata": {
        "colab": {
          "base_uri": "https://localhost:8080/"
        },
        "id": "ffJOQBxB6PQ_",
        "outputId": "79cd56aa-9afd-481a-e7ab-1864baabb530"
      },
      "execution_count": null,
      "outputs": [
        {
          "output_type": "stream",
          "name": "stdout",
          "text": [
            "全部數據中位數: -1.16\n"
          ]
        }
      ]
    },
    {
      "cell_type": "code",
      "source": [
        "# print(df3.columns)\n",
        "\n",
        "# print(bUp)\n",
        "# print(b)\n",
        "# print(bDn)\n",
        "# # print(b)\n",
        "# # for i in range(len(df3)):\n",
        "# #   print(df3.iat[i, 0])\n",
        "\n",
        "# q = len(df3['Row 1'])\n",
        "# w = bUp[0]\n",
        "# e = bDn[0]\n",
        "# print(q, w, e)"
      ],
      "metadata": {
        "id": "G6Ntx11CuvLT"
      },
      "execution_count": null,
      "outputs": []
    },
    {
      "cell_type": "markdown",
      "source": [
        "### 計算良品數"
      ],
      "metadata": {
        "id": "bkZlFEM1eDRB"
      }
    },
    {
      "cell_type": "code",
      "source": [
        "from numpy.ma import count\n",
        "Rows = df2.columns\n",
        "# print(len(Rows))\n",
        "# countAll = count(df2)\n",
        "nogoodCount = 0\n",
        "goodCount = 0\n",
        "# countHi = 0\n",
        "# countLo = 0\n",
        "# yieldList = []\n",
        "r_num = 0\n",
        "for k in Rows:\n",
        "  # print(k)\n",
        "  for i in range(len(df2)):\n",
        "    # print(df2.at[i, k])\n",
        "    # 20230730 add Hi & Lo **********\n",
        "    # if df2.at[i, k] > 4 :\n",
        "    #   countHi += 1\n",
        "    # if df2.at[i, k] < -8 :\n",
        "    #   countLo += 1\n",
        "# 20230730 1st. way ***********************\n",
        "    # if df2.at[i, k] <= bUp[r_num] and df2.at[i, k] >= bDn[r_num]:\n",
        "    #   goodCount += 1\n",
        "    # if df2.at[i, k] > bUp[r_num] or df2.at[i, k] < bDn[r_num]:  # 依照各Row中位數 +/- 0.8 做上下限\n",
        "    #   nogoodCount += 1\n",
        "# 20230730 採用全體中位數做計算 2nd. way *******************\n",
        "    if df2.at[i, k] <= (allCenter+0.8) and df2.at[i, k] >= (allCenter-0.8):\n",
        "      goodCount += 1\n",
        "    if df2.at[i, k] > (allCenter+0.8) or df2.at[i, k] < (allCenter-0.8):  # 依照中位數 +/- 0.8 做上下限\n",
        "      nogoodCount += 1\n",
        "# 20230730 *****************************************\n",
        "  r_num += 1\n",
        "countAll = goodCount + nogoodCount\n",
        "# 計算量測空值 sum null numbers 20230730 *******************\n",
        "nanum = df2.isna().sum()\n",
        "naN = 0\n",
        "for i in nanum:\n",
        "  if i == True:\n",
        "    naN += 1\n",
        "# print(naN)\n",
        "# **********************************************\n",
        "print(\"不良品數: \", nogoodCount)\n",
        "print(\"良品數: \", goodCount)\n",
        "print(\"Probe error: \", naN)\n",
        "print(\"基板有效量測數: \", countAll)\n",
        "# print(\"Yield %: {:.2%}\".format((countAll-nogoodCount) / countAll) )\n",
        "totalYield = (countAll-nogoodCount) / countAll\n",
        "print(f\"Yield %: {totalYield:.2%}\")\n",
        "\n"
      ],
      "metadata": {
        "colab": {
          "base_uri": "https://localhost:8080/"
        },
        "id": "mW0p1IOfPyWF",
        "outputId": "f0ce8fd5-22d2-4eb8-c42a-53c7cb992c7e"
      },
      "execution_count": 157,
      "outputs": [
        {
          "output_type": "stream",
          "name": "stdout",
          "text": [
            "不良品數:  1742\n",
            "良品數:  3690\n",
            "Probe error:  0\n",
            "基板有效量測數:  5432\n",
            "Yield %: 67.93%\n"
          ]
        }
      ]
    },
    {
      "cell_type": "code",
      "source": [
        "txtName = myfile[:-4] + 'txt'\n",
        "stdAverge = np.std(x)\n",
        "f = open(txtName, 'w')\n",
        "print(\"不良品數: \", nogoodCount, file=f)\n",
        "print(\"良品數: \", goodCount, file=f)\n",
        "print(\"Probe error: \", naN, file=f)\n",
        "print(\"基板有效量測數: \", countAll, file=f)\n",
        "# totalYield = (countAll-nogoodCount) / countAll\n",
        "print(f\"Yield %: {totalYield:.2%}\", file=f)\n",
        "# 計算標準差std\n",
        "# print(\"sd: {:.3f}\".format(stdAverge))\n",
        "print(f'sd: {stdAverge:.3f}', file=f)\n",
        "f.close()"
      ],
      "metadata": {
        "id": "MoALSGxjAxqh"
      },
      "execution_count": 158,
      "outputs": []
    },
    {
      "cell_type": "code",
      "source": [
        "myOutputTxt = {\n",
        "    \"不良品數:\": nogoodCount,\n",
        "    \"良品數: \": goodCount,\n",
        "    \"Probe error: \": naN,\n",
        "    \"基板有效量測數:\": countAll\n",
        "\n",
        "}"
      ],
      "metadata": {
        "id": "jGgLdD-P_Qkd"
      },
      "execution_count": 159,
      "outputs": []
    },
    {
      "cell_type": "code",
      "source": [
        "# myOutputTxt"
      ],
      "metadata": {
        "colab": {
          "base_uri": "https://localhost:8080/"
        },
        "id": "D8vwdeBMAK9t",
        "outputId": "b0182685-719f-4734-8ac6-41d42d2957c4"
      },
      "execution_count": null,
      "outputs": [
        {
          "output_type": "execute_result",
          "data": {
            "text/plain": [
              "{'不良品數:': 873, '良品數: ': 1840, 'Probe error: ': 5, '基板有效量測數:': 2713}"
            ]
          },
          "metadata": {},
          "execution_count": 19
        }
      ]
    },
    {
      "cell_type": "code",
      "source": [
        "# 計算標準差std\n",
        "stdAverge = np.std(x)\n",
        "# print(\"sd: {:.3f}\".format(stdAverge))\n",
        "print(f'sd: {stdAverge:.3f}')"
      ],
      "metadata": {
        "colab": {
          "base_uri": "https://localhost:8080/"
        },
        "id": "KExzjc66h6Wm",
        "outputId": "beaf1774-0494-4037-f57b-834f788c45f8"
      },
      "execution_count": 160,
      "outputs": [
        {
          "output_type": "stream",
          "name": "stdout",
          "text": [
            "sd: 1.030\n"
          ]
        }
      ]
    },
    {
      "cell_type": "code",
      "source": [
        "# df2.shape"
      ],
      "metadata": {
        "id": "8pm4Z8N_rgLi"
      },
      "execution_count": null,
      "outputs": []
    },
    {
      "cell_type": "markdown",
      "source": [
        "### 繪製Row 良率圖表"
      ],
      "metadata": {
        "id": "hSKO3iD4eLYK"
      }
    },
    {
      "cell_type": "code",
      "source": [
        "# 利用迴圈計數存入每一Row List\n",
        "yieldCount = 0\n",
        "yieldList = []\n",
        "figName = myfile[:-5] + '_RowGoods.jpg'\n",
        "rowCount = 0\n",
        "r_num = 0\n",
        "\n",
        "for k in Rows:\n",
        "  # print(k)\n",
        "  for i in range(len(df2)):\n",
        "    # print(df2.at[i, k])\n",
        "    if df2.at[i, k] <= bUp[r_num] and df2.at[i, k] >= bDn[r_num]:  # 依照中位數 +/- 0.8 做上下限\n",
        "       yieldCount += 1\n",
        "\n",
        "  yieldList.append(yieldCount)\n",
        "\n",
        "\n",
        "  yieldCount = 0\n",
        "  rowCount = 0\n",
        "  r_num += 1\n",
        "\n",
        "print(yieldList)\n",
        "plt.title(figName[:-4])\n",
        "plt.plot(yieldList)\n",
        "plt.savefig(figName)\n",
        "plt.show()"
      ],
      "metadata": {
        "id": "7ECSOXpftDVK",
        "colab": {
          "base_uri": "https://localhost:8080/",
          "height": 489
        },
        "outputId": "0c15ab39-6a81-47c7-8e7d-2cab46fca1fa"
      },
      "execution_count": 161,
      "outputs": [
        {
          "output_type": "stream",
          "name": "stdout",
          "text": [
            "[108, 92, 100, 102, 112, 116, 110, 104, 90, 94, 94, 100, 116, 88, 92, 100, 88, 90, 88, 102, 100, 94, 82, 100, 96, 96, 94, 88, 96, 98, 94, 96, 98, 92, 90, 90, 84, 90, 88, 88]\n"
          ]
        },
        {
          "output_type": "display_data",
          "data": {
            "text/plain": [
              "<Figure size 640x480 with 1 Axes>"
            ],
            "image/png": "[encoded data removed]"
          },
          "metadata": {}
        }
      ]
    },
    {
      "cell_type": "code",
      "source": [
        "figName = myfile[:-5] + '_RowYield.jpg'\n",
        "rowlist = np.array([len(df2)])\n",
        "newrowyield = yieldList / rowlist\n",
        "np.set_printoptions(formatter={'float': '{: 0.1%}'.format})\n",
        "print(newrowyield)\n",
        "plt.ylim(0.3,1)\n",
        "plt.title(figName[:-4])\n",
        "plt.plot(newrowyield)\n",
        "plt.savefig(figName)\n",
        "plt.show()"
      ],
      "metadata": {
        "colab": {
          "base_uri": "https://localhost:8080/",
          "height": 520
        },
        "id": "iClerMAOahtl",
        "outputId": "d356d3af-920c-4144-fbbe-999d6d91d292"
      },
      "execution_count": 164,
      "outputs": [
        {
          "output_type": "stream",
          "name": "stdout",
          "text": [
            "[ 79.4%  67.6%  73.5%  75.0%  82.4%  85.3%  80.9%  76.5%  66.2%  69.1%\n",
            "  69.1%  73.5%  85.3%  64.7%  67.6%  73.5%  64.7%  66.2%  64.7%  75.0%\n",
            "  73.5%  69.1%  60.3%  73.5%  70.6%  70.6%  69.1%  64.7%  70.6%  72.1%\n",
            "  69.1%  70.6%  72.1%  67.6%  66.2%  66.2%  61.8%  66.2%  64.7%  64.7%]\n"
          ]
        },
        {
          "output_type": "display_data",
          "data": {
            "text/plain": [
              "<Figure size 640x480 with 1 Axes>"
            ],
            "image/png": "[encoded data removed]"
          },
          "metadata": {}
        }
      ]
    },
    {
      "cell_type": "code",
      "source": [
        "myfile"
      ],
      "metadata": {
        "colab": {
          "base_uri": "https://localhost:8080/",
          "height": 35
        },
        "id": "J6y3WMRRNoni",
        "outputId": "22be1c52-9728-4315-9d05-f89dacf25433"
      },
      "execution_count": null,
      "outputs": [
        {
          "output_type": "execute_result",
          "data": {
            "text/plain": [
              "'myData06.xlsx'"
            ],
            "application/vnd.google.colaboratory.intrinsic+json": {
              "type": "string"
            }
          },
          "metadata": {},
          "execution_count": 24
        }
      ]
    },
    {
      "cell_type": "code",
      "source": [
        "from google.colab import files\n",
        "newfileName = myfile[:-5]\n",
        "iName = ['.txt', '_hist.jpg', '_heatMap.jpg', '_median.jpg', '_RowGoods.jpg', '_RowYield.jpg']\n",
        "for i in iName:\n",
        "  downName = newfileName + i\n",
        "  files.download(downName)\n",
        "  # print(downName)\n",
        "\n",
        "# print(newfileName + iName[0])"
      ],
      "metadata": {
        "colab": {
          "base_uri": "https://localhost:8080/",
          "height": 17
        },
        "id": "Wdp6kwPJMiBI",
        "outputId": "a39afd45-cd89-4cdd-9783-ee71068765f8"
      },
      "execution_count": null,
      "outputs": [
        {
          "output_type": "display_data",
          "data": {
            "text/plain": [
              "<IPython.core.display.Javascript object>"
            ],
            "application/javascript": [
              "\n",
              "    async function download(id, filename, size) {\n",
              "      if (!google.colab.kernel.accessAllowed) {\n",
              "        return;\n",
              "      }\n",
              "      const div = document.createElement('div');\n",
              "      const label = document.createElement('label');\n",
              "      label.textContent = `Downloading \"${filename}\": `;\n",
              "      div.appendChild(label);\n",
              "      const progress = document.createElement('progress');\n",
              "      progress.max = size;\n",
              "      div.appendChild(progress);\n",
              "      document.body.appendChild(div);\n",
              "\n",
              "      const buffers = [];\n",
              "      let downloaded = 0;\n",
              "\n",
              "      const channel = await google.colab.kernel.comms.open(id);\n",
              "      // Send a message to notify the kernel that we're ready.\n",
              "      channel.send({})\n",
              "\n",
              "      for await (const message of channel.messages) {\n",
              "        // Send a message to notify the kernel that we're ready.\n",
              "        channel.send({})\n",
              "        if (message.buffers) {\n",
              "          for (const buffer of message.buffers) {\n",
              "            buffers.push(buffer);\n",
              "            downloaded += buffer.byteLength;\n",
              "            progress.value = downloaded;\n",
              "          }\n",
              "        }\n",
              "      }\n",
              "      const blob = new Blob(buffers, {type: 'application/binary'});\n",
              "      const a = document.createElement('a');\n",
              "      a.href = window.URL.createObjectURL(blob);\n",
              "      a.download = filename;\n",
              "      div.appendChild(a);\n",
              "      a.click();\n",
              "      div.remove();\n",
              "    }\n",
              "  "
            ]
          },
          "metadata": {}
        },
        {
          "output_type": "display_data",
          "data": {
            "text/plain": [
              "<IPython.core.display.Javascript object>"
            ],
            "application/javascript": [
              "download(\"download_198ed566-82cf-4b34-9095-00eab6983f3d\", \"20230725_data1.txt\", 107)"
            ]
          },
          "metadata": {}
        },
        {
          "output_type": "display_data",
          "data": {
            "text/plain": [
              "<IPython.core.display.Javascript object>"
            ],
            "application/javascript": [
              "\n",
              "    async function download(id, filename, size) {\n",
              "      if (!google.colab.kernel.accessAllowed) {\n",
              "        return;\n",
              "      }\n",
              "      const div = document.createElement('div');\n",
              "      const label = document.createElement('label');\n",
              "      label.textContent = `Downloading \"${filename}\": `;\n",
              "      div.appendChild(label);\n",
              "      const progress = document.createElement('progress');\n",
              "      progress.max = size;\n",
              "      div.appendChild(progress);\n",
              "      document.body.appendChild(div);\n",
              "\n",
              "      const buffers = [];\n",
              "      let downloaded = 0;\n",
              "\n",
              "      const channel = await google.colab.kernel.comms.open(id);\n",
              "      // Send a message to notify the kernel that we're ready.\n",
              "      channel.send({})\n",
              "\n",
              "      for await (const message of channel.messages) {\n",
              "        // Send a message to notify the kernel that we're ready.\n",
              "        channel.send({})\n",
              "        if (message.buffers) {\n",
              "          for (const buffer of message.buffers) {\n",
              "            buffers.push(buffer);\n",
              "            downloaded += buffer.byteLength;\n",
              "            progress.value = downloaded;\n",
              "          }\n",
              "        }\n",
              "      }\n",
              "      const blob = new Blob(buffers, {type: 'application/binary'});\n",
              "      const a = document.createElement('a');\n",
              "      a.href = window.URL.createObjectURL(blob);\n",
              "      a.download = filename;\n",
              "      div.appendChild(a);\n",
              "      a.click();\n",
              "      div.remove();\n",
              "    }\n",
              "  "
            ]
          },
          "metadata": {}
        },
        {
          "output_type": "display_data",
          "data": {
            "text/plain": [
              "<IPython.core.display.Javascript object>"
            ],
            "application/javascript": [
              "download(\"download_d6f9588f-dd65-4a4a-93a5-1de8ed07cd86\", \"20230725_data1_hist.jpg\", 23157)"
            ]
          },
          "metadata": {}
        },
        {
          "output_type": "display_data",
          "data": {
            "text/plain": [
              "<IPython.core.display.Javascript object>"
            ],
            "application/javascript": [
              "\n",
              "    async function download(id, filename, size) {\n",
              "      if (!google.colab.kernel.accessAllowed) {\n",
              "        return;\n",
              "      }\n",
              "      const div = document.createElement('div');\n",
              "      const label = document.createElement('label');\n",
              "      label.textContent = `Downloading \"${filename}\": `;\n",
              "      div.appendChild(label);\n",
              "      const progress = document.createElement('progress');\n",
              "      progress.max = size;\n",
              "      div.appendChild(progress);\n",
              "      document.body.appendChild(div);\n",
              "\n",
              "      const buffers = [];\n",
              "      let downloaded = 0;\n",
              "\n",
              "      const channel = await google.colab.kernel.comms.open(id);\n",
              "      // Send a message to notify the kernel that we're ready.\n",
              "      channel.send({})\n",
              "\n",
              "      for await (const message of channel.messages) {\n",
              "        // Send a message to notify the kernel that we're ready.\n",
              "        channel.send({})\n",
              "        if (message.buffers) {\n",
              "          for (const buffer of message.buffers) {\n",
              "            buffers.push(buffer);\n",
              "            downloaded += buffer.byteLength;\n",
              "            progress.value = downloaded;\n",
              "          }\n",
              "        }\n",
              "      }\n",
              "      const blob = new Blob(buffers, {type: 'application/binary'});\n",
              "      const a = document.createElement('a');\n",
              "      a.href = window.URL.createObjectURL(blob);\n",
              "      a.download = filename;\n",
              "      div.appendChild(a);\n",
              "      a.click();\n",
              "      div.remove();\n",
              "    }\n",
              "  "
            ]
          },
          "metadata": {}
        },
        {
          "output_type": "display_data",
          "data": {
            "text/plain": [
              "<IPython.core.display.Javascript object>"
            ],
            "application/javascript": [
              "download(\"download_e6d2fe94-c4b6-41b6-80d3-6e9014f5afc8\", \"20230725_data1_heatMap.jpg\", 30950)"
            ]
          },
          "metadata": {}
        },
        {
          "output_type": "display_data",
          "data": {
            "text/plain": [
              "<IPython.core.display.Javascript object>"
            ],
            "application/javascript": [
              "\n",
              "    async function download(id, filename, size) {\n",
              "      if (!google.colab.kernel.accessAllowed) {\n",
              "        return;\n",
              "      }\n",
              "      const div = document.createElement('div');\n",
              "      const label = document.createElement('label');\n",
              "      label.textContent = `Downloading \"${filename}\": `;\n",
              "      div.appendChild(label);\n",
              "      const progress = document.createElement('progress');\n",
              "      progress.max = size;\n",
              "      div.appendChild(progress);\n",
              "      document.body.appendChild(div);\n",
              "\n",
              "      const buffers = [];\n",
              "      let downloaded = 0;\n",
              "\n",
              "      const channel = await google.colab.kernel.comms.open(id);\n",
              "      // Send a message to notify the kernel that we're ready.\n",
              "      channel.send({})\n",
              "\n",
              "      for await (const message of channel.messages) {\n",
              "        // Send a message to notify the kernel that we're ready.\n",
              "        channel.send({})\n",
              "        if (message.buffers) {\n",
              "          for (const buffer of message.buffers) {\n",
              "            buffers.push(buffer);\n",
              "            downloaded += buffer.byteLength;\n",
              "            progress.value = downloaded;\n",
              "          }\n",
              "        }\n",
              "      }\n",
              "      const blob = new Blob(buffers, {type: 'application/binary'});\n",
              "      const a = document.createElement('a');\n",
              "      a.href = window.URL.createObjectURL(blob);\n",
              "      a.download = filename;\n",
              "      div.appendChild(a);\n",
              "      a.click();\n",
              "      div.remove();\n",
              "    }\n",
              "  "
            ]
          },
          "metadata": {}
        },
        {
          "output_type": "display_data",
          "data": {
            "text/plain": [
              "<IPython.core.display.Javascript object>"
            ],
            "application/javascript": [
              "download(\"download_f581a887-dab7-4682-b850-67c1fb00ff6e\", \"20230725_data1_median.jpg\", 24592)"
            ]
          },
          "metadata": {}
        },
        {
          "output_type": "display_data",
          "data": {
            "text/plain": [
              "<IPython.core.display.Javascript object>"
            ],
            "application/javascript": [
              "\n",
              "    async function download(id, filename, size) {\n",
              "      if (!google.colab.kernel.accessAllowed) {\n",
              "        return;\n",
              "      }\n",
              "      const div = document.createElement('div');\n",
              "      const label = document.createElement('label');\n",
              "      label.textContent = `Downloading \"${filename}\": `;\n",
              "      div.appendChild(label);\n",
              "      const progress = document.createElement('progress');\n",
              "      progress.max = size;\n",
              "      div.appendChild(progress);\n",
              "      document.body.appendChild(div);\n",
              "\n",
              "      const buffers = [];\n",
              "      let downloaded = 0;\n",
              "\n",
              "      const channel = await google.colab.kernel.comms.open(id);\n",
              "      // Send a message to notify the kernel that we're ready.\n",
              "      channel.send({})\n",
              "\n",
              "      for await (const message of channel.messages) {\n",
              "        // Send a message to notify the kernel that we're ready.\n",
              "        channel.send({})\n",
              "        if (message.buffers) {\n",
              "          for (const buffer of message.buffers) {\n",
              "            buffers.push(buffer);\n",
              "            downloaded += buffer.byteLength;\n",
              "            progress.value = downloaded;\n",
              "          }\n",
              "        }\n",
              "      }\n",
              "      const blob = new Blob(buffers, {type: 'application/binary'});\n",
              "      const a = document.createElement('a');\n",
              "      a.href = window.URL.createObjectURL(blob);\n",
              "      a.download = filename;\n",
              "      div.appendChild(a);\n",
              "      a.click();\n",
              "      div.remove();\n",
              "    }\n",
              "  "
            ]
          },
          "metadata": {}
        },
        {
          "output_type": "display_data",
          "data": {
            "text/plain": [
              "<IPython.core.display.Javascript object>"
            ],
            "application/javascript": [
              "download(\"download_40e21227-f1ee-4bb7-8d99-483b1e75426b\", \"20230725_data1_RowGoods.jpg\", 30575)"
            ]
          },
          "metadata": {}
        },
        {
          "output_type": "display_data",
          "data": {
            "text/plain": [
              "<IPython.core.display.Javascript object>"
            ],
            "application/javascript": [
              "\n",
              "    async function download(id, filename, size) {\n",
              "      if (!google.colab.kernel.accessAllowed) {\n",
              "        return;\n",
              "      }\n",
              "      const div = document.createElement('div');\n",
              "      const label = document.createElement('label');\n",
              "      label.textContent = `Downloading \"${filename}\": `;\n",
              "      div.appendChild(label);\n",
              "      const progress = document.createElement('progress');\n",
              "      progress.max = size;\n",
              "      div.appendChild(progress);\n",
              "      document.body.appendChild(div);\n",
              "\n",
              "      const buffers = [];\n",
              "      let downloaded = 0;\n",
              "\n",
              "      const channel = await google.colab.kernel.comms.open(id);\n",
              "      // Send a message to notify the kernel that we're ready.\n",
              "      channel.send({})\n",
              "\n",
              "      for await (const message of channel.messages) {\n",
              "        // Send a message to notify the kernel that we're ready.\n",
              "        channel.send({})\n",
              "        if (message.buffers) {\n",
              "          for (const buffer of message.buffers) {\n",
              "            buffers.push(buffer);\n",
              "            downloaded += buffer.byteLength;\n",
              "            progress.value = downloaded;\n",
              "          }\n",
              "        }\n",
              "      }\n",
              "      const blob = new Blob(buffers, {type: 'application/binary'});\n",
              "      const a = document.createElement('a');\n",
              "      a.href = window.URL.createObjectURL(blob);\n",
              "      a.download = filename;\n",
              "      div.appendChild(a);\n",
              "      a.click();\n",
              "      div.remove();\n",
              "    }\n",
              "  "
            ]
          },
          "metadata": {}
        },
        {
          "output_type": "display_data",
          "data": {
            "text/plain": [
              "<IPython.core.display.Javascript object>"
            ],
            "application/javascript": [
              "download(\"download_70ae759a-604c-4a6f-9cb4-eec5c73e88ca\", \"20230725_data1_RowYield.jpg\", 20784)"
            ]
          },
          "metadata": {}
        }
      ]
    },
    {
      "cell_type": "code",
      "source": [
        "# len(yieldList)"
      ],
      "metadata": {
        "id": "CD5IBGBmoaqa"
      },
      "execution_count": null,
      "outputs": []
    },
    {
      "cell_type": "code",
      "source": [
        "# df3 = df2.dropna()  # 剔除dataframe空值\n",
        "\n",
        "# # Plot the Data itself.\n",
        "# plt.plot(df3)\n",
        "\n",
        "# plt.show()\n",
        "\n",
        "\n"
      ],
      "metadata": {
        "id": "yrHDaoQFrLyo"
      },
      "execution_count": null,
      "outputs": []
    },
    {
      "cell_type": "markdown",
      "source": [
        "# 網路舉例\n",
        "\n",
        "```\n",
        "\n",
        "import matplotlib.pyplot as plt\n",
        "import numpy as np\n",
        "\n",
        "plt.style.use('_mpl-gallery')\n",
        "\n",
        "# make data\n",
        "np.random.seed(1)\n",
        "x = 4 + np.random.normal(0, 1.5, 200)\n",
        "\n",
        "# plot:\n",
        "fig, ax = plt.subplots()\n",
        "\n",
        "ax.hist(x, bins=8, linewidth=0.5, edgecolor=\"white\")\n",
        "\n",
        "ax.set(xlim=(0, 8), xticks=np.arange(1, 8),\n",
        "       ylim=(0, 56), yticks=np.linspace(0, 56, 9))\n",
        "\n",
        "plt.show()\n",
        "\n",
        "```"
      ],
      "metadata": {
        "id": "rrT3cRFGKwvU"
      }
    },
    {
      "cell_type": "code",
      "source": [
        "# from pandas._libs.algos import diff_2d\n",
        "# ChatGPT 產生code\n",
        "# import numpy as np\n",
        "# import matplotlib.pyplot as plt\n",
        "\n",
        "\n",
        "# # 產生範例資料，這裡使用了隨機的二維NumPy陣列\n",
        "# #data = np.random.randint(1, 10, size=(4, 3))  # 產生一個 4x3 的二維陣列，數值範圍在 1 到 10 之間\n",
        "# data = myList\n",
        "# # 設置長條圖參數\n",
        "# #rows = ['Row 1', 'Row 2', 'Row 3', 'Row 4']  # 每一列的標籤\n",
        "# rows = df.iloc[:, 0]\n",
        "\n",
        "# # columns = ['A', 'B', 'C']  # 每一行的標籤\n",
        "# columns = df2.columns.tolist()\n",
        "\n",
        "\n",
        "# # 建立長條圖\n",
        "# fig, ax = plt.subplots()\n",
        "# width = 0.2  # 設置每個長條的寬度\n",
        "# x = np.arange(len(columns))\n",
        "\n",
        "\n",
        "# for i, row in enumerate(data):\n",
        "#     ax.bar(x + i * width, row, width, label=rows[i])\n",
        "\n",
        "# # 加入標籤和圖例\n",
        "# ax.set_ylabel('%')\n",
        "# ax.set_title(' Row offset')\n",
        "# #ax.set_xticks(x + width * (len(data) - 1) / 2)\n",
        "# #ax.set_xticklabels(columns)\n",
        "# # ax.legend()\n",
        "\n",
        "# # 顯示圖形\n",
        "# plt.show()\n"
      ],
      "metadata": {
        "id": "Yh1aFKhuRNG7"
      },
      "execution_count": null,
      "outputs": []
    }
  ]
}