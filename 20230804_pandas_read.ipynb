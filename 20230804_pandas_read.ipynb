{
  "nbformat": 4,
  "nbformat_minor": 0,
  "metadata": {
    "colab": {
      "provenance": [],
      "authorship_tag": "ABX9TyNMEEvf237INhNZ0utlxBjF",
      "include_colab_link": true
    },
    "kernelspec": {
      "name": "python3",
      "display_name": "Python 3"
    },
    "language_info": {
      "name": "python"
    }
  },
  "cells": [
    {
      "cell_type": "markdown",
      "metadata": {
        "id": "view-in-github",
        "colab_type": "text"
      },
      "source": [
        "<a href=\"https://colab.research.google.com/github/mccoy0928/pandas_dataframe/blob/main/20230804_pandas_read.ipynb\" target=\"_parent\"><img src=\"https://colab.research.google.com/assets/colab-badge.svg\" alt=\"Open In Colab\"/></a>"
      ]
    },
    {
      "cell_type": "markdown",
      "source": [
        "# 練習 pandas讀取並操作\n",
        "\n"
      ],
      "metadata": {
        "id": "FMkwzVNjG5qg"
      }
    },
    {
      "cell_type": "code",
      "execution_count": null,
      "metadata": {
        "id": "ANnpzmiKMYy9"
      },
      "outputs": [],
      "source": [
        "import pandas as pd"
      ]
    },
    {
      "cell_type": "code",
      "source": [
        "# df = pd.read_csv('Row(1).csv')\n",
        "df = pd.read_excel('1strow.xlsx', usecols=[2])\n",
        "# print(df)\n",
        "a = float(df.median())  # df.median()取出後數據為dtype Numpy資料， 轉換float后才是基礎運算數值\n",
        "b = 0.12345\n",
        "print(f'中位數：{a}')\n",
        "print('中位數：{:0.2%}'.format(a))\n",
        "print(a+b)"
      ],
      "metadata": {
        "colab": {
          "base_uri": "https://localhost:8080/"
        },
        "id": "lYEoy1zRHfX8",
        "outputId": "1e006a30-c39f-461d-f8c8-4062161a9b3f"
      },
      "execution_count": 34,
      "outputs": [
        {
          "output_type": "stream",
          "name": "stdout",
          "text": [
            "中位數：0.179\n",
            "中位數：17.90%\n",
            "0.30245\n"
          ]
        }
      ]
    },
    {
      "cell_type": "code",
      "source": [],
      "metadata": {
        "id": "vm5sAQwLJYpp"
      },
      "execution_count": null,
      "outputs": []
    }
  ]
}