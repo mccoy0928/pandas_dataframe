{
  "nbformat": 4,
  "nbformat_minor": 0,
  "metadata": {
    "colab": {
      "provenance": [],
      "gpuType": "T4",
      "authorship_tag": "ABX9TyMQtxT+BIIJtBvLlfAfKSN5",
      "include_colab_link": true
    },
    "kernelspec": {
      "name": "python3",
      "display_name": "Python 3"
    },
    "language_info": {
      "name": "python"
    }
  },
  "cells": [
    {
      "cell_type": "markdown",
      "metadata": {
        "id": "view-in-github",
        "colab_type": "text"
      },
      "source": [
        "<a href=\"https://colab.research.google.com/github/mccoy0928/pandas_dataframe/blob/main/20230804_myDataExcel.ipynb\" target=\"_parent\"><img src=\"https://colab.research.google.com/assets/colab-badge.svg\" alt=\"Open In Colab\"/></a>"
      ]
    },
    {
      "cell_type": "markdown",
      "source": [
        "# 20230803 update\n",
        "\n",
        "# 練習myData圖形繪製\n",
        "\n",
        "## 20230729 use seaborn 製作直方圖+KDE\n",
        "\n",
        "# 20230804 針對LTT設備讀取資料分析 34*80\n",
        "\n"
      ],
      "metadata": {
        "id": "ustuvS9-Gg5N"
      }
    },
    {
      "cell_type": "code",
      "execution_count": 1,
      "metadata": {
        "id": "jDYOjgLsGZte"
      },
      "outputs": [],
      "source": [
        "import pandas as pd\n",
        "import matplotlib.pyplot as plt\n",
        "import numpy as np\n"
      ]
    },
    {
      "cell_type": "code",
      "source": [
        "# from google.colab import drive\n",
        "# drive.mount('/content/drive')"
      ],
      "metadata": {
        "id": "d3mHKTn_L93i"
      },
      "execution_count": null,
      "outputs": []
    },
    {
      "cell_type": "markdown",
      "source": [
        "## 資料讀取轉換"
      ],
      "metadata": {
        "id": "8uRD0nznHCSi"
      }
    },
    {
      "cell_type": "code",
      "source": [
        "# # 20230803 for JPT data read\n",
        "# myfile = \"myData06.xlsx\"  # 請變更讀取檔名 xlsx\n",
        "# df = pd.read_excel(myfile, sheet_name = \"工作表1\")\n",
        "# # print(df)\n",
        "# # type(df)\n",
        "# # len(df)\n",
        "# # df.head()"
      ],
      "metadata": {
        "id": "W-EjQg0kHJS1"
      },
      "execution_count": null,
      "outputs": []
    },
    {
      "cell_type": "code",
      "source": [
        "#20200804 for TF3050 data read\n",
        "myfile = \"20230725_data1.xlsx\"  # 請變更讀取檔名 xlsx\n",
        "df = pd.read_excel(myfile, sheet_name = \"工作表1\")"
      ],
      "metadata": {
        "id": "2Tk-9i-KJL2Y"
      },
      "execution_count": 3,
      "outputs": []
    },
    {
      "cell_type": "code",
      "source": [
        "# from IPython.utils.py3compat import encode\n",
        "# temp = pd.read_csv('2ndrow.csv')\n",
        "# print(temp)"
      ],
      "metadata": {
        "id": "hzXsSHtr5bLD"
      },
      "execution_count": null,
      "outputs": []
    },
    {
      "cell_type": "code",
      "source": [
        "# for JPT 20230803\n",
        "# df2 = pd.read_excel(myfile, sheet_name = \"工作表1\", usecols=\"B:AO\")  #讀取欄位名only 針對熱力圖所需\n",
        "# # df2.head()\n",
        "\n",
        "# for TF3050 20230804\n",
        "df2 = pd.read_excel(myfile, sheet_name='工作表1', usecols='B:CC')"
      ],
      "metadata": {
        "id": "Dg2_2NDlIHau"
      },
      "execution_count": 4,
      "outputs": []
    },
    {
      "cell_type": "code",
      "source": [
        "myList = np.array(df2)\n",
        "df3 = df2.dropna()\n",
        "# myList\n",
        "# myList.shape"
      ],
      "metadata": {
        "id": "mB2zcXgeQCCT"
      },
      "execution_count": 5,
      "outputs": []
    },
    {
      "cell_type": "code",
      "source": [
        "# df3.shape"
      ],
      "metadata": {
        "colab": {
          "base_uri": "https://localhost:8080/"
        },
        "id": "w0QgDGW4KtDi",
        "outputId": "14b97953-a22f-4b88-8e6d-9d1be3be0fa0"
      },
      "execution_count": 14,
      "outputs": [
        {
          "output_type": "execute_result",
          "data": {
            "text/plain": [
              "(34, 81)"
            ]
          },
          "metadata": {},
          "execution_count": 14
        }
      ]
    },
    {
      "cell_type": "markdown",
      "source": [
        "## 熱力圖"
      ],
      "metadata": {
        "id": "izBukWGB7C9A"
      }
    },
    {
      "cell_type": "code",
      "source": [
        "# 創建熱力圖\n",
        "figName = myfile[:-5] +'_heatMap.jpg'\n",
        "plt.imshow(df3, cmap='viridis', origin='upper', aspect='auto')\n",
        "\n",
        "# 添加顏色欄圖示\n",
        "plt.title(figName[:-4])\n",
        "plt.colorbar()\n",
        "\n",
        "# 顯示圖形\n",
        "plt.title(figName[:-4])\n",
        "plt.savefig(figName)\n",
        "plt.show()\n"
      ],
      "metadata": {
        "colab": {
          "base_uri": "https://localhost:8080/",
          "height": 452
        },
        "id": "5OHULk6KU6bH",
        "outputId": "eed5f2cc-f3b6-46c8-c1eb-0626c267e0f4"
      },
      "execution_count": 15,
      "outputs": [
        {
          "output_type": "display_data",
          "data": {
            "text/plain": [
              "<Figure size 640x480 with 2 Axes>"
            ],
            "image/png": "[encoded data removed]"
          },
          "metadata": {}
        }
      ]
    },
    {
      "cell_type": "code",
      "source": [
        "#df.iloc[:, 0]"
      ],
      "metadata": {
        "id": "J8eugXNfZH1I"
      },
      "execution_count": null,
      "outputs": []
    },
    {
      "cell_type": "code",
      "source": [
        "# 維度轉換 範例\n",
        "# 二維陣列\n",
        "# two_dim_array = np.array([[1, 2, 3], [4, 5, 6], [7, 8, 9]])\n",
        "\n",
        "# # 使用 flatten() 方法\n",
        "# one_dim_array_flatten = two_dim_array.flatten()\n",
        "\n",
        "# # 使用 ravel() 方法\n",
        "# one_dim_array_ravel = two_dim_array.ravel()"
      ],
      "metadata": {
        "id": "DceShgV_g0CT"
      },
      "execution_count": null,
      "outputs": []
    },
    {
      "cell_type": "markdown",
      "source": [
        "## 繪製分佈圖"
      ],
      "metadata": {
        "id": "idR2dPm17KCj"
      }
    },
    {
      "cell_type": "markdown",
      "source": [
        "```\n",
        "import matplotlib.pyplot as plt\n",
        "\n",
        "plt.rcParams['font.sans-serif'] = ['Taipei Sans TC Beta']\n",
        "\n",
        "sales = [100,80,50]\n",
        "x_labels = ['A','B','C']\n",
        "sales_pos = [0,1,5]\n",
        "plt.title('我的標題')\n",
        "plt.xlabel('銷售品項')\n",
        "plt.ylabel('銷售量')\n",
        "plt.bar(sales_pos,sales)\n",
        "plt.xticks(sales_pos,x_labels)\n",
        "plt.show()\n",
        "```"
      ],
      "metadata": {
        "id": "SP1ixfnpSNLd"
      }
    },
    {
      "cell_type": "code",
      "source": [
        "temp = np.array(df3)\n",
        "x = temp.flatten()  # 二維轉換一維\n",
        "# 20230730 改用 seaborn 繪製hist分佈圖直方圖\n",
        "# 繪製分佈圖\n",
        "\n",
        "# plt.hist(x, bins=20, edgecolor='y')\n",
        "# # plt.hist(x, bins='auto', edgecolor='y')\n",
        "# plt.xlabel('Total %')\n",
        "# plt.ylabel('PCS')\n",
        "# plt.title('distribution')\n",
        "# plt.show()"
      ],
      "metadata": {
        "id": "sxFWOFGNfJ9z"
      },
      "execution_count": 16,
      "outputs": []
    },
    {
      "cell_type": "markdown",
      "source": [
        "* seaborn.histplot(data=None, *, x=None, y=None, hue=None, weights=None, stat='count', bins='auto', binwidth=None, binrange=None, discrete=None, cumulative=False, common_bins=True, common_norm=True, multiple='layer', element='bars', fill=True, shrink=1, kde=False, kde_kws=None, line_kws=None, thresh=0, pthresh=None, pmax=None, cbar=False, cbar_ax=None, cbar_kws=None, palette=None, hue_order=None, hue_norm=None, color=None, log_scale=None, legend=True, ax=None, **kwargs)\n",
        "\n",
        "[Seaborn API](https://seaborn.pydata.org/generated/seaborn.histplot.html)"
      ],
      "metadata": {
        "id": "Zp8Cb1HItov_"
      }
    },
    {
      "cell_type": "code",
      "source": [
        "# myfile[:-5]"
      ],
      "metadata": {
        "id": "V5dHuJaZvkjg"
      },
      "execution_count": null,
      "outputs": []
    },
    {
      "cell_type": "code",
      "source": [
        "# 20230730 *********************\n",
        "import seaborn as sns\n",
        "figName = myfile[:-5] + '_hist.jpg'\n",
        "# import numpy as np\n",
        "# x = np.random.normal(size=2000)\n",
        "# sns.distplot(x)\n",
        "# myFig = sns.histplot(x, bins=35, color='green', kde=True).set_xlim(-3, 1) # kde曲線\n",
        "myFig = sns.histplot(x, bins=35, color='green', kde=True).set(title=figName[:-4])\n",
        "plt.savefig(figName)\n",
        "\n",
        "\n"
      ],
      "metadata": {
        "colab": {
          "base_uri": "https://localhost:8080/",
          "height": 452
        },
        "id": "Xxevn0YW0rI7",
        "outputId": "ca3e5709-6828-43e2-c708-dce191f871c3"
      },
      "execution_count": 17,
      "outputs": [
        {
          "output_type": "display_data",
          "data": {
            "text/plain": [
              "<Figure size 640x480 with 1 Axes>"
            ],
            "image/png": "[encoded data removed]"
          },
          "metadata": {}
        }
      ]
    },
    {
      "cell_type": "markdown",
      "source": [
        "## 趨勢圖\n",
        "\n",
        "\n",
        "* 均值\n",
        "  * np.mean(nums)\n",
        "* 中位数\n",
        "  * np.median(nums)"
      ],
      "metadata": {
        "id": "OgJk6dobjL0x"
      }
    },
    {
      "cell_type": "code",
      "source": [
        "# import numpy\n",
        "# from matplotlib import pyplot as plt\n",
        "df3 = df2.dropna()  # 剔除dataframe空值\n",
        "figName = myfile[:-5] + '_median.jpg'\n",
        "# a = df\n",
        "b = []\n",
        "for i in df3:\n",
        "  #mean = np.mean(df2[i])\n",
        "  mean = np.median(df3[i])\n",
        "  b.append(mean)\n",
        "\n",
        "# Plot the Data itself.\n",
        "plt.title(figName[:-4])\n",
        "plt.plot(b)\n",
        "plt.savefig(figName)\n",
        "plt.show()\n"
      ],
      "metadata": {
        "colab": {
          "base_uri": "https://localhost:8080/",
          "height": 452
        },
        "id": "ZtFM157WlK4p",
        "outputId": "ae8ebe8d-bcc3-453b-c00a-d6de4db0d1ae"
      },
      "execution_count": 18,
      "outputs": [
        {
          "output_type": "display_data",
          "data": {
            "text/plain": [
              "<Figure size 640x480 with 1 Axes>"
            ],
            "image/png": "[encoded data removed]"
          },
          "metadata": {}
        }
      ]
    },
    {
      "cell_type": "markdown",
      "source": [
        "## R1~R68 良率%\n"
      ],
      "metadata": {
        "id": "3xmE8e0mrBQV"
      }
    },
    {
      "cell_type": "code",
      "source": [
        "# 設定各Row上下限標準 依照中位數為準\n",
        "bUp = []\n",
        "bDn = []\n",
        "allCenter = np.median(df3)\n",
        "for i in df3.columns :\n",
        "  #mean = np.mean(df2[i])\n",
        "  meanUp = np.median(df3[i]) + 0.8\n",
        "  meanDn = np.median(df3[i]) - 0.8\n",
        "  bUp.append(meanUp)\n",
        "  bDn.append(meanDn)\n"
      ],
      "metadata": {
        "id": "9lVcSaIFs5XF"
      },
      "execution_count": 19,
      "outputs": []
    },
    {
      "cell_type": "markdown",
      "source": [
        "### 計算中位數"
      ],
      "metadata": {
        "id": "KICki9G_8krD"
      }
    },
    {
      "cell_type": "code",
      "source": [
        "print('全部數據中位數:', allCenter)"
      ],
      "metadata": {
        "colab": {
          "base_uri": "https://localhost:8080/"
        },
        "id": "ffJOQBxB6PQ_",
        "outputId": "79cd56aa-9afd-481a-e7ab-1864baabb530"
      },
      "execution_count": 20,
      "outputs": [
        {
          "output_type": "stream",
          "name": "stdout",
          "text": [
            "全部數據中位數: -1.16\n"
          ]
        }
      ]
    },
    {
      "cell_type": "code",
      "source": [
        "# print(df3.columns)\n",
        "\n",
        "# print(bUp)\n",
        "# print(b)\n",
        "# print(bDn)\n",
        "# # print(b)\n",
        "# # for i in range(len(df3)):\n",
        "# #   print(df3.iat[i, 0])\n",
        "\n",
        "# q = len(df3['Row 1'])\n",
        "# w = bUp[0]\n",
        "# e = bDn[0]\n",
        "# print(q, w, e)"
      ],
      "metadata": {
        "id": "G6Ntx11CuvLT"
      },
      "execution_count": null,
      "outputs": []
    },
    {
      "cell_type": "markdown",
      "source": [
        "### 計算良品數"
      ],
      "metadata": {
        "id": "bkZlFEM1eDRB"
      }
    },
    {
      "cell_type": "code",
      "source": [
        "from numpy.ma import count\n",
        "Rows = df2.columns\n",
        "# print(len(Rows))\n",
        "# countAll = count(df2)\n",
        "nogoodCount = 0\n",
        "goodCount = 0\n",
        "# countHi = 0\n",
        "# countLo = 0\n",
        "# yieldList = []\n",
        "r_num = 0\n",
        "for k in Rows:\n",
        "  # print(k)\n",
        "  for i in range(len(df2)):\n",
        "    # print(df2.at[i, k])\n",
        "    # 20230730 add Hi & Lo **********\n",
        "    # if df2.at[i, k] > 4 :\n",
        "    #   countHi += 1\n",
        "    # if df2.at[i, k] < -8 :\n",
        "    #   countLo += 1\n",
        "# 20230730 1st. way ***********************\n",
        "    # if df2.at[i, k] <= bUp[r_num] and df2.at[i, k] >= bDn[r_num]:\n",
        "    #   goodCount += 1\n",
        "    # if df2.at[i, k] > bUp[r_num] or df2.at[i, k] < bDn[r_num]:  # 依照各Row中位數 +/- 0.8 做上下限\n",
        "    #   nogoodCount += 1\n",
        "# 20230730 採用全體中位數做計算 2nd. way *******************\n",
        "    if df2.at[i, k] <= (allCenter+0.8) and df2.at[i, k] >= (allCenter-0.8):\n",
        "      goodCount += 1\n",
        "    if df2.at[i, k] > (allCenter+0.8) or df2.at[i, k] < (allCenter-0.8):  # 依照中位數 +/- 0.8 做上下限\n",
        "      nogoodCount += 1\n",
        "# 20230730 *****************************************\n",
        "  r_num += 1\n",
        "countAll = goodCount + nogoodCount\n",
        "# 計算量測空值 sum null numbers 20230730 *******************\n",
        "nanum = df2.isna().sum()\n",
        "naN = 0\n",
        "for i in nanum:\n",
        "  if i == True:\n",
        "    naN += 1\n",
        "# print(naN)\n",
        "# **********************************************\n",
        "print(\"不良品數: \", nogoodCount)\n",
        "print(\"良品數: \", goodCount)\n",
        "print(\"Probe error: \", naN)\n",
        "print(\"基板有效量測數: \", countAll)\n",
        "# print(\"Yield %: {:.2%}\".format((countAll-nogoodCount) / countAll) )\n",
        "totalYield = (countAll-nogoodCount) / countAll\n",
        "print(f\"Yield %: {totalYield:.2%}\")\n",
        "\n"
      ],
      "metadata": {
        "colab": {
          "base_uri": "https://localhost:8080/"
        },
        "id": "mW0p1IOfPyWF",
        "outputId": "f12a0c5e-03af-4637-84c1-ef4acee8fc50"
      },
      "execution_count": 21,
      "outputs": [
        {
          "output_type": "stream",
          "name": "stdout",
          "text": [
            "不良品數:  557\n",
            "良品數:  2161\n",
            "Probe error:  2\n",
            "基板有效量測數:  2718\n",
            "Yield %: 79.51%\n"
          ]
        }
      ]
    },
    {
      "cell_type": "code",
      "source": [
        "txtName = myfile[:-4] + 'txt'\n",
        "stdAverge = np.std(x)\n",
        "f = open(txtName, 'w')\n",
        "print(\"不良品數: \", nogoodCount, file=f)\n",
        "print(\"良品數: \", goodCount, file=f)\n",
        "print(\"Probe error: \", naN, file=f)\n",
        "print(\"基板有效量測數: \", countAll, file=f)\n",
        "# totalYield = (countAll-nogoodCount) / countAll\n",
        "print(f\"Yield %: {totalYield:.2%}\", file=f)\n",
        "# 計算標準差std\n",
        "# print(\"sd: {:.3f}\".format(stdAverge))\n",
        "print(f'sd: {stdAverge:.3f}', file=f)\n",
        "f.close()"
      ],
      "metadata": {
        "id": "MoALSGxjAxqh"
      },
      "execution_count": 25,
      "outputs": []
    },
    {
      "cell_type": "code",
      "source": [
        "myOutputTxt = {\n",
        "    \"不良品數:\": nogoodCount,\n",
        "    \"良品數: \": goodCount,\n",
        "    \"Probe error: \": naN,\n",
        "    \"基板有效量測數:\": countAll\n",
        "\n",
        "}"
      ],
      "metadata": {
        "id": "jGgLdD-P_Qkd"
      },
      "execution_count": 23,
      "outputs": []
    },
    {
      "cell_type": "code",
      "source": [
        "# myOutputTxt"
      ],
      "metadata": {
        "colab": {
          "base_uri": "https://localhost:8080/"
        },
        "id": "D8vwdeBMAK9t",
        "outputId": "b0182685-719f-4734-8ac6-41d42d2957c4"
      },
      "execution_count": null,
      "outputs": [
        {
          "output_type": "execute_result",
          "data": {
            "text/plain": [
              "{'不良品數:': 873, '良品數: ': 1840, 'Probe error: ': 5, '基板有效量測數:': 2713}"
            ]
          },
          "metadata": {},
          "execution_count": 19
        }
      ]
    },
    {
      "cell_type": "code",
      "source": [
        "# 計算標準差std\n",
        "stdAverge = np.std(x)\n",
        "# print(\"sd: {:.3f}\".format(stdAverge))\n",
        "print(f'sd: {stdAverge:.3f}')"
      ],
      "metadata": {
        "colab": {
          "base_uri": "https://localhost:8080/"
        },
        "id": "KExzjc66h6Wm",
        "outputId": "1a7a01c1-333d-4c58-b9bb-b317bf2ebe35"
      },
      "execution_count": 24,
      "outputs": [
        {
          "output_type": "stream",
          "name": "stdout",
          "text": [
            "sd: 0.638\n"
          ]
        }
      ]
    },
    {
      "cell_type": "code",
      "source": [
        "# df2.shape"
      ],
      "metadata": {
        "id": "8pm4Z8N_rgLi"
      },
      "execution_count": null,
      "outputs": []
    },
    {
      "cell_type": "markdown",
      "source": [
        "### 繪製Row 良率圖表"
      ],
      "metadata": {
        "id": "hSKO3iD4eLYK"
      }
    },
    {
      "cell_type": "code",
      "source": [
        "# 利用迴圈計數存入每一Row List\n",
        "yieldCount = 0\n",
        "yieldList = []\n",
        "figName = myfile[:-5] + '_RowGoods.jpg'\n",
        "rowCount = 0\n",
        "r_num = 0\n",
        "\n",
        "for k in Rows:\n",
        "  # print(k)\n",
        "  for i in range(len(df2)):\n",
        "    # print(df2.at[i, k])\n",
        "    if df2.at[i, k] <= bUp[r_num] and df2.at[i, k] >= bDn[r_num]:  # 依照中位數 +/- 0.8 做上下限\n",
        "       yieldCount += 1\n",
        "\n",
        "  yieldList.append(yieldCount)\n",
        "\n",
        "\n",
        "  yieldCount = 0\n",
        "  rowCount = 0\n",
        "  r_num += 1\n",
        "\n",
        "print(yieldList)\n",
        "plt.title(figName[:-4])\n",
        "plt.plot(yieldList)\n",
        "plt.savefig(figName)\n",
        "plt.show()"
      ],
      "metadata": {
        "id": "7ECSOXpftDVK",
        "colab": {
          "base_uri": "https://localhost:8080/",
          "height": 489
        },
        "outputId": "ecd20488-36f5-4266-e932-73a3197724f5"
      },
      "execution_count": 26,
      "outputs": [
        {
          "output_type": "stream",
          "name": "stdout",
          "text": [
            "[29, 32, 33, 31, 33, 30, 30, 28, 32, 32, 32, 31, 32, 28, 30, 33, 29, 30, 27, 26, 31, 26, 30, 30, 28, 30, 30, 29, 28, 30, 30, 25, 29, 26, 30, 29, 31, 31, 33, 28, 28, 32, 31, 29, 31, 30, 31, 32, 31, 31, 31, 32, 32, 27, 27, 28, 33, 33, 25, 30, 25, 24, 32, 26, 26, 28, 30, 29, 31, 29, 28, 24, 26, 29, 25, 33, 28, 32, 32, 30]\n"
          ]
        },
        {
          "output_type": "display_data",
          "data": {
            "text/plain": [
              "<Figure size 640x480 with 1 Axes>"
            ],
            "image/png": "[encoded data removed]"
          },
          "metadata": {}
        }
      ]
    },
    {
      "cell_type": "code",
      "source": [
        "figName = myfile[:-5] + '_RowYield.jpg'\n",
        "rowlist = np.array([68])\n",
        "newrowyield = yieldList / rowlist\n",
        "np.set_printoptions(formatter={'float': '{: 0.1%}'.format})\n",
        "print(newrowyield)\n",
        "plt.ylim(0.3,1)\n",
        "plt.title(figName[:-4])\n",
        "plt.plot(newrowyield)\n",
        "plt.savefig(figName)\n",
        "plt.show()"
      ],
      "metadata": {
        "colab": {
          "base_uri": "https://localhost:8080/",
          "height": 591
        },
        "id": "iClerMAOahtl",
        "outputId": "1fe751ee-d67f-4c0f-cb3c-2ea0e82c3e66"
      },
      "execution_count": 27,
      "outputs": [
        {
          "output_type": "stream",
          "name": "stdout",
          "text": [
            "[ 42.6%  47.1%  48.5%  45.6%  48.5%  44.1%  44.1%  41.2%  47.1%  47.1%\n",
            "  47.1%  45.6%  47.1%  41.2%  44.1%  48.5%  42.6%  44.1%  39.7%  38.2%\n",
            "  45.6%  38.2%  44.1%  44.1%  41.2%  44.1%  44.1%  42.6%  41.2%  44.1%\n",
            "  44.1%  36.8%  42.6%  38.2%  44.1%  42.6%  45.6%  45.6%  48.5%  41.2%\n",
            "  41.2%  47.1%  45.6%  42.6%  45.6%  44.1%  45.6%  47.1%  45.6%  45.6%\n",
            "  45.6%  47.1%  47.1%  39.7%  39.7%  41.2%  48.5%  48.5%  36.8%  44.1%\n",
            "  36.8%  35.3%  47.1%  38.2%  38.2%  41.2%  44.1%  42.6%  45.6%  42.6%\n",
            "  41.2%  35.3%  38.2%  42.6%  36.8%  48.5%  41.2%  47.1%  47.1%  44.1%]\n"
          ]
        },
        {
          "output_type": "display_data",
          "data": {
            "text/plain": [
              "<Figure size 640x480 with 1 Axes>"
            ],
            "image/png": "[encoded data removed]"
          },
          "metadata": {}
        }
      ]
    },
    {
      "cell_type": "code",
      "source": [
        "myfile"
      ],
      "metadata": {
        "colab": {
          "base_uri": "https://localhost:8080/",
          "height": 35
        },
        "id": "J6y3WMRRNoni",
        "outputId": "22be1c52-9728-4315-9d05-f89dacf25433"
      },
      "execution_count": null,
      "outputs": [
        {
          "output_type": "execute_result",
          "data": {
            "text/plain": [
              "'myData06.xlsx'"
            ],
            "application/vnd.google.colaboratory.intrinsic+json": {
              "type": "string"
            }
          },
          "metadata": {},
          "execution_count": 24
        }
      ]
    },
    {
      "cell_type": "code",
      "source": [
        "from google.colab import files\n",
        "newfileName = myfile[:-5]\n",
        "iName = ['.txt', '_hist.jpg', '_heatMap.jpg', '_median.jpg', '_RowGoods.jpg', '_RowYield.jpg']\n",
        "for i in iName:\n",
        "  downName = newfileName + i\n",
        "  files.download(downName)\n",
        "  # print(downName)\n",
        "\n",
        "# print(newfileName + iName[0])"
      ],
      "metadata": {
        "colab": {
          "base_uri": "https://localhost:8080/",
          "height": 17
        },
        "id": "Wdp6kwPJMiBI",
        "outputId": "a39afd45-cd89-4cdd-9783-ee71068765f8"
      },
      "execution_count": 28,
      "outputs": [
        {
          "output_type": "display_data",
          "data": {
            "text/plain": [
              "<IPython.core.display.Javascript object>"
            ],
            "application/javascript": [
              "\n",
              "    async function download(id, filename, size) {\n",
              "      if (!google.colab.kernel.accessAllowed) {\n",
              "        return;\n",
              "      }\n",
              "      const div = document.createElement('div');\n",
              "      const label = document.createElement('label');\n",
              "      label.textContent = `Downloading \"${filename}\": `;\n",
              "      div.appendChild(label);\n",
              "      const progress = document.createElement('progress');\n",
              "      progress.max = size;\n",
              "      div.appendChild(progress);\n",
              "      document.body.appendChild(div);\n",
              "\n",
              "      const buffers = [];\n",
              "      let downloaded = 0;\n",
              "\n",
              "      const channel = await google.colab.kernel.comms.open(id);\n",
              "      // Send a message to notify the kernel that we're ready.\n",
              "      channel.send({})\n",
              "\n",
              "      for await (const message of channel.messages) {\n",
              "        // Send a message to notify the kernel that we're ready.\n",
              "        channel.send({})\n",
              "        if (message.buffers) {\n",
              "          for (const buffer of message.buffers) {\n",
              "            buffers.push(buffer);\n",
              "            downloaded += buffer.byteLength;\n",
              "            progress.value = downloaded;\n",
              "          }\n",
              "        }\n",
              "      }\n",
              "      const blob = new Blob(buffers, {type: 'application/binary'});\n",
              "      const a = document.createElement('a');\n",
              "      a.href = window.URL.createObjectURL(blob);\n",
              "      a.download = filename;\n",
              "      div.appendChild(a);\n",
              "      a.click();\n",
              "      div.remove();\n",
              "    }\n",
              "  "
            ]
          },
          "metadata": {}
        },
        {
          "output_type": "display_data",
          "data": {
            "text/plain": [
              "<IPython.core.display.Javascript object>"
            ],
            "application/javascript": [
              "download(\"download_198ed566-82cf-4b34-9095-00eab6983f3d\", \"20230725_data1.txt\", 107)"
            ]
          },
          "metadata": {}
        },
        {
          "output_type": "display_data",
          "data": {
            "text/plain": [
              "<IPython.core.display.Javascript object>"
            ],
            "application/javascript": [
              "\n",
              "    async function download(id, filename, size) {\n",
              "      if (!google.colab.kernel.accessAllowed) {\n",
              "        return;\n",
              "      }\n",
              "      const div = document.createElement('div');\n",
              "      const label = document.createElement('label');\n",
              "      label.textContent = `Downloading \"${filename}\": `;\n",
              "      div.appendChild(label);\n",
              "      const progress = document.createElement('progress');\n",
              "      progress.max = size;\n",
              "      div.appendChild(progress);\n",
              "      document.body.appendChild(div);\n",
              "\n",
              "      const buffers = [];\n",
              "      let downloaded = 0;\n",
              "\n",
              "      const channel = await google.colab.kernel.comms.open(id);\n",
              "      // Send a message to notify the kernel that we're ready.\n",
              "      channel.send({})\n",
              "\n",
              "      for await (const message of channel.messages) {\n",
              "        // Send a message to notify the kernel that we're ready.\n",
              "        channel.send({})\n",
              "        if (message.buffers) {\n",
              "          for (const buffer of message.buffers) {\n",
              "            buffers.push(buffer);\n",
              "            downloaded += buffer.byteLength;\n",
              "            progress.value = downloaded;\n",
              "          }\n",
              "        }\n",
              "      }\n",
              "      const blob = new Blob(buffers, {type: 'application/binary'});\n",
              "      const a = document.createElement('a');\n",
              "      a.href = window.URL.createObjectURL(blob);\n",
              "      a.download = filename;\n",
              "      div.appendChild(a);\n",
              "      a.click();\n",
              "      div.remove();\n",
              "    }\n",
              "  "
            ]
          },
          "metadata": {}
        },
        {
          "output_type": "display_data",
          "data": {
            "text/plain": [
              "<IPython.core.display.Javascript object>"
            ],
            "application/javascript": [
              "download(\"download_d6f9588f-dd65-4a4a-93a5-1de8ed07cd86\", \"20230725_data1_hist.jpg\", 23157)"
            ]
          },
          "metadata": {}
        },
        {
          "output_type": "display_data",
          "data": {
            "text/plain": [
              "<IPython.core.display.Javascript object>"
            ],
            "application/javascript": [
              "\n",
              "    async function download(id, filename, size) {\n",
              "      if (!google.colab.kernel.accessAllowed) {\n",
              "        return;\n",
              "      }\n",
              "      const div = document.createElement('div');\n",
              "      const label = document.createElement('label');\n",
              "      label.textContent = `Downloading \"${filename}\": `;\n",
              "      div.appendChild(label);\n",
              "      const progress = document.createElement('progress');\n",
              "      progress.max = size;\n",
              "      div.appendChild(progress);\n",
              "      document.body.appendChild(div);\n",
              "\n",
              "      const buffers = [];\n",
              "      let downloaded = 0;\n",
              "\n",
              "      const channel = await google.colab.kernel.comms.open(id);\n",
              "      // Send a message to notify the kernel that we're ready.\n",
              "      channel.send({})\n",
              "\n",
              "      for await (const message of channel.messages) {\n",
              "        // Send a message to notify the kernel that we're ready.\n",
              "        channel.send({})\n",
              "        if (message.buffers) {\n",
              "          for (const buffer of message.buffers) {\n",
              "            buffers.push(buffer);\n",
              "            downloaded += buffer.byteLength;\n",
              "            progress.value = downloaded;\n",
              "          }\n",
              "        }\n",
              "      }\n",
              "      const blob = new Blob(buffers, {type: 'application/binary'});\n",
              "      const a = document.createElement('a');\n",
              "      a.href = window.URL.createObjectURL(blob);\n",
              "      a.download = filename;\n",
              "      div.appendChild(a);\n",
              "      a.click();\n",
              "      div.remove();\n",
              "    }\n",
              "  "
            ]
          },
          "metadata": {}
        },
        {
          "output_type": "display_data",
          "data": {
            "text/plain": [
              "<IPython.core.display.Javascript object>"
            ],
            "application/javascript": [
              "download(\"download_e6d2fe94-c4b6-41b6-80d3-6e9014f5afc8\", \"20230725_data1_heatMap.jpg\", 30950)"
            ]
          },
          "metadata": {}
        },
        {
          "output_type": "display_data",
          "data": {
            "text/plain": [
              "<IPython.core.display.Javascript object>"
            ],
            "application/javascript": [
              "\n",
              "    async function download(id, filename, size) {\n",
              "      if (!google.colab.kernel.accessAllowed) {\n",
              "        return;\n",
              "      }\n",
              "      const div = document.createElement('div');\n",
              "      const label = document.createElement('label');\n",
              "      label.textContent = `Downloading \"${filename}\": `;\n",
              "      div.appendChild(label);\n",
              "      const progress = document.createElement('progress');\n",
              "      progress.max = size;\n",
              "      div.appendChild(progress);\n",
              "      document.body.appendChild(div);\n",
              "\n",
              "      const buffers = [];\n",
              "      let downloaded = 0;\n",
              "\n",
              "      const channel = await google.colab.kernel.comms.open(id);\n",
              "      // Send a message to notify the kernel that we're ready.\n",
              "      channel.send({})\n",
              "\n",
              "      for await (const message of channel.messages) {\n",
              "        // Send a message to notify the kernel that we're ready.\n",
              "        channel.send({})\n",
              "        if (message.buffers) {\n",
              "          for (const buffer of message.buffers) {\n",
              "            buffers.push(buffer);\n",
              "            downloaded += buffer.byteLength;\n",
              "            progress.value = downloaded;\n",
              "          }\n",
              "        }\n",
              "      }\n",
              "      const blob = new Blob(buffers, {type: 'application/binary'});\n",
              "      const a = document.createElement('a');\n",
              "      a.href = window.URL.createObjectURL(blob);\n",
              "      a.download = filename;\n",
              "      div.appendChild(a);\n",
              "      a.click();\n",
              "      div.remove();\n",
              "    }\n",
              "  "
            ]
          },
          "metadata": {}
        },
        {
          "output_type": "display_data",
          "data": {
            "text/plain": [
              "<IPython.core.display.Javascript object>"
            ],
            "application/javascript": [
              "download(\"download_f581a887-dab7-4682-b850-67c1fb00ff6e\", \"20230725_data1_median.jpg\", 24592)"
            ]
          },
          "metadata": {}
        },
        {
          "output_type": "display_data",
          "data": {
            "text/plain": [
              "<IPython.core.display.Javascript object>"
            ],
            "application/javascript": [
              "\n",
              "    async function download(id, filename, size) {\n",
              "      if (!google.colab.kernel.accessAllowed) {\n",
              "        return;\n",
              "      }\n",
              "      const div = document.createElement('div');\n",
              "      const label = document.createElement('label');\n",
              "      label.textContent = `Downloading \"${filename}\": `;\n",
              "      div.appendChild(label);\n",
              "      const progress = document.createElement('progress');\n",
              "      progress.max = size;\n",
              "      div.appendChild(progress);\n",
              "      document.body.appendChild(div);\n",
              "\n",
              "      const buffers = [];\n",
              "      let downloaded = 0;\n",
              "\n",
              "      const channel = await google.colab.kernel.comms.open(id);\n",
              "      // Send a message to notify the kernel that we're ready.\n",
              "      channel.send({})\n",
              "\n",
              "      for await (const message of channel.messages) {\n",
              "        // Send a message to notify the kernel that we're ready.\n",
              "        channel.send({})\n",
              "        if (message.buffers) {\n",
              "          for (const buffer of message.buffers) {\n",
              "            buffers.push(buffer);\n",
              "            downloaded += buffer.byteLength;\n",
              "            progress.value = downloaded;\n",
              "          }\n",
              "        }\n",
              "      }\n",
              "      const blob = new Blob(buffers, {type: 'application/binary'});\n",
              "      const a = document.createElement('a');\n",
              "      a.href = window.URL.createObjectURL(blob);\n",
              "      a.download = filename;\n",
              "      div.appendChild(a);\n",
              "      a.click();\n",
              "      div.remove();\n",
              "    }\n",
              "  "
            ]
          },
          "metadata": {}
        },
        {
          "output_type": "display_data",
          "data": {
            "text/plain": [
              "<IPython.core.display.Javascript object>"
            ],
            "application/javascript": [
              "download(\"download_40e21227-f1ee-4bb7-8d99-483b1e75426b\", \"20230725_data1_RowGoods.jpg\", 30575)"
            ]
          },
          "metadata": {}
        },
        {
          "output_type": "display_data",
          "data": {
            "text/plain": [
              "<IPython.core.display.Javascript object>"
            ],
            "application/javascript": [
              "\n",
              "    async function download(id, filename, size) {\n",
              "      if (!google.colab.kernel.accessAllowed) {\n",
              "        return;\n",
              "      }\n",
              "      const div = document.createElement('div');\n",
              "      const label = document.createElement('label');\n",
              "      label.textContent = `Downloading \"${filename}\": `;\n",
              "      div.appendChild(label);\n",
              "      const progress = document.createElement('progress');\n",
              "      progress.max = size;\n",
              "      div.appendChild(progress);\n",
              "      document.body.appendChild(div);\n",
              "\n",
              "      const buffers = [];\n",
              "      let downloaded = 0;\n",
              "\n",
              "      const channel = await google.colab.kernel.comms.open(id);\n",
              "      // Send a message to notify the kernel that we're ready.\n",
              "      channel.send({})\n",
              "\n",
              "      for await (const message of channel.messages) {\n",
              "        // Send a message to notify the kernel that we're ready.\n",
              "        channel.send({})\n",
              "        if (message.buffers) {\n",
              "          for (const buffer of message.buffers) {\n",
              "            buffers.push(buffer);\n",
              "            downloaded += buffer.byteLength;\n",
              "            progress.value = downloaded;\n",
              "          }\n",
              "        }\n",
              "      }\n",
              "      const blob = new Blob(buffers, {type: 'application/binary'});\n",
              "      const a = document.createElement('a');\n",
              "      a.href = window.URL.createObjectURL(blob);\n",
              "      a.download = filename;\n",
              "      div.appendChild(a);\n",
              "      a.click();\n",
              "      div.remove();\n",
              "    }\n",
              "  "
            ]
          },
          "metadata": {}
        },
        {
          "output_type": "display_data",
          "data": {
            "text/plain": [
              "<IPython.core.display.Javascript object>"
            ],
            "application/javascript": [
              "download(\"download_70ae759a-604c-4a6f-9cb4-eec5c73e88ca\", \"20230725_data1_RowYield.jpg\", 20784)"
            ]
          },
          "metadata": {}
        }
      ]
    },
    {
      "cell_type": "code",
      "source": [
        "# len(yieldList)"
      ],
      "metadata": {
        "id": "CD5IBGBmoaqa"
      },
      "execution_count": null,
      "outputs": []
    },
    {
      "cell_type": "code",
      "source": [
        "# df3 = df2.dropna()  # 剔除dataframe空值\n",
        "\n",
        "# # Plot the Data itself.\n",
        "# plt.plot(df3)\n",
        "\n",
        "# plt.show()\n",
        "\n",
        "\n"
      ],
      "metadata": {
        "id": "yrHDaoQFrLyo"
      },
      "execution_count": null,
      "outputs": []
    },
    {
      "cell_type": "markdown",
      "source": [
        "# 網路舉例\n",
        "\n",
        "```\n",
        "\n",
        "import matplotlib.pyplot as plt\n",
        "import numpy as np\n",
        "\n",
        "plt.style.use('_mpl-gallery')\n",
        "\n",
        "# make data\n",
        "np.random.seed(1)\n",
        "x = 4 + np.random.normal(0, 1.5, 200)\n",
        "\n",
        "# plot:\n",
        "fig, ax = plt.subplots()\n",
        "\n",
        "ax.hist(x, bins=8, linewidth=0.5, edgecolor=\"white\")\n",
        "\n",
        "ax.set(xlim=(0, 8), xticks=np.arange(1, 8),\n",
        "       ylim=(0, 56), yticks=np.linspace(0, 56, 9))\n",
        "\n",
        "plt.show()\n",
        "\n",
        "```"
      ],
      "metadata": {
        "id": "rrT3cRFGKwvU"
      }
    },
    {
      "cell_type": "code",
      "source": [
        "# from pandas._libs.algos import diff_2d\n",
        "# ChatGPT 產生code\n",
        "# import numpy as np\n",
        "# import matplotlib.pyplot as plt\n",
        "\n",
        "\n",
        "# # 產生範例資料，這裡使用了隨機的二維NumPy陣列\n",
        "# #data = np.random.randint(1, 10, size=(4, 3))  # 產生一個 4x3 的二維陣列，數值範圍在 1 到 10 之間\n",
        "# data = myList\n",
        "# # 設置長條圖參數\n",
        "# #rows = ['Row 1', 'Row 2', 'Row 3', 'Row 4']  # 每一列的標籤\n",
        "# rows = df.iloc[:, 0]\n",
        "\n",
        "# # columns = ['A', 'B', 'C']  # 每一行的標籤\n",
        "# columns = df2.columns.tolist()\n",
        "\n",
        "\n",
        "# # 建立長條圖\n",
        "# fig, ax = plt.subplots()\n",
        "# width = 0.2  # 設置每個長條的寬度\n",
        "# x = np.arange(len(columns))\n",
        "\n",
        "\n",
        "# for i, row in enumerate(data):\n",
        "#     ax.bar(x + i * width, row, width, label=rows[i])\n",
        "\n",
        "# # 加入標籤和圖例\n",
        "# ax.set_ylabel('%')\n",
        "# ax.set_title(' Row offset')\n",
        "# #ax.set_xticks(x + width * (len(data) - 1) / 2)\n",
        "# #ax.set_xticklabels(columns)\n",
        "# # ax.legend()\n",
        "\n",
        "# # 顯示圖形\n",
        "# plt.show()\n"
      ],
      "metadata": {
        "id": "Yh1aFKhuRNG7"
      },
      "execution_count": null,
      "outputs": []
    }
  ]
}