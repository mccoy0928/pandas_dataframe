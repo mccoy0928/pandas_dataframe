{
  "nbformat": 4,
  "nbformat_minor": 0,
  "metadata": {
    "colab": {
      "provenance": [],
      "toc_visible": true,
      "authorship_tag": "ABX9TyNqE2DUGoPUJn36VAw0Gg0I",
      "include_colab_link": true
    },
    "kernelspec": {
      "name": "python3",
      "display_name": "Python 3"
    },
    "language_info": {
      "name": "python"
    }
  },
  "cells": [
    {
      "cell_type": "markdown",
      "metadata": {
        "id": "view-in-github",
        "colab_type": "text"
      },
      "source": [
        "<a href=\"https://colab.research.google.com/github/mccoy0928/pandas_dataframe/blob/main/Pandas_try_it.ipynb\" target=\"_parent\"><img src=\"https://colab.research.google.com/assets/colab-badge.svg\" alt=\"Open In Colab\"/></a>"
      ]
    },
    {
      "cell_type": "markdown",
      "source": [
        "# Pandas 大綱介紹\n"
      ],
      "metadata": {
        "id": "QSsuCTsX10GP"
      }
    },
    {
      "cell_type": "markdown",
      "source": [
        "## 建立DataFrame\n",
        "* my_dataframe = pandas.DataFrame(字典或陣列資料)"
      ],
      "metadata": {
        "id": "BErsOF0w2_Dx"
      }
    },
    {
      "cell_type": "code",
      "execution_count": 5,
      "metadata": {
        "colab": {
          "base_uri": "https://localhost:8080/"
        },
        "id": "tWm7Yxu4zNOp",
        "outputId": "a5f28f39-938c-4dc5-b753-63e0616d78ac"
      },
      "outputs": [
        {
          "output_type": "stream",
          "name": "stdout",
          "text": [
            "使用字典來建立df：\n",
            "     name  math  chinese\n",
            "0    Mike    80       63\n",
            "1  Sherry    75       90\n",
            "2   Cindy    93       85\n",
            "3    John    86       70\n",
            "=====================\n",
            "使用陣列來建立df：\n",
            "        0   1   2\n",
            "0    Mike  80  63\n",
            "1  Sherry  75  90\n",
            "2   Cindy  93  85\n",
            "3    John  86  70\n"
          ]
        }
      ],
      "source": [
        "import pandas as pd\n",
        "\n",
        "\n",
        "grades = {\n",
        "    \"name\": [\"Mike\", \"Sherry\", \"Cindy\", \"John\"],\n",
        "    \"math\": [80, 75, 93, 86],\n",
        "    \"chinese\": [63, 90, 85, 70]\n",
        "}\n",
        "\n",
        "df = pd.DataFrame(grades)\n",
        "\n",
        "print(\"使用字典來建立df：\")\n",
        "print(df)\n",
        "\n",
        "print(\"=====================\")\n",
        "\n",
        "grades = [\n",
        "    [\"Mike\", 80, 63],\n",
        "    [\"Sherry\", 75, 90],\n",
        "    [\"Cindy\", 93, 85],\n",
        "    [\"John\", 86, 70]\n",
        "]\n",
        "\n",
        "new_df = pd.DataFrame(grades)\n",
        "\n",
        "print(\"使用陣列來建立df：\")\n",
        "print(new_df)"
      ]
    },
    {
      "cell_type": "markdown",
      "source": [
        "## index & columns\n",
        "* 從執行結果可以看到，相同的資料內容，使用Python字典(Dictionary)來進行指定的話，鍵值(Key)就是Pandas DataFrame的欄位名稱，值(Value)則是該欄位的資料內容。而使用陣列來指定的話，就是單純的每一筆資料內容。\n",
        "\n",
        "* 如果想要客製化Pandas DataFrame的資料索引及欄位名稱，可以分別利用index及columns屬性(Attribute)來達成，如下範例："
      ],
      "metadata": {
        "id": "MpninLuX1z_C"
      }
    },
    {
      "cell_type": "code",
      "source": [
        "\n",
        "grades = {\n",
        "    \"name\": [\"Mike\", \"Sherry\", \"Cindy\", \"John\"],\n",
        "    \"math\": [80, 75, 93, 86],\n",
        "    \"chinese\": [63, 90, 85, 70]\n",
        "}\n",
        "\n",
        "df = pd.DataFrame(grades)\n",
        "df.index = [\"s1\", \"s2\", \"s3\", \"s4\"]  #自訂索引值\n",
        "df.columns = [\"student_name\", \"math_score\", \"chinese_score\"]  #自訂欄位名稱\n",
        "print(df)"
      ],
      "metadata": {
        "colab": {
          "base_uri": "https://localhost:8080/"
        },
        "id": "0FxO33In2ssr",
        "outputId": "926b547a-f882-4314-8184-c0cb6da90ddb"
      },
      "execution_count": 2,
      "outputs": [
        {
          "output_type": "stream",
          "name": "stdout",
          "text": [
            "   student_name  math_score  chinese_score\n",
            "s1         Mike          80             63\n",
            "s2       Sherry          75             90\n",
            "s3        Cindy          93             85\n",
            "s4         John          86             70\n"
          ]
        }
      ]
    },
    {
      "cell_type": "markdown",
      "source": [
        "## 取得Pandas DataFrame資料\n",
        "\n",
        "* head()：取得最前面的n筆資料，並且會回傳一個新的Pandas\n",
        "\n",
        "* tail()：取得最後面的n筆資料，並且會回傳一個新的Pandas DataFrame資料集，如下範例："
      ],
      "metadata": {
        "id": "1D9DldYq2yVU"
      }
    },
    {
      "cell_type": "code",
      "source": [
        "print(df.head(2))\n",
        "print(df.tail(2))"
      ],
      "metadata": {
        "colab": {
          "base_uri": "https://localhost:8080/"
        },
        "id": "z3_62qvs3aAW",
        "outputId": "15f8fe69-3c3d-4def-8300-ebe95d2b2933"
      },
      "execution_count": 3,
      "outputs": [
        {
          "output_type": "stream",
          "name": "stdout",
          "text": [
            "   student_name  math_score  chinese_score\n",
            "s1         Mike          80             63\n",
            "s2       Sherry          75             90\n",
            "   student_name  math_score  chinese_score\n",
            "s3        Cindy          93             85\n",
            "s4         John          86             70\n"
          ]
        }
      ]
    },
    {
      "cell_type": "markdown",
      "source": [
        "* 中括號[]：在中括號中指定「欄位名稱」或「資料索引值」，來取得所需的資料集，如下範例："
      ],
      "metadata": {
        "id": "hjfK7M3d3_tC"
      }
    },
    {
      "cell_type": "code",
      "source": [
        "grades = {\n",
        "    \"name\": [\"Mike\", \"Sherry\", \"Cindy\", \"John\"],\n",
        "    \"math\": [80, 75, 93, 86],\n",
        "    \"chinese\": [63, 90, 85, 70]\n",
        "}\n",
        "\n",
        "df = pd.DataFrame(grades)\n",
        "print(\"取得單一欄位資料(型別為Series)\")\n",
        "print(df[\"name\"])\n",
        "\n",
        "print(\"=================================\")\n",
        "\n",
        "print(\"取得單一欄位資料(型別為DataFrame)\")\n",
        "print(df[[\"name\"]])\n",
        "\n",
        "print(\"=================================\")\n",
        "\n",
        "print(\"取得多欄位資料(型別為DataFrame)\")\n",
        "print(df[[\"name\", \"chinese\"]])\n",
        "\n",
        "print(\"=================================\")\n",
        "\n",
        "print(\"取得索引值0~2的資料\")\n",
        "print(df[0:3])"
      ],
      "metadata": {
        "colab": {
          "base_uri": "https://localhost:8080/"
        },
        "id": "8vllg-QM3_ZV",
        "outputId": "d5a0446b-9502-4d5a-c64a-f23cfef52290"
      },
      "execution_count": 7,
      "outputs": [
        {
          "output_type": "stream",
          "name": "stdout",
          "text": [
            "取得單一欄位資料(型別為Series)\n",
            "0      Mike\n",
            "1    Sherry\n",
            "2     Cindy\n",
            "3      John\n",
            "Name: name, dtype: object\n",
            "=================================\n",
            "取得單一欄位資料(型別為DataFrame)\n",
            "     name\n",
            "0    Mike\n",
            "1  Sherry\n",
            "2   Cindy\n",
            "3    John\n",
            "=================================\n",
            "取得多欄位資料(型別為DataFrame)\n",
            "     name  chinese\n",
            "0    Mike       63\n",
            "1  Sherry       90\n",
            "2   Cindy       85\n",
            "3    John       70\n",
            "=================================\n",
            "取得索引值0~2的資料\n",
            "     name  math  chinese\n",
            "0    Mike    80       63\n",
            "1  Sherry    75       90\n",
            "2   Cindy    93       85\n"
          ]
        }
      ]
    },
    {
      "cell_type": "markdown",
      "source": [
        "* at[資料索引值,欄位名稱]：利用資料索引值及欄位名稱來取得「單一值」，如下範例：\n",
        "\n",
        "* iat[資料索引值,欄位順序]：利用資料索引值及欄位順序來取得「單一值」，如下範例："
      ],
      "metadata": {
        "id": "vUHbn09w4kes"
      }
    },
    {
      "cell_type": "code",
      "source": [
        "print(df.at[1,'name'])\n",
        "print(df.iat[1,0])"
      ],
      "metadata": {
        "colab": {
          "base_uri": "https://localhost:8080/"
        },
        "id": "PU3Ne3Tr4tuC",
        "outputId": "63d0151b-734f-49ff-f37c-98cb5bbffb36"
      },
      "execution_count": 10,
      "outputs": [
        {
          "output_type": "stream",
          "name": "stdout",
          "text": [
            "Sherry\n",
            "Sherry\n"
          ]
        }
      ]
    },
    {
      "cell_type": "markdown",
      "source": [
        "* loc[資料索引值,欄位名稱]：利用資料索引值及欄位名稱來取得「資料集」，如下範例：\n",
        "\n",
        "* iloc[資料索引值,欄位順序]：利用資料索引值及欄位順序來取得「資料集」，如下範例："
      ],
      "metadata": {
        "id": "p_UK-A435Q7S"
      }
    },
    {
      "cell_type": "code",
      "source": [
        "print(df.loc[1,'name'])\n",
        "print(df.iloc[1,0])"
      ],
      "metadata": {
        "colab": {
          "base_uri": "https://localhost:8080/"
        },
        "id": "J98I7n4d5SkW",
        "outputId": "789579e6-c3b0-4ffc-a9bb-1ef00535acea"
      },
      "execution_count": 12,
      "outputs": [
        {
          "output_type": "stream",
          "name": "stdout",
          "text": [
            "Sherry\n",
            "Sherry\n"
          ]
        }
      ]
    },
    {
      "cell_type": "markdown",
      "source": [
        "## 新增Pandas DataFrame資料\n",
        "\n",
        "* insert()：在指定的欄位位置新增欄位資料，如下範例："
      ],
      "metadata": {
        "id": "F3zP-Obf5sBh"
      }
    },
    {
      "cell_type": "code",
      "source": [
        "print(\"原來的df\")\n",
        "print(df)\n",
        "\n",
        "print(\"=================================\")\n",
        "\n",
        "df.insert(2, column=\"engilsh\", value=[88, 72, 74, 98])\n",
        "print(\"在第三欄的地方新增一個欄位資料\")\n",
        "print(df)"
      ],
      "metadata": {
        "colab": {
          "base_uri": "https://localhost:8080/"
        },
        "id": "F-fhH20T5wLT",
        "outputId": "6c6e439a-a8fc-4ee9-fe76-bdba101c0b49"
      },
      "execution_count": 13,
      "outputs": [
        {
          "output_type": "stream",
          "name": "stdout",
          "text": [
            "原來的df\n",
            "     name  math  chinese\n",
            "0    Mike    80       63\n",
            "1  Sherry    75       90\n",
            "2   Cindy    93       85\n",
            "3    John    86       70\n",
            "=================================\n",
            "在第三欄的地方新增一個欄位資料\n",
            "     name  math  engilsh  chinese\n",
            "0    Mike    80       88       63\n",
            "1  Sherry    75       72       90\n",
            "2   Cindy    93       74       85\n",
            "3    John    86       98       70\n"
          ]
        }
      ]
    },
    {
      "cell_type": "markdown",
      "source": [
        "* append()：新增一筆或一列的資料，透過傳入字典(Dictionary)來指定各欄位的值，並且會回傳一個新的Pandas DataFrame資料集，如下範例："
      ],
      "metadata": {
        "id": "sOWIXjFo55yE"
      }
    },
    {
      "cell_type": "code",
      "source": [
        "print(\"原來的df\")\n",
        "print(df)\n",
        "\n",
        "print(\"=================================\")\n",
        "\n",
        "new_df = df.append({\n",
        "    \"name\": \"Henry\",\n",
        "    \"math\": 60,\n",
        "    \"chinese\": 62\n",
        "}, ignore_index=True)\n",
        "\n",
        "print(\"新增一筆資料\")\n",
        "print(new_df)"
      ],
      "metadata": {
        "colab": {
          "base_uri": "https://localhost:8080/"
        },
        "id": "_Wonr-nK6AJM",
        "outputId": "fa71fe56-60ea-427a-834b-297005dfc6d3"
      },
      "execution_count": 14,
      "outputs": [
        {
          "output_type": "stream",
          "name": "stdout",
          "text": [
            "原來的df\n",
            "     name  math  engilsh  chinese\n",
            "0    Mike    80       88       63\n",
            "1  Sherry    75       72       90\n",
            "2   Cindy    93       74       85\n",
            "3    John    86       98       70\n",
            "=================================\n",
            "新增一筆資料\n",
            "     name  math  engilsh  chinese\n",
            "0    Mike    80     88.0       63\n",
            "1  Sherry    75     72.0       90\n",
            "2   Cindy    93     74.0       85\n",
            "3    John    86     98.0       70\n",
            "4   Henry    60      NaN       62\n"
          ]
        },
        {
          "output_type": "stream",
          "name": "stderr",
          "text": [
            "<ipython-input-14-f1564a97016d>:6: FutureWarning: The frame.append method is deprecated and will be removed from pandas in a future version. Use pandas.concat instead.\n",
            "  new_df = df.append({\n"
          ]
        }
      ]
    },
    {
      "cell_type": "markdown",
      "source": [
        "* concat()：利用合併多個Pandas DataFrame的方式來新增資料，並且會回傳一個新的Pandas DataFrame資料集，如下範例："
      ],
      "metadata": {
        "id": "1QHtbpXK6QxR"
      }
    },
    {
      "cell_type": "code",
      "source": [
        "grades = {\n",
        "    \"name\": [\"Mike\", \"Sherry\", \"Cindy\", \"John\"],\n",
        "    \"math\": [80, 75, 93, 86],\n",
        "    \"chinese\": [63, 90, 85, 70]\n",
        "}\n",
        "\n",
        "df1 = pd.DataFrame(grades)\n",
        "print(\"原來的df\")\n",
        "print(df1)\n",
        "\n",
        "print(\"=================================\")\n",
        "\n",
        "df2 = pd.DataFrame({\n",
        "    \"name\": [\"Henry\"],\n",
        "    \"math\": [60],\n",
        "    \"chinese\": [62]\n",
        "})\n",
        "\n",
        "new_df = pd.concat([df1, df2], ignore_index=True)\n",
        "print(\"合併df來新增資料\")\n",
        "print(new_df)"
      ],
      "metadata": {
        "colab": {
          "base_uri": "https://localhost:8080/"
        },
        "id": "X6wgtVDj6UrU",
        "outputId": "9ead1f71-9263-4bcb-9b63-774b1f5e3d4f"
      },
      "execution_count": 15,
      "outputs": [
        {
          "output_type": "stream",
          "name": "stdout",
          "text": [
            "原來的df\n",
            "     name  math  chinese\n",
            "0    Mike    80       63\n",
            "1  Sherry    75       90\n",
            "2   Cindy    93       85\n",
            "3    John    86       70\n",
            "=================================\n",
            "合併df來新增資料\n",
            "     name  math  chinese\n",
            "0    Mike    80       63\n",
            "1  Sherry    75       90\n",
            "2   Cindy    93       85\n",
            "3    John    86       70\n",
            "4   Henry    60       62\n"
          ]
        }
      ]
    },
    {
      "cell_type": "markdown",
      "source": [
        "## 修改Pandas DataFrame資料\n",
        "\n",
        "利用Pandas DataFrame的at[]及iat[]取得所要修改的單一值後，來進行資料內容的修改，如下範例："
      ],
      "metadata": {
        "id": "DdJKUvLa6q1z"
      }
    },
    {
      "cell_type": "code",
      "source": [
        "print(\"原來的df\")\n",
        "print(df)\n",
        "\n",
        "print(\"=================================\")\n",
        "\n",
        "df.at[1, \"math\"] = 100  #修改索引值為1的math欄位資料\n",
        "df.iat[1, 0] = \"Larry\"  #修改索引值為1的第一個欄位資料\n",
        "print(\"修改後的df\")\n",
        "print(df)"
      ],
      "metadata": {
        "colab": {
          "base_uri": "https://localhost:8080/"
        },
        "id": "5f0VdKj662kG",
        "outputId": "40f37a84-116c-4667-8278-9419589c0c8c"
      },
      "execution_count": 16,
      "outputs": [
        {
          "output_type": "stream",
          "name": "stdout",
          "text": [
            "原來的df\n",
            "     name  math  engilsh  chinese\n",
            "0    Mike    80       88       63\n",
            "1  Sherry    75       72       90\n",
            "2   Cindy    93       74       85\n",
            "3    John    86       98       70\n",
            "=================================\n",
            "修改後的df\n",
            "    name  math  engilsh  chinese\n",
            "0   Mike    80       88       63\n",
            "1  Larry   100       72       90\n",
            "2  Cindy    93       74       85\n",
            "3   John    86       98       70\n"
          ]
        }
      ]
    },
    {
      "cell_type": "markdown",
      "source": [
        "## 刪除Pandas DataFrame資料\n",
        "\n",
        "* drop(欄位名稱串列,axis=1)：刪除指定欄位名稱的欄位，並且會回傳一個新的Pandas DataFrame資料集，如下範例："
      ],
      "metadata": {
        "id": "oYsZcced69KK"
      }
    },
    {
      "cell_type": "code",
      "source": [
        "print(\"原來的df\")\n",
        "print(df)\n",
        "\n",
        "print(\"=================================\")\n",
        "\n",
        "new_df = df.drop([\"math\"], axis=1)\n",
        "print(\"刪除math欄位\")\n",
        "print(new_df)"
      ],
      "metadata": {
        "colab": {
          "base_uri": "https://localhost:8080/"
        },
        "id": "kq1rkFM37Aak",
        "outputId": "3c6521e9-e4be-4592-8996-82d045064dc3"
      },
      "execution_count": 17,
      "outputs": [
        {
          "output_type": "stream",
          "name": "stdout",
          "text": [
            "原來的df\n",
            "    name  math  engilsh  chinese\n",
            "0   Mike    80       88       63\n",
            "1  Larry   100       72       90\n",
            "2  Cindy    93       74       85\n",
            "3   John    86       98       70\n",
            "=================================\n",
            "刪除math欄位\n",
            "    name  engilsh  chinese\n",
            "0   Mike       88       63\n",
            "1  Larry       72       90\n",
            "2  Cindy       74       85\n",
            "3   John       98       70\n"
          ]
        }
      ]
    },
    {
      "cell_type": "markdown",
      "source": [
        "* drop(資料索引串列,axis=0)：刪除指定資料索引的資料，並且會回傳一個新的Pandas DataFrame資料集，如下範例："
      ],
      "metadata": {
        "id": "mLaX0WpW7NZv"
      }
    },
    {
      "cell_type": "code",
      "source": [
        "grades = {\n",
        "    \"name\": [\"Mike\", \"Sherry\", \"Cindy\", \"John\"],\n",
        "    \"math\": [80, 75, 93, 86],\n",
        "    \"chinese\": [63, 90, 85, 70]\n",
        "}\n",
        "\n",
        "df = pd.DataFrame(grades)\n",
        "print(\"原來的df\")\n",
        "print(df)\n",
        "\n",
        "print(\"=================================\")\n",
        "\n",
        "new_df = df.drop([0, 3], axis=0)  # 刪除第一筆及第四筆資料\n",
        "print(\"刪除第一筆及第四筆資料\")\n",
        "print(new_df)"
      ],
      "metadata": {
        "colab": {
          "base_uri": "https://localhost:8080/"
        },
        "id": "-u24ZY3i7M8n",
        "outputId": "f6721bf8-32a5-440c-a68a-85097af529a0"
      },
      "execution_count": 18,
      "outputs": [
        {
          "output_type": "stream",
          "name": "stdout",
          "text": [
            "原來的df\n",
            "     name  math  chinese\n",
            "0    Mike    80       63\n",
            "1  Sherry    75       90\n",
            "2   Cindy    93       85\n",
            "3    John    86       70\n",
            "=================================\n",
            "刪除第一筆及第四筆資料\n",
            "     name  math  chinese\n",
            "1  Sherry    75       90\n",
            "2   Cindy    93       85\n"
          ]
        }
      ]
    },
    {
      "cell_type": "markdown",
      "source": [
        "* dropna()：刪除含有NaN或空值的資料，並且會回傳一個新的Pandas DataFrame資料集，在進行資料清理的時候非常實用，如下範例："
      ],
      "metadata": {
        "id": "-N18W7cr7YMo"
      }
    },
    {
      "cell_type": "code",
      "source": [
        "import numpy as np\n",
        "\n",
        "grades = {\n",
        "    \"name\": [\"Mike\", \"Sherry\", np.NaN, \"John\"],\n",
        "    \"city\": [\"Taipei\", np.NaN, \"Kaohsiung\", \"Taichung\"],\n",
        "    \"math\": [80, 75, 93, 86],\n",
        "    \"chinese\": [63, 90, 85, 70]\n",
        "}\n",
        "\n",
        "df = pd.DataFrame(grades)\n",
        "print(\"原來的df\")\n",
        "print(df)\n",
        "\n",
        "print(\"======================================\")\n",
        "\n",
        "new_df = df.dropna()\n",
        "print(\"刪除空值後的df\")\n",
        "print(new_df)"
      ],
      "metadata": {
        "colab": {
          "base_uri": "https://localhost:8080/"
        },
        "id": "yOldgXTv7Z3N",
        "outputId": "ddfa6a02-cf2a-41c9-9cfe-3f3d27d1f209"
      },
      "execution_count": 20,
      "outputs": [
        {
          "output_type": "stream",
          "name": "stdout",
          "text": [
            "原來的df\n",
            "     name       city  math  chinese\n",
            "0    Mike     Taipei    80       63\n",
            "1  Sherry        NaN    75       90\n",
            "2     NaN  Kaohsiung    93       85\n",
            "3    John   Taichung    86       70\n",
            "======================================\n",
            "刪除空值後的df\n",
            "   name      city  math  chinese\n",
            "0  Mike    Taipei    80       63\n",
            "3  John  Taichung    86       70\n"
          ]
        }
      ]
    },
    {
      "cell_type": "markdown",
      "source": [
        "* drop_duplicates()：刪除重複的資料，並且會回傳一個新的Pandas DataFrame資料集，同樣最常應用在資料清理的時候，如下範例："
      ],
      "metadata": {
        "id": "rjQuIOS67sTU"
      }
    },
    {
      "cell_type": "code",
      "source": [
        "grades = {\n",
        "    \"name\": [\"Mike\", \"Mike\", \"Cindy\", \"John\"],\n",
        "    \"city\": [\"Taipei\", \"Taipei\", \"Kaohsiung\", \"Taichung\"],\n",
        "    \"math\": [80, 80, 93, 86],\n",
        "    \"chinese\": [80, 80, 93, 86]\n",
        "}\n",
        "\n",
        "df = pd.DataFrame(grades)\n",
        "print(\"原來的df\")\n",
        "print(df)\n",
        "\n",
        "print(\"======================================\")\n",
        "\n",
        "new_df = df.drop_duplicates()\n",
        "print(\"刪除重複值後的df\")\n",
        "print(new_df)"
      ],
      "metadata": {
        "colab": {
          "base_uri": "https://localhost:8080/"
        },
        "id": "FSM2vMj17txC",
        "outputId": "bbccdbab-033d-4487-a330-3f0f58c13f64"
      },
      "execution_count": 21,
      "outputs": [
        {
          "output_type": "stream",
          "name": "stdout",
          "text": [
            "原來的df\n",
            "    name       city  math  chinese\n",
            "0   Mike     Taipei    80       80\n",
            "1   Mike     Taipei    80       80\n",
            "2  Cindy  Kaohsiung    93       93\n",
            "3   John   Taichung    86       86\n",
            "======================================\n",
            "刪除重複值後的df\n",
            "    name       city  math  chinese\n",
            "0   Mike     Taipei    80       80\n",
            "2  Cindy  Kaohsiung    93       93\n",
            "3   John   Taichung    86       86\n"
          ]
        }
      ]
    },
    {
      "cell_type": "markdown",
      "source": [
        "## 篩選Pandas DataFrame資料\n",
        "\n",
        "* 通常在處理大量的資料集時，有很高的機率會需要利用條件式來篩選所需的資料，這時候就可以利用中括號[]存取欄位來進行資料篩選，如下範例："
      ],
      "metadata": {
        "id": "LjYTkqUO77jf"
      }
    },
    {
      "cell_type": "code",
      "source": [
        "grades = {\n",
        "    \"name\": [\"Mike\", \"Sherry\", \"Cindy\", \"John\"],\n",
        "    \"math\": [80, 75, 93, 86],\n",
        "    \"chinese\": [63, 90, 85, 70]\n",
        "}\n",
        "\n",
        "df = pd.DataFrame(grades)\n",
        "\n",
        "print(\"原來的df\")\n",
        "print(df)\n",
        "\n",
        "print(\"=================================\")\n",
        "\n",
        "print(\"篩選math大於80的資料集\")\n",
        "print(df[df[\"math\"] > 80])"
      ],
      "metadata": {
        "colab": {
          "base_uri": "https://localhost:8080/"
        },
        "id": "UF3RnuMI7-wW",
        "outputId": "7a26212b-6a11-4cf9-cd6d-551e35d1832c"
      },
      "execution_count": 22,
      "outputs": [
        {
          "output_type": "stream",
          "name": "stdout",
          "text": [
            "原來的df\n",
            "     name  math  chinese\n",
            "0    Mike    80       63\n",
            "1  Sherry    75       90\n",
            "2   Cindy    93       85\n",
            "3    John    86       70\n",
            "=================================\n",
            "篩選math大於80的資料集\n",
            "    name  math  chinese\n",
            "2  Cindy    93       85\n",
            "3   John    86       70\n"
          ]
        }
      ]
    },
    {
      "cell_type": "markdown",
      "source": [
        "* 另一個最常見的資料篩選情境，就是找出包含特定值的資料集，這時候可以利用Pandas DataFrame的isin()方法(Method)來達成，如下範例："
      ],
      "metadata": {
        "id": "X51FQgPg8LCD"
      }
    },
    {
      "cell_type": "code",
      "source": [
        "grades = {\n",
        "    \"name\": [\"Mike\", \"Sherry\", \"Cindy\", \"John\"],\n",
        "    \"math\": [80, 75, 93, 86],\n",
        "    \"chinese\": [63, 90, 85, 70]\n",
        "}\n",
        "\n",
        "df = pd.DataFrame(grades)\n",
        "\n",
        "print(\"原來的df\")\n",
        "print(df)\n",
        "\n",
        "print(\"=================================\")\n",
        "\n",
        "print(\"篩選name欄位包含John的資料集\")\n",
        "print(df[df[\"name\"].isin([\"John\"])])"
      ],
      "metadata": {
        "colab": {
          "base_uri": "https://localhost:8080/"
        },
        "id": "VRMpbtAK8MdK",
        "outputId": "b490a646-5bc9-4725-a39e-c7d3a31e8395"
      },
      "execution_count": 23,
      "outputs": [
        {
          "output_type": "stream",
          "name": "stdout",
          "text": [
            "原來的df\n",
            "     name  math  chinese\n",
            "0    Mike    80       63\n",
            "1  Sherry    75       90\n",
            "2   Cindy    93       85\n",
            "3    John    86       70\n",
            "=================================\n",
            "篩選name欄位包含John的資料集\n",
            "   name  math  chinese\n",
            "3  John    86       70\n"
          ]
        }
      ]
    },
    {
      "cell_type": "markdown",
      "source": [
        "## 排序Pandas DataFrame資料\n",
        "\n",
        "* sort_index()：依照索引值來進行排序，並且會回傳一個新的Pandas DataFrame資料集，如下範例："
      ],
      "metadata": {
        "id": "u2nE4V3f8YS1"
      }
    },
    {
      "cell_type": "code",
      "source": [
        "grades = {\n",
        "    \"name\": [\"Mike\", \"Sherry\", \"Cindy\", \"John\"],\n",
        "    \"math\": [80, 75, 93, 86],\n",
        "    \"chinese\": [63, 90, 85, 70]\n",
        "}\n",
        "\n",
        "df = pd.DataFrame(grades)\n",
        "df.index = [\"s3\", \"s1\", \"s4\", \"s2\"]  # 自訂資料索引值\n",
        "\n",
        "print(\"原來的df\")\n",
        "print(df)\n",
        "\n",
        "print(\"============================\")\n",
        "\n",
        "new_df = df.sort_index(ascending=True)\n",
        "print(\"遞增排序\")\n",
        "print(new_df)\n",
        "\n",
        "print(\"============================\")\n",
        "\n",
        "new_df = df.sort_index(ascending=False)\n",
        "print(\"遞減排序\")\n",
        "print(new_df)"
      ],
      "metadata": {
        "colab": {
          "base_uri": "https://localhost:8080/"
        },
        "id": "5RWfg5LD8bZL",
        "outputId": "360dfb44-44ab-43cf-9c04-10c935afc6ed"
      },
      "execution_count": 24,
      "outputs": [
        {
          "output_type": "stream",
          "name": "stdout",
          "text": [
            "原來的df\n",
            "      name  math  chinese\n",
            "s3    Mike    80       63\n",
            "s1  Sherry    75       90\n",
            "s4   Cindy    93       85\n",
            "s2    John    86       70\n",
            "============================\n",
            "遞增排序\n",
            "      name  math  chinese\n",
            "s1  Sherry    75       90\n",
            "s2    John    86       70\n",
            "s3    Mike    80       63\n",
            "s4   Cindy    93       85\n",
            "============================\n",
            "遞減排序\n",
            "      name  math  chinese\n",
            "s4   Cindy    93       85\n",
            "s3    Mike    80       63\n",
            "s2    John    86       70\n",
            "s1  Sherry    75       90\n"
          ]
        }
      ]
    },
    {
      "cell_type": "markdown",
      "source": [
        "* sort_values()：依照欄位內容來進行排序，並且會回傳一個新的Pandas DataFrame資料集，下面範例以math欄位內容來進行排序："
      ],
      "metadata": {
        "id": "K9sZfN7d85wL"
      }
    },
    {
      "cell_type": "code",
      "source": [
        "grades = {\n",
        "    \"name\": [\"Mike\", \"Sherry\", \"Cindy\", \"John\"],\n",
        "    \"math\": [80, 75, 93, 86],\n",
        "    \"chinese\": [63, 90, 85, 70]\n",
        "}\n",
        "\n",
        "df = pd.DataFrame(grades)\n",
        "\n",
        "print(\"原來的df\")\n",
        "print(df)\n",
        "\n",
        "print(\"============================\")\n",
        "\n",
        "new_df = df.sort_values([\"math\"], ascending=True)\n",
        "print(\"遞增排序\")\n",
        "print(new_df)\n",
        "\n",
        "print(\"============================\")\n",
        "\n",
        "new_df = df.sort_values([\"math\"], ascending=False)\n",
        "print(\"遞減排序\")\n",
        "print(new_df)"
      ],
      "metadata": {
        "colab": {
          "base_uri": "https://localhost:8080/"
        },
        "id": "K9YCy7dD8qbE",
        "outputId": "69757953-b3bc-4dc3-a3db-61c8b8cea7d3"
      },
      "execution_count": 25,
      "outputs": [
        {
          "output_type": "stream",
          "name": "stdout",
          "text": [
            "原來的df\n",
            "     name  math  chinese\n",
            "0    Mike    80       63\n",
            "1  Sherry    75       90\n",
            "2   Cindy    93       85\n",
            "3    John    86       70\n",
            "============================\n",
            "遞增排序\n",
            "     name  math  chinese\n",
            "1  Sherry    75       90\n",
            "0    Mike    80       63\n",
            "3    John    86       70\n",
            "2   Cindy    93       85\n",
            "============================\n",
            "遞減排序\n",
            "     name  math  chinese\n",
            "2   Cindy    93       85\n",
            "3    John    86       70\n",
            "0    Mike    80       63\n",
            "1  Sherry    75       90\n"
          ]
        }
      ]
    }
  ]
}