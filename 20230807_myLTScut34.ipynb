{
  "nbformat": 4,
  "nbformat_minor": 0,
  "metadata": {
    "colab": {
      "provenance": [],
      "gpuType": "T4",
      "authorship_tag": "ABX9TyPn2CEMLnYUIkYx5KYIwWAw",
      "include_colab_link": true
    },
    "kernelspec": {
      "name": "python3",
      "display_name": "Python 3"
    },
    "language_info": {
      "name": "python"
    }
  },
  "cells": [
    {
      "cell_type": "markdown",
      "metadata": {
        "id": "view-in-github",
        "colab_type": "text"
      },
      "source": [
        "<a href=\"https://colab.research.google.com/github/mccoy0928/pandas_dataframe/blob/main/20230807_myLTScut34.ipynb\" target=\"_parent\"><img src=\"https://colab.research.google.com/assets/colab-badge.svg\" alt=\"Open In Colab\"/></a>"
      ]
    },
    {
      "cell_type": "markdown",
      "source": [
        "# 20230807 新增cut34排列統計\n",
        "* 將excel資料原由\"34\\*80轉換成68\\*40\",近似JPT量測數據\n",
        "\n",
        "# 20230803 update\n",
        "\n",
        "# 練習myData圖形繪製\n",
        "\n",
        "## 20230729 use seaborn 製作直方圖+KDE\n",
        "\n"
      ],
      "metadata": {
        "id": "ustuvS9-Gg5N"
      }
    },
    {
      "cell_type": "code",
      "execution_count": 128,
      "metadata": {
        "id": "jDYOjgLsGZte"
      },
      "outputs": [],
      "source": [
        "import pandas as pd\n",
        "import matplotlib.pyplot as plt\n",
        "import numpy as np\n"
      ]
    },
    {
      "cell_type": "code",
      "source": [
        "# from google.colab import drive\n",
        "# drive.mount('/content/drive')"
      ],
      "metadata": {
        "id": "d3mHKTn_L93i"
      },
      "execution_count": 129,
      "outputs": []
    },
    {
      "cell_type": "markdown",
      "source": [
        "## 資料讀取轉換"
      ],
      "metadata": {
        "id": "8uRD0nznHCSi"
      }
    },
    {
      "cell_type": "code",
      "source": [
        "myfile = \"LTSdata2.xlsx\"  # 請變更讀取檔名 xlsx\n",
        "df = pd.read_excel(myfile, sheet_name = \"工作表1\")\n"
      ],
      "metadata": {
        "id": "W-EjQg0kHJS1"
      },
      "execution_count": 130,
      "outputs": []
    },
    {
      "cell_type": "code",
      "source": [
        "# df2 = pd.read_excel(myfile, sheet_name = \"工作表1\", usecols=\"B:CC\")  #讀取欄位名only 針對熱力圖所需\n",
        "row1To40 = pd.read_excel(myfile, sheet_name='工作表1',usecols='B:AO') # 原有80rows分前後個讀取40rows\n",
        "row41To80 = pd.read_excel(myfile, sheet_name='工作表1',usecols='AP:CC')\n",
        "# df2.head()"
      ],
      "metadata": {
        "id": "Dg2_2NDlIHau"
      },
      "execution_count": 131,
      "outputs": []
    },
    {
      "cell_type": "code",
      "source": [
        "# row41To80\n",
        "recolumnsName=row1To40.columns[:]    # 置換row41~80 變成row1~40\n",
        "row41To80.columns=recolumnsName\n"
      ],
      "metadata": {
        "id": "t65lSRDEXCpk"
      },
      "execution_count": 132,
      "outputs": []
    },
    {
      "cell_type": "code",
      "source": [
        "# row41To80"
      ],
      "metadata": {
        "id": "z6NSAC_8dz-6"
      },
      "execution_count": 133,
      "outputs": []
    },
    {
      "cell_type": "code",
      "source": [
        "# len(row1To40)\n",
        "# row1To40"
      ],
      "metadata": {
        "id": "On73MD3keRN3"
      },
      "execution_count": 134,
      "outputs": []
    },
    {
      "cell_type": "markdown",
      "source": [
        "# 插入特殊index\n",
        "\n",
        "* #********************************************\n",
        "# Inserting a Row at a Specific Index\n",
        "# df.loc[1.5] = ['Jane', 25, 'Madrid']\n",
        "# df = df.sort_index().reset_index(drop=True)\n",
        "#********************************************"
      ],
      "metadata": {
        "id": "nKda9Q60hWjn"
      }
    },
    {
      "cell_type": "code",
      "source": [
        "for i in row1To40.columns[:]:\n",
        "  for j in range(int(len(row41To80))):\n",
        "    row1To40.loc[j+0.5,i]=row41To80.loc[j,i]    # 重新將後半部資料依照間隔插入\n",
        "row1To40=row1To40.sort_index().reset_index(drop=True)      # 將index重置排列"
      ],
      "metadata": {
        "id": "kQK4wouKXGVn"
      },
      "execution_count": 135,
      "outputs": []
    },
    {
      "cell_type": "code",
      "source": [
        "myList = np.array(row1To40)\n",
        "df2 = row1To40\n",
        "df3 = row1To40.dropna()\n",
        "\n",
        "# myList\n",
        "# myList.shape"
      ],
      "metadata": {
        "id": "mB2zcXgeQCCT"
      },
      "execution_count": 136,
      "outputs": []
    },
    {
      "cell_type": "markdown",
      "source": [
        "## 熱力圖"
      ],
      "metadata": {
        "id": "izBukWGB7C9A"
      }
    },
    {
      "cell_type": "code",
      "source": [
        "# 創建熱力圖\n",
        "figName = myfile[:-5] +'_heatMap.jpg'\n",
        "plt.imshow(df3, cmap='viridis', origin='upper', aspect='auto')\n",
        "\n",
        "# 添加顏色欄圖示\n",
        "plt.title(figName[:-4])\n",
        "plt.colorbar()\n",
        "\n",
        "# 顯示圖形\n",
        "plt.title(figName[:-4])\n",
        "plt.savefig(figName)\n",
        "plt.show()\n"
      ],
      "metadata": {
        "colab": {
          "base_uri": "https://localhost:8080/",
          "height": 452
        },
        "id": "5OHULk6KU6bH",
        "outputId": "37f4d43a-9e0b-44e7-de1b-083d1ffbec40"
      },
      "execution_count": 137,
      "outputs": [
        {
          "output_type": "display_data",
          "data": {
            "text/plain": [
              "<Figure size 640x480 with 2 Axes>"
            ],
            "image/png": "[encoded data removed]"
          },
          "metadata": {}
        }
      ]
    },
    {
      "cell_type": "code",
      "source": [
        "#df.iloc[:, 0]"
      ],
      "metadata": {
        "id": "J8eugXNfZH1I"
      },
      "execution_count": 138,
      "outputs": []
    },
    {
      "cell_type": "code",
      "source": [
        "# 維度轉換 範例\n",
        "# 二維陣列\n",
        "# two_dim_array = np.array([[1, 2, 3], [4, 5, 6], [7, 8, 9]])\n",
        "\n",
        "# # 使用 flatten() 方法\n",
        "# one_dim_array_flatten = two_dim_array.flatten()\n",
        "\n",
        "# # 使用 ravel() 方法\n",
        "# one_dim_array_ravel = two_dim_array.ravel()"
      ],
      "metadata": {
        "id": "DceShgV_g0CT"
      },
      "execution_count": 139,
      "outputs": []
    },
    {
      "cell_type": "markdown",
      "source": [
        "## 繪製分佈圖"
      ],
      "metadata": {
        "id": "idR2dPm17KCj"
      }
    },
    {
      "cell_type": "markdown",
      "source": [
        "```\n",
        "import matplotlib.pyplot as plt\n",
        "\n",
        "plt.rcParams['font.sans-serif'] = ['Taipei Sans TC Beta']\n",
        "\n",
        "sales = [100,80,50]\n",
        "x_labels = ['A','B','C']\n",
        "sales_pos = [0,1,5]\n",
        "plt.title('我的標題')\n",
        "plt.xlabel('銷售品項')\n",
        "plt.ylabel('銷售量')\n",
        "plt.bar(sales_pos,sales)\n",
        "plt.xticks(sales_pos,x_labels)\n",
        "plt.show()\n",
        "```"
      ],
      "metadata": {
        "id": "SP1ixfnpSNLd"
      }
    },
    {
      "cell_type": "code",
      "source": [
        "temp = np.array(df3)\n",
        "x = temp.flatten()  # 二維轉換一維\n",
        "# 20230730 改用 seaborn 繪製hist分佈圖直方圖\n",
        "# 繪製分佈圖\n",
        "\n",
        "# plt.hist(x, bins=20, edgecolor='y')\n",
        "# # plt.hist(x, bins='auto', edgecolor='y')\n",
        "# plt.xlabel('Total %')\n",
        "# plt.ylabel('PCS')\n",
        "# plt.title('distribution')\n",
        "# plt.show()"
      ],
      "metadata": {
        "id": "sxFWOFGNfJ9z"
      },
      "execution_count": 140,
      "outputs": []
    },
    {
      "cell_type": "markdown",
      "source": [
        "* seaborn.histplot(data=None, *, x=None, y=None, hue=None, weights=None, stat='count', bins='auto', binwidth=None, binrange=None, discrete=None, cumulative=False, common_bins=True, common_norm=True, multiple='layer', element='bars', fill=True, shrink=1, kde=False, kde_kws=None, line_kws=None, thresh=0, pthresh=None, pmax=None, cbar=False, cbar_ax=None, cbar_kws=None, palette=None, hue_order=None, hue_norm=None, color=None, log_scale=None, legend=True, ax=None, **kwargs)\n",
        "\n",
        "[Seaborn API](https://seaborn.pydata.org/generated/seaborn.histplot.html)"
      ],
      "metadata": {
        "id": "Zp8Cb1HItov_"
      }
    },
    {
      "cell_type": "code",
      "source": [
        "# myfile[:-5]"
      ],
      "metadata": {
        "id": "V5dHuJaZvkjg"
      },
      "execution_count": 141,
      "outputs": []
    },
    {
      "cell_type": "code",
      "source": [
        "# 20230730 *********************\n",
        "import seaborn as sns\n",
        "figName = myfile[:-5] + '_hist.jpg'\n",
        "# import numpy as np\n",
        "# x = np.random.normal(size=2000)\n",
        "# sns.distplot(x)\n",
        "# myFig = sns.histplot(x, bins=35, color='green', kde=True).set_xlim(-3, 1) # kde曲線\n",
        "myFig = sns.histplot(x, bins=35, color='green', kde=True).set(title=figName[:-4])\n",
        "plt.savefig(figName)\n",
        "\n",
        "\n"
      ],
      "metadata": {
        "colab": {
          "base_uri": "https://localhost:8080/",
          "height": 452
        },
        "id": "Xxevn0YW0rI7",
        "outputId": "6469ac9b-4803-4d21-8681-14f14a717f2b"
      },
      "execution_count": 142,
      "outputs": [
        {
          "output_type": "display_data",
          "data": {
            "text/plain": [
              "<Figure size 640x480 with 1 Axes>"
            ],
            "image/png": "[encoded data removed]"
          },
          "metadata": {}
        }
      ]
    },
    {
      "cell_type": "markdown",
      "source": [
        "## 趨勢圖\n",
        "\n",
        "\n",
        "* 均值\n",
        "  * np.mean(nums)\n",
        "* 中位数\n",
        "  * np.median(nums)"
      ],
      "metadata": {
        "id": "OgJk6dobjL0x"
      }
    },
    {
      "cell_type": "code",
      "source": [
        "# import numpy\n",
        "# from matplotlib import pyplot as plt\n",
        "df3 = df2.dropna()  # 剔除dataframe空值\n",
        "figName = myfile[:-5] + '_median.jpg'\n",
        "# a = df\n",
        "b = []\n",
        "for i in df3:\n",
        "  #mean = np.mean(df2[i])\n",
        "  mean = np.median(df3[i])\n",
        "  b.append(mean)\n",
        "\n",
        "# Plot the Data itself.\n",
        "plt.title(figName[:-4])\n",
        "plt.plot(b)\n",
        "plt.savefig(figName)\n",
        "plt.show()\n"
      ],
      "metadata": {
        "colab": {
          "base_uri": "https://localhost:8080/",
          "height": 452
        },
        "id": "ZtFM157WlK4p",
        "outputId": "e3406256-ea2e-4b77-984f-c3c5fe5ddc71"
      },
      "execution_count": 143,
      "outputs": [
        {
          "output_type": "display_data",
          "data": {
            "text/plain": [
              "<Figure size 640x480 with 1 Axes>"
            ],
            "image/png": "[encoded data removed]"
          },
          "metadata": {}
        }
      ]
    },
    {
      "cell_type": "markdown",
      "source": [
        "## R1~R68 良率%\n"
      ],
      "metadata": {
        "id": "3xmE8e0mrBQV"
      }
    },
    {
      "cell_type": "code",
      "source": [
        "# 設定各Row上下限標準 依照中位數為準\n",
        "bUp = []\n",
        "bDn = []\n",
        "allCenter = np.median(df3)\n",
        "for i in df3.columns :\n",
        "  #mean = np.mean(df2[i])\n",
        "  meanUp = np.median(df3[i]) + 0.8\n",
        "  meanDn = np.median(df3[i]) - 0.8\n",
        "  bUp.append(meanUp)\n",
        "  bDn.append(meanDn)\n"
      ],
      "metadata": {
        "id": "9lVcSaIFs5XF"
      },
      "execution_count": 144,
      "outputs": []
    },
    {
      "cell_type": "markdown",
      "source": [
        "### 計算中位數"
      ],
      "metadata": {
        "id": "KICki9G_8krD"
      }
    },
    {
      "cell_type": "code",
      "source": [
        "print('全部數據中位數:', allCenter)"
      ],
      "metadata": {
        "colab": {
          "base_uri": "https://localhost:8080/"
        },
        "id": "ffJOQBxB6PQ_",
        "outputId": "6a40ec9d-7380-4141-f878-d8aca6f8295a"
      },
      "execution_count": 145,
      "outputs": [
        {
          "output_type": "stream",
          "name": "stdout",
          "text": [
            "全部數據中位數: -0.64\n"
          ]
        }
      ]
    },
    {
      "cell_type": "code",
      "source": [
        "# print(df3.columns)\n",
        "\n",
        "# print(bUp)\n",
        "# print(b)\n",
        "# print(bDn)\n",
        "# # print(b)\n",
        "# # for i in range(len(df3)):\n",
        "# #   print(df3.iat[i, 0])\n",
        "\n",
        "# q = len(df3['Row 1'])\n",
        "# w = bUp[0]\n",
        "# e = bDn[0]\n",
        "# print(q, w, e)"
      ],
      "metadata": {
        "id": "G6Ntx11CuvLT"
      },
      "execution_count": 146,
      "outputs": []
    },
    {
      "cell_type": "markdown",
      "source": [
        "### 計算良品數"
      ],
      "metadata": {
        "id": "bkZlFEM1eDRB"
      }
    },
    {
      "cell_type": "code",
      "source": [
        "# df2.at[35, 'Row 1']"
      ],
      "metadata": {
        "id": "u8nW5a4ejuf2"
      },
      "execution_count": 147,
      "outputs": []
    },
    {
      "cell_type": "code",
      "source": [
        "from numpy.ma import count\n",
        "Rows = df2.columns\n",
        "# print(len(Rows))\n",
        "# countAll = count(df2)\n",
        "nogoodCount = 0\n",
        "goodCount = 0\n",
        "# countHi = 0\n",
        "# countLo = 0\n",
        "# yieldList = []\n",
        "r_num = 0\n",
        "for k in Rows:\n",
        "  # print(k)\n",
        "  for i in range(len(df2)):\n",
        "    # print(df2.at[i, k])\n",
        "    # 20230730 add Hi & Lo **********\n",
        "    # if df2.at[i, k] > 4 :\n",
        "    #   countHi += 1\n",
        "    # if df2.at[i, k] < -8 :\n",
        "    #   countLo += 1\n",
        "# 20230730 1st. way ***********************\n",
        "    # if df2.at[i, k] <= bUp[r_num] and df2.at[i, k] >= bDn[r_num]:\n",
        "    #   goodCount += 1\n",
        "    # if df2.at[i, k] > bUp[r_num] or df2.at[i, k] < bDn[r_num]:  # 依照各Row中位數 +/- 0.8 做上下限\n",
        "    #   nogoodCount += 1\n",
        "# 20230730 採用全體中位數做計算 2nd. way *******************\n",
        "    if df2.at[i, k] <= (allCenter+0.8) and df2.at[i, k] >= (allCenter-0.8):\n",
        "      goodCount += 1\n",
        "    if df2.at[i, k] > (allCenter+0.8) or df2.at[i, k] < (allCenter-0.8):  # 依照中位數 +/- 0.8 做上下限\n",
        "      nogoodCount += 1\n",
        "# 20230730 *****************************************\n",
        "  r_num += 1\n",
        "countAll = goodCount + nogoodCount\n",
        "# 計算量測空值 sum null numbers 20230730 *******************\n",
        "nanum = df2.isna().sum()\n",
        "naN = 0\n",
        "for i in nanum:\n",
        "  if i == True:\n",
        "    naN += 1\n",
        "# print(naN)\n",
        "# **********************************************\n",
        "print(\"不良品數: \", nogoodCount)\n",
        "print(\"良品數: \", goodCount)\n",
        "print(\"Probe error: \", naN)\n",
        "print(\"基板有效量測數: \", countAll)\n",
        "# print(\"Yield %: {:.2%}\".format((countAll-nogoodCount) / countAll) )\n",
        "totalYield = (countAll-nogoodCount) / countAll\n",
        "print(f\"Yield %: {totalYield:.2%}\")\n",
        "\n"
      ],
      "metadata": {
        "colab": {
          "base_uri": "https://localhost:8080/"
        },
        "id": "mW0p1IOfPyWF",
        "outputId": "22177698-3de4-4bb2-a4b6-d10e1761eb00"
      },
      "execution_count": 148,
      "outputs": [
        {
          "output_type": "stream",
          "name": "stdout",
          "text": [
            "不良品數:  710\n",
            "良品數:  2008\n",
            "Probe error:  2\n",
            "基板有效量測數:  2718\n",
            "Yield %: 73.88%\n"
          ]
        }
      ]
    },
    {
      "cell_type": "code",
      "source": [
        "# 計算標準差std\n",
        "stdAverge = np.std(x)\n",
        "# print(\"sd: {:.3f}\".format(stdAverge))\n",
        "print(f'sd: {stdAverge:.3f}')"
      ],
      "metadata": {
        "colab": {
          "base_uri": "https://localhost:8080/"
        },
        "id": "KExzjc66h6Wm",
        "outputId": "76d69c7f-0482-4642-84a7-b07529ee342e"
      },
      "execution_count": 149,
      "outputs": [
        {
          "output_type": "stream",
          "name": "stdout",
          "text": [
            "sd: 0.719\n"
          ]
        }
      ]
    },
    {
      "cell_type": "code",
      "source": [
        "txtName = myfile[:-4] + 'txt'\n",
        "f = open(txtName, 'w')\n",
        "print(\"不良品數: \", nogoodCount, file=f)\n",
        "print(\"良品數: \", goodCount, file=f)\n",
        "print(\"Probe error: \", naN, file=f)\n",
        "print(\"基板有效量測數: \", countAll, file=f)\n",
        "# totalYield = (countAll-nogoodCount) / countAll\n",
        "print(f\"Yield %: {totalYield:.2%}\", file=f)\n",
        "print(f'sd: {stdAverge:.3f}', file=f)\n",
        "f.close()"
      ],
      "metadata": {
        "id": "MoALSGxjAxqh"
      },
      "execution_count": 150,
      "outputs": []
    },
    {
      "cell_type": "code",
      "source": [
        "myOutputTxt = {\n",
        "    \"不良品數:\": nogoodCount,\n",
        "    \"良品數: \": goodCount,\n",
        "    \"Probe error: \": naN,\n",
        "    \"基板有效量測數:\": countAll,\n",
        "    \"Yield %:\":totalYield,\n",
        "    \"SD :\":stdAverge\n",
        "\n",
        "}"
      ],
      "metadata": {
        "id": "jGgLdD-P_Qkd"
      },
      "execution_count": 151,
      "outputs": []
    },
    {
      "cell_type": "code",
      "source": [
        "myOutputTxt"
      ],
      "metadata": {
        "colab": {
          "base_uri": "https://localhost:8080/"
        },
        "id": "D8vwdeBMAK9t",
        "outputId": "cb197470-73fe-4fa5-8b43-4d9a17565f95"
      },
      "execution_count": 152,
      "outputs": [
        {
          "output_type": "execute_result",
          "data": {
            "text/plain": [
              "{'不良品數:': 710,\n",
              " '良品數: ': 2008,\n",
              " 'Probe error: ': 2,\n",
              " '基板有效量測數:': 2718,\n",
              " 'Yield %:': 0.7387785136129507,\n",
              " 'SD :': 0.7191581644884456}"
            ]
          },
          "metadata": {},
          "execution_count": 152
        }
      ]
    },
    {
      "cell_type": "code",
      "source": [
        "# df2.shape"
      ],
      "metadata": {
        "id": "8pm4Z8N_rgLi"
      },
      "execution_count": 153,
      "outputs": []
    },
    {
      "cell_type": "markdown",
      "source": [
        "### 繪製Row 良率圖表"
      ],
      "metadata": {
        "id": "hSKO3iD4eLYK"
      }
    },
    {
      "cell_type": "code",
      "source": [
        "# 利用迴圈計數存入每一Row List\n",
        "yieldCount = 0\n",
        "yieldList = []\n",
        "figName = myfile[:-5] + '_RowGoods.jpg'\n",
        "rowCount = 0\n",
        "r_num = 0\n",
        "\n",
        "for k in Rows:\n",
        "  # print(k)\n",
        "  for i in range(len(df2)):\n",
        "    # print(df2.at[i, k])\n",
        "    if df2.at[i, k] <= bUp[r_num] and df2.at[i, k] >= bDn[r_num]:  # 依照中位數 +/- 0.8 做上下限\n",
        "       yieldCount += 1\n",
        "\n",
        "  yieldList.append(yieldCount)\n",
        "\n",
        "\n",
        "  yieldCount = 0\n",
        "  rowCount = 0\n",
        "  r_num += 1\n",
        "\n",
        "print(yieldList)\n",
        "plt.title(figName[:-4])\n",
        "plt.plot(yieldList)\n",
        "plt.savefig(figName)\n",
        "plt.show()"
      ],
      "metadata": {
        "id": "7ECSOXpftDVK",
        "colab": {
          "base_uri": "https://localhost:8080/",
          "height": 489
        },
        "outputId": "1e7e0e40-1936-4e9f-ef5b-8c6931f588db"
      },
      "execution_count": 154,
      "outputs": [
        {
          "output_type": "stream",
          "name": "stdout",
          "text": [
            "[52, 46, 57, 55, 48, 49, 47, 44, 51, 51, 44, 52, 53, 51, 51, 55, 53, 49, 56, 59, 60, 64, 61, 55, 58, 50, 53, 55, 56, 56, 53, 60, 55, 59, 62, 59, 58, 59, 56, 59]\n"
          ]
        },
        {
          "output_type": "display_data",
          "data": {
            "text/plain": [
              "<Figure size 640x480 with 1 Axes>"
            ],
            "image/png": "[encoded data removed]"
          },
          "metadata": {}
        }
      ]
    },
    {
      "cell_type": "code",
      "source": [
        "figName = myfile[:-5] + '_RowYield.jpg'\n",
        "rowlist = np.array([68])\n",
        "newrowyield = yieldList / rowlist\n",
        "np.set_printoptions(formatter={'float': '{: 0.1%}'.format})\n",
        "print(newrowyield)\n",
        "plt.ylim(0.3,1)\n",
        "plt.title(figName[:-4])\n",
        "plt.plot(newrowyield)\n",
        "plt.savefig(figName)\n",
        "plt.show()"
      ],
      "metadata": {
        "colab": {
          "base_uri": "https://localhost:8080/",
          "height": 521
        },
        "id": "iClerMAOahtl",
        "outputId": "f4a98bd7-2ae1-49cc-af93-a5b67bdf8035"
      },
      "execution_count": 155,
      "outputs": [
        {
          "output_type": "stream",
          "name": "stdout",
          "text": [
            "[ 76.5%  67.6%  83.8%  80.9%  70.6%  72.1%  69.1%  64.7%  75.0%  75.0%\n",
            "  64.7%  76.5%  77.9%  75.0%  75.0%  80.9%  77.9%  72.1%  82.4%  86.8%\n",
            "  88.2%  94.1%  89.7%  80.9%  85.3%  73.5%  77.9%  80.9%  82.4%  82.4%\n",
            "  77.9%  88.2%  80.9%  86.8%  91.2%  86.8%  85.3%  86.8%  82.4%  86.8%]\n"
          ]
        },
        {
          "output_type": "display_data",
          "data": {
            "text/plain": [
              "<Figure size 640x480 with 1 Axes>"
            ],
            "image/png": "[encoded data removed]"
          },
          "metadata": {}
        }
      ]
    },
    {
      "cell_type": "code",
      "source": [
        "myfile"
      ],
      "metadata": {
        "colab": {
          "base_uri": "https://localhost:8080/",
          "height": 35
        },
        "id": "J6y3WMRRNoni",
        "outputId": "1a3c0a89-8563-485b-8243-2fd4e2a597e2"
      },
      "execution_count": 156,
      "outputs": [
        {
          "output_type": "execute_result",
          "data": {
            "text/plain": [
              "'LTSdata2.xlsx'"
            ],
            "application/vnd.google.colaboratory.intrinsic+json": {
              "type": "string"
            }
          },
          "metadata": {},
          "execution_count": 156
        }
      ]
    },
    {
      "cell_type": "code",
      "source": [
        "from google.colab import files\n",
        "newfileName = myfile[:-5]\n",
        "iName = ['.txt', '_hist.jpg', '_heatMap.jpg', '_median.jpg', '_RowGoods.jpg', '_RowYield.jpg']\n",
        "for i in iName:\n",
        "  downName = newfileName + i\n",
        "  files.download(downName)\n",
        "  # print(downName)\n",
        "\n",
        "# print(newfileName + iName[0])"
      ],
      "metadata": {
        "colab": {
          "base_uri": "https://localhost:8080/",
          "height": 17
        },
        "id": "Wdp6kwPJMiBI",
        "outputId": "c28f81a6-cb75-407a-a1f3-92f90d8c9016"
      },
      "execution_count": 162,
      "outputs": [
        {
          "output_type": "display_data",
          "data": {
            "text/plain": [
              "<IPython.core.display.Javascript object>"
            ],
            "application/javascript": [
              "\n",
              "    async function download(id, filename, size) {\n",
              "      if (!google.colab.kernel.accessAllowed) {\n",
              "        return;\n",
              "      }\n",
              "      const div = document.createElement('div');\n",
              "      const label = document.createElement('label');\n",
              "      label.textContent = `Downloading \"${filename}\": `;\n",
              "      div.appendChild(label);\n",
              "      const progress = document.createElement('progress');\n",
              "      progress.max = size;\n",
              "      div.appendChild(progress);\n",
              "      document.body.appendChild(div);\n",
              "\n",
              "      const buffers = [];\n",
              "      let downloaded = 0;\n",
              "\n",
              "      const channel = await google.colab.kernel.comms.open(id);\n",
              "      // Send a message to notify the kernel that we're ready.\n",
              "      channel.send({})\n",
              "\n",
              "      for await (const message of channel.messages) {\n",
              "        // Send a message to notify the kernel that we're ready.\n",
              "        channel.send({})\n",
              "        if (message.buffers) {\n",
              "          for (const buffer of message.buffers) {\n",
              "            buffers.push(buffer);\n",
              "            downloaded += buffer.byteLength;\n",
              "            progress.value = downloaded;\n",
              "          }\n",
              "        }\n",
              "      }\n",
              "      const blob = new Blob(buffers, {type: 'application/binary'});\n",
              "      const a = document.createElement('a');\n",
              "      a.href = window.URL.createObjectURL(blob);\n",
              "      a.download = filename;\n",
              "      div.appendChild(a);\n",
              "      a.click();\n",
              "      div.remove();\n",
              "    }\n",
              "  "
            ]
          },
          "metadata": {}
        },
        {
          "output_type": "display_data",
          "data": {
            "text/plain": [
              "<IPython.core.display.Javascript object>"
            ],
            "application/javascript": [
              "download(\"download_bac756a1-0458-4593-944b-9295849cea9f\", \"LTSdata2.txt\", 107)"
            ]
          },
          "metadata": {}
        },
        {
          "output_type": "display_data",
          "data": {
            "text/plain": [
              "<IPython.core.display.Javascript object>"
            ],
            "application/javascript": [
              "\n",
              "    async function download(id, filename, size) {\n",
              "      if (!google.colab.kernel.accessAllowed) {\n",
              "        return;\n",
              "      }\n",
              "      const div = document.createElement('div');\n",
              "      const label = document.createElement('label');\n",
              "      label.textContent = `Downloading \"${filename}\": `;\n",
              "      div.appendChild(label);\n",
              "      const progress = document.createElement('progress');\n",
              "      progress.max = size;\n",
              "      div.appendChild(progress);\n",
              "      document.body.appendChild(div);\n",
              "\n",
              "      const buffers = [];\n",
              "      let downloaded = 0;\n",
              "\n",
              "      const channel = await google.colab.kernel.comms.open(id);\n",
              "      // Send a message to notify the kernel that we're ready.\n",
              "      channel.send({})\n",
              "\n",
              "      for await (const message of channel.messages) {\n",
              "        // Send a message to notify the kernel that we're ready.\n",
              "        channel.send({})\n",
              "        if (message.buffers) {\n",
              "          for (const buffer of message.buffers) {\n",
              "            buffers.push(buffer);\n",
              "            downloaded += buffer.byteLength;\n",
              "            progress.value = downloaded;\n",
              "          }\n",
              "        }\n",
              "      }\n",
              "      const blob = new Blob(buffers, {type: 'application/binary'});\n",
              "      const a = document.createElement('a');\n",
              "      a.href = window.URL.createObjectURL(blob);\n",
              "      a.download = filename;\n",
              "      div.appendChild(a);\n",
              "      a.click();\n",
              "      div.remove();\n",
              "    }\n",
              "  "
            ]
          },
          "metadata": {}
        },
        {
          "output_type": "display_data",
          "data": {
            "text/plain": [
              "<IPython.core.display.Javascript object>"
            ],
            "application/javascript": [
              "download(\"download_7beac9cf-3716-45a5-b6ec-a4a7c69ad83b\", \"LTSdata2_hist.jpg\", 25421)"
            ]
          },
          "metadata": {}
        },
        {
          "output_type": "display_data",
          "data": {
            "text/plain": [
              "<IPython.core.display.Javascript object>"
            ],
            "application/javascript": [
              "\n",
              "    async function download(id, filename, size) {\n",
              "      if (!google.colab.kernel.accessAllowed) {\n",
              "        return;\n",
              "      }\n",
              "      const div = document.createElement('div');\n",
              "      const label = document.createElement('label');\n",
              "      label.textContent = `Downloading \"${filename}\": `;\n",
              "      div.appendChild(label);\n",
              "      const progress = document.createElement('progress');\n",
              "      progress.max = size;\n",
              "      div.appendChild(progress);\n",
              "      document.body.appendChild(div);\n",
              "\n",
              "      const buffers = [];\n",
              "      let downloaded = 0;\n",
              "\n",
              "      const channel = await google.colab.kernel.comms.open(id);\n",
              "      // Send a message to notify the kernel that we're ready.\n",
              "      channel.send({})\n",
              "\n",
              "      for await (const message of channel.messages) {\n",
              "        // Send a message to notify the kernel that we're ready.\n",
              "        channel.send({})\n",
              "        if (message.buffers) {\n",
              "          for (const buffer of message.buffers) {\n",
              "            buffers.push(buffer);\n",
              "            downloaded += buffer.byteLength;\n",
              "            progress.value = downloaded;\n",
              "          }\n",
              "        }\n",
              "      }\n",
              "      const blob = new Blob(buffers, {type: 'application/binary'});\n",
              "      const a = document.createElement('a');\n",
              "      a.href = window.URL.createObjectURL(blob);\n",
              "      a.download = filename;\n",
              "      div.appendChild(a);\n",
              "      a.click();\n",
              "      div.remove();\n",
              "    }\n",
              "  "
            ]
          },
          "metadata": {}
        },
        {
          "output_type": "display_data",
          "data": {
            "text/plain": [
              "<IPython.core.display.Javascript object>"
            ],
            "application/javascript": [
              "download(\"download_6397e7ee-3de8-4176-8d75-a21e1a5de2b0\", \"LTSdata2_heatMap.jpg\", 33269)"
            ]
          },
          "metadata": {}
        },
        {
          "output_type": "display_data",
          "data": {
            "text/plain": [
              "<IPython.core.display.Javascript object>"
            ],
            "application/javascript": [
              "\n",
              "    async function download(id, filename, size) {\n",
              "      if (!google.colab.kernel.accessAllowed) {\n",
              "        return;\n",
              "      }\n",
              "      const div = document.createElement('div');\n",
              "      const label = document.createElement('label');\n",
              "      label.textContent = `Downloading \"${filename}\": `;\n",
              "      div.appendChild(label);\n",
              "      const progress = document.createElement('progress');\n",
              "      progress.max = size;\n",
              "      div.appendChild(progress);\n",
              "      document.body.appendChild(div);\n",
              "\n",
              "      const buffers = [];\n",
              "      let downloaded = 0;\n",
              "\n",
              "      const channel = await google.colab.kernel.comms.open(id);\n",
              "      // Send a message to notify the kernel that we're ready.\n",
              "      channel.send({})\n",
              "\n",
              "      for await (const message of channel.messages) {\n",
              "        // Send a message to notify the kernel that we're ready.\n",
              "        channel.send({})\n",
              "        if (message.buffers) {\n",
              "          for (const buffer of message.buffers) {\n",
              "            buffers.push(buffer);\n",
              "            downloaded += buffer.byteLength;\n",
              "            progress.value = downloaded;\n",
              "          }\n",
              "        }\n",
              "      }\n",
              "      const blob = new Blob(buffers, {type: 'application/binary'});\n",
              "      const a = document.createElement('a');\n",
              "      a.href = window.URL.createObjectURL(blob);\n",
              "      a.download = filename;\n",
              "      div.appendChild(a);\n",
              "      a.click();\n",
              "      div.remove();\n",
              "    }\n",
              "  "
            ]
          },
          "metadata": {}
        },
        {
          "output_type": "display_data",
          "data": {
            "text/plain": [
              "<IPython.core.display.Javascript object>"
            ],
            "application/javascript": [
              "download(\"download_2c77bafa-daeb-49b6-b765-55b494bfce3d\", \"LTSdata2_median.jpg\", 21117)"
            ]
          },
          "metadata": {}
        },
        {
          "output_type": "display_data",
          "data": {
            "text/plain": [
              "<IPython.core.display.Javascript object>"
            ],
            "application/javascript": [
              "\n",
              "    async function download(id, filename, size) {\n",
              "      if (!google.colab.kernel.accessAllowed) {\n",
              "        return;\n",
              "      }\n",
              "      const div = document.createElement('div');\n",
              "      const label = document.createElement('label');\n",
              "      label.textContent = `Downloading \"${filename}\": `;\n",
              "      div.appendChild(label);\n",
              "      const progress = document.createElement('progress');\n",
              "      progress.max = size;\n",
              "      div.appendChild(progress);\n",
              "      document.body.appendChild(div);\n",
              "\n",
              "      const buffers = [];\n",
              "      let downloaded = 0;\n",
              "\n",
              "      const channel = await google.colab.kernel.comms.open(id);\n",
              "      // Send a message to notify the kernel that we're ready.\n",
              "      channel.send({})\n",
              "\n",
              "      for await (const message of channel.messages) {\n",
              "        // Send a message to notify the kernel that we're ready.\n",
              "        channel.send({})\n",
              "        if (message.buffers) {\n",
              "          for (const buffer of message.buffers) {\n",
              "            buffers.push(buffer);\n",
              "            downloaded += buffer.byteLength;\n",
              "            progress.value = downloaded;\n",
              "          }\n",
              "        }\n",
              "      }\n",
              "      const blob = new Blob(buffers, {type: 'application/binary'});\n",
              "      const a = document.createElement('a');\n",
              "      a.href = window.URL.createObjectURL(blob);\n",
              "      a.download = filename;\n",
              "      div.appendChild(a);\n",
              "      a.click();\n",
              "      div.remove();\n",
              "    }\n",
              "  "
            ]
          },
          "metadata": {}
        },
        {
          "output_type": "display_data",
          "data": {
            "text/plain": [
              "<IPython.core.display.Javascript object>"
            ],
            "application/javascript": [
              "download(\"download_3c47bf1e-4077-4e7e-8de2-28a33152cc16\", \"LTSdata2_RowGoods.jpg\", 24260)"
            ]
          },
          "metadata": {}
        },
        {
          "output_type": "display_data",
          "data": {
            "text/plain": [
              "<IPython.core.display.Javascript object>"
            ],
            "application/javascript": [
              "\n",
              "    async function download(id, filename, size) {\n",
              "      if (!google.colab.kernel.accessAllowed) {\n",
              "        return;\n",
              "      }\n",
              "      const div = document.createElement('div');\n",
              "      const label = document.createElement('label');\n",
              "      label.textContent = `Downloading \"${filename}\": `;\n",
              "      div.appendChild(label);\n",
              "      const progress = document.createElement('progress');\n",
              "      progress.max = size;\n",
              "      div.appendChild(progress);\n",
              "      document.body.appendChild(div);\n",
              "\n",
              "      const buffers = [];\n",
              "      let downloaded = 0;\n",
              "\n",
              "      const channel = await google.colab.kernel.comms.open(id);\n",
              "      // Send a message to notify the kernel that we're ready.\n",
              "      channel.send({})\n",
              "\n",
              "      for await (const message of channel.messages) {\n",
              "        // Send a message to notify the kernel that we're ready.\n",
              "        channel.send({})\n",
              "        if (message.buffers) {\n",
              "          for (const buffer of message.buffers) {\n",
              "            buffers.push(buffer);\n",
              "            downloaded += buffer.byteLength;\n",
              "            progress.value = downloaded;\n",
              "          }\n",
              "        }\n",
              "      }\n",
              "      const blob = new Blob(buffers, {type: 'application/binary'});\n",
              "      const a = document.createElement('a');\n",
              "      a.href = window.URL.createObjectURL(blob);\n",
              "      a.download = filename;\n",
              "      div.appendChild(a);\n",
              "      a.click();\n",
              "      div.remove();\n",
              "    }\n",
              "  "
            ]
          },
          "metadata": {}
        },
        {
          "output_type": "display_data",
          "data": {
            "text/plain": [
              "<IPython.core.display.Javascript object>"
            ],
            "application/javascript": [
              "download(\"download_4ccb8459-b725-441c-87c1-4192dc03d24c\", \"LTSdata2_RowYield.jpg\", 19763)"
            ]
          },
          "metadata": {}
        }
      ]
    },
    {
      "cell_type": "code",
      "source": [
        "# len(yieldList)"
      ],
      "metadata": {
        "id": "CD5IBGBmoaqa"
      },
      "execution_count": 158,
      "outputs": []
    },
    {
      "cell_type": "code",
      "source": [
        "# df3 = df2.dropna()  # 剔除dataframe空值\n",
        "\n",
        "# # Plot the Data itself.\n",
        "# plt.plot(df3)\n",
        "\n",
        "# plt.show()\n",
        "\n",
        "\n"
      ],
      "metadata": {
        "id": "yrHDaoQFrLyo"
      },
      "execution_count": 159,
      "outputs": []
    },
    {
      "cell_type": "markdown",
      "source": [
        "# 網路舉例\n",
        "\n",
        "```\n",
        "\n",
        "import matplotlib.pyplot as plt\n",
        "import numpy as np\n",
        "\n",
        "plt.style.use('_mpl-gallery')\n",
        "\n",
        "# make data\n",
        "np.random.seed(1)\n",
        "x = 4 + np.random.normal(0, 1.5, 200)\n",
        "\n",
        "# plot:\n",
        "fig, ax = plt.subplots()\n",
        "\n",
        "ax.hist(x, bins=8, linewidth=0.5, edgecolor=\"white\")\n",
        "\n",
        "ax.set(xlim=(0, 8), xticks=np.arange(1, 8),\n",
        "       ylim=(0, 56), yticks=np.linspace(0, 56, 9))\n",
        "\n",
        "plt.show()\n",
        "\n",
        "```"
      ],
      "metadata": {
        "id": "rrT3cRFGKwvU"
      }
    },
    {
      "cell_type": "code",
      "source": [
        "# from pandas._libs.algos import diff_2d\n",
        "# ChatGPT 產生code\n",
        "# import numpy as np\n",
        "# import matplotlib.pyplot as plt\n",
        "\n",
        "\n",
        "# # 產生範例資料，這裡使用了隨機的二維NumPy陣列\n",
        "# #data = np.random.randint(1, 10, size=(4, 3))  # 產生一個 4x3 的二維陣列，數值範圍在 1 到 10 之間\n",
        "# data = myList\n",
        "# # 設置長條圖參數\n",
        "# #rows = ['Row 1', 'Row 2', 'Row 3', 'Row 4']  # 每一列的標籤\n",
        "# rows = df.iloc[:, 0]\n",
        "\n",
        "# # columns = ['A', 'B', 'C']  # 每一行的標籤\n",
        "# columns = df2.columns.tolist()\n",
        "\n",
        "\n",
        "# # 建立長條圖\n",
        "# fig, ax = plt.subplots()\n",
        "# width = 0.2  # 設置每個長條的寬度\n",
        "# x = np.arange(len(columns))\n",
        "\n",
        "\n",
        "# for i, row in enumerate(data):\n",
        "#     ax.bar(x + i * width, row, width, label=rows[i])\n",
        "\n",
        "# # 加入標籤和圖例\n",
        "# ax.set_ylabel('%')\n",
        "# ax.set_title(' Row offset')\n",
        "# #ax.set_xticks(x + width * (len(data) - 1) / 2)\n",
        "# #ax.set_xticklabels(columns)\n",
        "# # ax.legend()\n",
        "\n",
        "# # 顯示圖形\n",
        "# plt.show()\n"
      ],
      "metadata": {
        "id": "Yh1aFKhuRNG7"
      },
      "execution_count": 160,
      "outputs": []
    }
  ]
}