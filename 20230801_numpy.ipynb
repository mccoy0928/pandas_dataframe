{
  "nbformat": 4,
  "nbformat_minor": 0,
  "metadata": {
    "colab": {
      "provenance": [],
      "authorship_tag": "ABX9TyMnTWKDPk3ZECPDPHP+slrz",
      "include_colab_link": true
    },
    "kernelspec": {
      "name": "python3",
      "display_name": "Python 3"
    },
    "language_info": {
      "name": "python"
    }
  },
  "cells": [
    {
      "cell_type": "markdown",
      "metadata": {
        "id": "view-in-github",
        "colab_type": "text"
      },
      "source": [
        "<a href=\"https://colab.research.google.com/github/mccoy0928/pandas_dataframe/blob/main/20230801_numpy.ipynb\" target=\"_parent\"><img src=\"https://colab.research.google.com/assets/colab-badge.svg\" alt=\"Open In Colab\"/></a>"
      ]
    },
    {
      "cell_type": "markdown",
      "source": [
        "# Numpy 練習"
      ],
      "metadata": {
        "id": "brsq4jsd0Sim"
      }
    },
    {
      "cell_type": "code",
      "execution_count": 3,
      "metadata": {
        "id": "lvC78vHw0R6a"
      },
      "outputs": [],
      "source": [
        "import numpy as np"
      ]
    },
    {
      "cell_type": "code",
      "source": [
        "arr1 = np.array([\n",
        "    [1, 2, 3],\n",
        "    [12, 13, 15]\n",
        "]) # 2x3\n",
        "\n",
        "arr2 = np.array([\n",
        "    [21, 22, 23],\n",
        "    [31, 35, 40],\n",
        "])"
      ],
      "metadata": {
        "id": "CqRytkJQ0et7"
      },
      "execution_count": 19,
      "outputs": []
    },
    {
      "cell_type": "markdown",
      "source": [
        "# ndarray 合并\n",
        "\n",
        "* vstack 垂直\n",
        "\n",
        "* hstack 水平\n",
        "\n",
        "* 維度合并 flatten(), reshape(-1), ravel()"
      ],
      "metadata": {
        "id": "m6O1MZyb6ulP"
      }
    },
    {
      "cell_type": "code",
      "source": [
        "newarr = np.vstack([arr1, arr2])\n",
        "print(\"vstack:\",newarr)\n",
        "newarr =np.hstack([arr1, arr2])\n",
        "print(\"hstack:\",newarr)\n",
        "newarr = arr1.flatten()  # 降維度\n",
        "# newarr = arr1.ravel()\n",
        "print(\"newArray:\", newarr)\n",
        "# newarrAll = newarr.reshape(-1)\n",
        "# print('All: ',newarrAll)\n"
      ],
      "metadata": {
        "colab": {
          "base_uri": "https://localhost:8080/"
        },
        "id": "E05VyGKb1HjB",
        "outputId": "c2e4698d-bfb6-4d65-ec5c-71f9bfb697db"
      },
      "execution_count": 20,
      "outputs": [
        {
          "output_type": "stream",
          "name": "stdout",
          "text": [
            "vstack: [[ 1  2  3]\n",
            " [12 13 15]\n",
            " [21 22 23]\n",
            " [31 35 40]]\n",
            "hstack: [[ 1  2  3 21 22 23]\n",
            " [12 13 15 31 35 40]]\n",
            "newArray: [ 1  2  3 12 13 15]\n"
          ]
        }
      ]
    },
    {
      "cell_type": "markdown",
      "source": [
        "# ndarray reshape 重新塑形"
      ],
      "metadata": {
        "id": "UuV1lKuI6jqz"
      }
    },
    {
      "cell_type": "code",
      "source": [
        "a = np.array(range(24))\n",
        "print(a, a.shape)\n",
        "b = a.reshape(4,3,2)\n",
        "print(b,b.shape)"
      ],
      "metadata": {
        "id": "lfyOatGe5t6j",
        "colab": {
          "base_uri": "https://localhost:8080/"
        },
        "outputId": "6bf6381f-5137-4bac-b1fd-52f5546f4885"
      },
      "execution_count": 6,
      "outputs": [
        {
          "output_type": "stream",
          "name": "stdout",
          "text": [
            "[ 0  1  2  3  4  5  6  7  8  9 10 11 12 13 14 15 16 17 18 19 20 21 22 23] (24,)\n",
            "[[[ 0  1]\n",
            "  [ 2  3]\n",
            "  [ 4  5]]\n",
            "\n",
            " [[ 6  7]\n",
            "  [ 8  9]\n",
            "  [10 11]]\n",
            "\n",
            " [[12 13]\n",
            "  [14 15]\n",
            "  [16 17]]\n",
            "\n",
            " [[18 19]\n",
            "  [20 21]\n",
            "  [22 23]]] (4, 3, 2)\n"
          ]
        }
      ]
    },
    {
      "cell_type": "markdown",
      "source": [
        "# matplotlib.pyplot繪製圖表\n",
        "\n",
        "* 以下是一些常用的 pyplot 函数：\n",
        "```\n",
        "plot()：用于绘制线图和散点图\n",
        "scatter()：用于绘制散点图\n",
        "bar()：用于绘制垂直条形图和水平条形图\n",
        "hist()：用于绘制直方图\n",
        "pie()：用于绘制饼图\n",
        "imshow()：用于绘制图像\n",
        "subplots()：用于创建子图\n",
        "```"
      ],
      "metadata": {
        "id": "mjMSW64YnQyw"
      }
    },
    {
      "cell_type": "code",
      "source": [
        "import matplotlib.pyplot as plt"
      ],
      "metadata": {
        "id": "l8w9vEfGAjIu"
      },
      "execution_count": 2,
      "outputs": []
    },
    {
      "cell_type": "code",
      "source": [
        "x = np.random.randint(0, 20, size=24)\n",
        "# plt.plot(a)\n",
        "# plt.hist(x)\n",
        "# plt.scatter(x, a)\n",
        "# plt.bar(x, a)\n",
        "# plt.pie(x)\n",
        "# c = x.reshape(3, 8)\n",
        "c = np.random.rand(10, 10)\n",
        "plt.figure(figsize=(10,10))\n",
        "plt.imshow(c, cmap='hot') # 須為2D數據\n",
        "plt.colorbar()\n",
        "plt.xlabel('counts')\n",
        "plt.ylabel('numbers')\n",
        "plt.show()\n",
        "print(x)"
      ],
      "metadata": {
        "colab": {
          "base_uri": "https://localhost:8080/",
          "height": 824
        },
        "id": "Rp68Db7EAqR9",
        "outputId": "f5ee755a-274f-4f38-c8c8-7c8776dda1e5"
      },
      "execution_count": 34,
      "outputs": [
        {
          "output_type": "display_data",
          "data": {
            "text/plain": [
              "<Figure size 1000x1000 with 2 Axes>"
            ],
            "image/png": "[encoded data removed]"
          },
          "metadata": {}
        },
        {
          "output_type": "stream",
          "name": "stdout",
          "text": [
            "[ 7 16  4 14 11  4  5  9  2 10  6  3 18  8  0 19  9 17 15  4 15 19 12  5]\n"
          ]
        }
      ]
    },
    {
      "cell_type": "markdown",
      "source": [
        "```\n",
        "柱狀圖（bar chart）的繪製方式\n",
        "繪製柱狀圖的方式基本上與前面的折線圖類似，透過bar的方式可以繪製柱狀圖。語法如下：\n",
        "plt.bar(x,y)\n",
        "只要傳入x、y軸的資料，就可以繪製出柱狀圖。其中 x、y軸的資料，通常為1D 陣列。\n",
        "例如：我們透過下面的x、y資料繪製出柱狀圖。\n",
        "import matplotlib.pyplot as plt\n",
        "x = np.random.randint(1000, size=10)\n",
        "y = np.random.randint(1000, size=10)\n",
        "plt.bar(x,y)\n",
        "plt.show()\n",
        "\n",
        "```"
      ],
      "metadata": {
        "id": "hErWl79G35-O"
      }
    },
    {
      "cell_type": "code",
      "source": [
        "x = np.random.randint(1000, size=10)\n",
        "y = np.random.randint(1000, size=10)\n",
        "plt.bar(x,y)\n",
        "plt.show()"
      ],
      "metadata": {
        "colab": {
          "base_uri": "https://localhost:8080/",
          "height": 430
        },
        "id": "WS-qFUdhC1qC",
        "outputId": "fc1c3337-4a8a-422c-e980-301382e9ff26"
      },
      "execution_count": 36,
      "outputs": [
        {
          "output_type": "display_data",
          "data": {
            "text/plain": [
              "<Figure size 640x480 with 1 Axes>"
            ],
            "image/png": "[encoded data removed]"
          },
          "metadata": {}
        }
      ]
    },
    {
      "cell_type": "markdown",
      "source": [
        "```\n",
        "增加X軸標籤\n",
        "如果想要替柱狀圖每一組的資料加上說明，可以使用tick_label參數來設定。\n",
        "plt.bar(x, y, tick_label=['A','B','C','D','E','F','G','H','I','J'])\n",
        "```"
      ],
      "metadata": {
        "id": "9yKTBwpA4Jf7"
      }
    },
    {
      "cell_type": "code",
      "source": [
        "plt.bar(x, y, tick_label=['A','B','C','D','E','F','G','H','I','J'])"
      ],
      "metadata": {
        "colab": {
          "base_uri": "https://localhost:8080/",
          "height": 447
        },
        "id": "csVikyuj4PI1",
        "outputId": "c3a76b3a-1c0c-4229-acf3-51cb73b2a26d"
      },
      "execution_count": 37,
      "outputs": [
        {
          "output_type": "execute_result",
          "data": {
            "text/plain": [
              "<BarContainer object of 10 artists>"
            ]
          },
          "metadata": {},
          "execution_count": 37
        },
        {
          "output_type": "display_data",
          "data": {
            "text/plain": [
              "<Figure size 640x480 with 1 Axes>"
            ],
            "image/png": "[encoded data removed]"
          },
          "metadata": {}
        }
      ]
    },
    {
      "cell_type": "markdown",
      "source": [
        "```\n",
        "tick_label的值為串列list，這個串列裡面含有標籤的名稱。我們也可以把它寫在外面。\n",
        "label = ['A','B','C','D','E','F','G','H','I','J']\n",
        "plt.bar(x, y, tick_label=label)\n",
        "```\n",
        "\n"
      ],
      "metadata": {
        "id": "YoxgEwFf4NME"
      }
    },
    {
      "cell_type": "markdown",
      "source": [
        "```\n",
        "直方圖（histogram）的繪製方式\n",
        "直方圖用來呈現連續資料間的次數，可以看出資料的分佈情況。使用Matplotlib繪製時語法如下：\n",
        "plt.hist(x, bins)\n",
        "我們可以在hist()裡面放入兩個參數x與bins。其中，x為我們想要畫出的資料。bins為橫軸的組距。若指定為auto則表示自動決定。\n",
        "```"
      ],
      "metadata": {
        "id": "Nz085viP4jV4"
      }
    },
    {
      "cell_type": "code",
      "source": [
        "tit = 'myData'\n",
        "z = np.random.randn(10000)\n",
        "plt.hist(z, bins='auto')\n",
        "plt.title(tit + '#1')"
      ],
      "metadata": {
        "colab": {
          "base_uri": "https://localhost:8080/",
          "height": 469
        },
        "id": "-ocR9mcQ4clf",
        "outputId": "c618f385-0430-4fc9-f7b6-9ba54ece2817"
      },
      "execution_count": 51,
      "outputs": [
        {
          "output_type": "execute_result",
          "data": {
            "text/plain": [
              "Text(0.5, 1.0, 'myData#1')"
            ]
          },
          "metadata": {},
          "execution_count": 51
        },
        {
          "output_type": "display_data",
          "data": {
            "text/plain": [
              "<Figure size 640x480 with 1 Axes>"
            ],
            "image/png": "[encoded data removed]"
          },
          "metadata": {}
        }
      ]
    },
    {
      "cell_type": "markdown",
      "source": [
        "```\n",
        "density 機率密度\n",
        "plt.hist(z, bins='auto',density=True)\n",
        "圖中Ｙ軸的數字為機率，其中0.4是指40%的意思。\n",
        "```"
      ],
      "metadata": {
        "id": "8wuH4ILs5KHR"
      }
    },
    {
      "cell_type": "code",
      "source": [
        "plt.hist(z, bins=20,range=[-3, 3], density=False)\n",
        "plt.savefig('fig1.jpg')\n",
        "# plt.hist(z, bins=20,density=True)"
      ],
      "metadata": {
        "colab": {
          "base_uri": "https://localhost:8080/",
          "height": 430
        },
        "id": "ayJxcf1S5D51",
        "outputId": "bd642a36-42c9-461d-d5f5-ce4ba4f921b2"
      },
      "execution_count": 48,
      "outputs": [
        {
          "output_type": "display_data",
          "data": {
            "text/plain": [
              "<Figure size 640x480 with 1 Axes>"
            ],
            "image/png": "[encoded data removed]"
          },
          "metadata": {}
        }
      ]
    },
    {
      "cell_type": "markdown",
      "source": [
        "Add title, axis lables 加標題、座標軸文字\n",
        "利用以下指令，可以在圖的不同位置加上文字\n",
        "plt.title('string',fontsize=n): 加標題\n",
        "plt.xlabel('string',fontsize=n): 加x軸文字\n",
        "plt.ylabel('string',fontsize=n): 加y軸文字\n",
        "plt.text(xp, yp, 'string',fontsize=n): 在圖上xp, yp的位置寫字\n",
        "在這些指令中，要顯示的字串要用''夾起\n",
        "在字串中插入希臘字母、上標、下標\n",
        "$\\alpha$ ⟹ 𝛼\n",
        "$\\alpha \\beta$ ⟹ 𝛼𝛽 （$$之間的空格會被忽略）\n",
        "$\\alpha$ $\\beta$ ⟹ 𝛼 𝛽 （字母間如果要插空格，必須分別用$$夾住）\n",
        "上標superscript：$T^{20}$ ⟹ T20\n",
        "下標subscript： $T_{20}$ ⟹ T20"
      ],
      "metadata": {
        "id": "p-MQ2RNN9Hzx"
      }
    },
    {
      "cell_type": "markdown",
      "source": [
        "```\n",
        "plt.savefig save figure into file 儲存圖形\n",
        "plt.savefig('filename')\n",
        "filename: 檔名，可存成.png, .jpg, .gif, .svg, .eps等圖檔格式\n",
        "#Example 1 Plot cos(x) between 0 and 2*pi\n",
        "x = np.linspace(0.0, 2*np.pi)  # 50x1 array between 0 and 2*pi\n",
        "y = np.cos(x)                  # cos(x)\n",
        "\n",
        "plt.plot(x, y, 'r')   # red line without marker\n",
        "plt.show()\n",
        "plt.plot(x, y, 'b-o') # blue solid line with filled circle marker\n",
        "plt.savefig('fig1.png')\n",
        "plt.show()\n",
        "```"
      ],
      "metadata": {
        "id": "0zQXxIlY69H5"
      }
    }
  ]
}