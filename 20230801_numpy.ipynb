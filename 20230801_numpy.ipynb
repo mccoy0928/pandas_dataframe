{
  "nbformat": 4,
  "nbformat_minor": 0,
  "metadata": {
    "colab": {
      "provenance": [],
      "toc_visible": true,
      "authorship_tag": "ABX9TyMmmBweF6s0Zj4KzqxopN4A",
      "include_colab_link": true
    },
    "kernelspec": {
      "name": "python3",
      "display_name": "Python 3"
    },
    "language_info": {
      "name": "python"
    }
  },
  "cells": [
    {
      "cell_type": "markdown",
      "metadata": {
        "id": "view-in-github",
        "colab_type": "text"
      },
      "source": [
        "<a href=\"https://colab.research.google.com/github/mccoy0928/pandas_dataframe/blob/main/20230801_numpy.ipynb\" target=\"_parent\"><img src=\"https://colab.research.google.com/assets/colab-badge.svg\" alt=\"Open In Colab\"/></a>"
      ]
    },
    {
      "cell_type": "markdown",
      "source": [
        "# Numpy 練習"
      ],
      "metadata": {
        "id": "brsq4jsd0Sim"
      }
    },
    {
      "cell_type": "code",
      "execution_count": 1,
      "metadata": {
        "id": "lvC78vHw0R6a"
      },
      "outputs": [],
      "source": [
        "import numpy as np"
      ]
    },
    {
      "cell_type": "code",
      "source": [
        "arr1 = np.array([\n",
        "    [1, 2, 3],\n",
        "    [12, 13, 15]\n",
        "]) # 2x3\n",
        "\n",
        "arr2 = np.array([\n",
        "    [21, 22, 23],\n",
        "    [31, 35, 40],\n",
        "])"
      ],
      "metadata": {
        "id": "CqRytkJQ0et7"
      },
      "execution_count": 3,
      "outputs": []
    },
    {
      "cell_type": "markdown",
      "source": [
        "# ndarray 合并\n",
        "\n",
        "* vstack 垂直\n",
        "\n",
        "* hstack 水平\n",
        "\n",
        "* 維度合并 flatten(), reshape(-1), ravel()"
      ],
      "metadata": {
        "id": "m6O1MZyb6ulP"
      }
    },
    {
      "cell_type": "code",
      "source": [
        "newarr = np.vstack([arr1, arr2])\n",
        "print(\"vstack:\",newarr)\n",
        "newarr =np.hstack([arr1, arr2])\n",
        "print(\"hstack:\",newarr)\n",
        "newarr = arr1.flatten()  # 降維度\n",
        "# newarr = arr1.ravel()\n",
        "print(\"newArray:\", newarr)\n",
        "# newarrAll = newarr.reshape(-1)\n",
        "# print('All: ',newarrAll)\n"
      ],
      "metadata": {
        "colab": {
          "base_uri": "https://localhost:8080/"
        },
        "id": "E05VyGKb1HjB",
        "outputId": "9e18de60-a312-4edc-9c9b-af13e947f44e"
      },
      "execution_count": 16,
      "outputs": [
        {
          "output_type": "stream",
          "name": "stdout",
          "text": [
            "vstack: [[ 1  2  3]\n",
            " [12 13 15]\n",
            " [21 22 23]\n",
            " [31 35 40]]\n",
            "hstack: [[ 1  2  3 21 22 23]\n",
            " [12 13 15 31 35 40]]\n",
            "newArray: [ 1  2  3 12 13 15]\n"
          ]
        }
      ]
    },
    {
      "cell_type": "markdown",
      "source": [
        "# ndarray reshape 重新塑形"
      ],
      "metadata": {
        "id": "UuV1lKuI6jqz"
      }
    },
    {
      "cell_type": "code",
      "source": [
        "a = np.array(range(24))\n",
        "print(a, a.shape)\n",
        "b = a.reshape(4,3,2)\n",
        "print(b,b.shape)"
      ],
      "metadata": {
        "colab": {
          "base_uri": "https://localhost:8080/"
        },
        "id": "lfyOatGe5t6j",
        "outputId": "0953fc4a-f35c-4627-ce5b-2222c9373d98"
      },
      "execution_count": 20,
      "outputs": [
        {
          "output_type": "stream",
          "name": "stdout",
          "text": [
            "[ 0  1  2  3  4  5  6  7  8  9 10 11 12 13 14 15 16 17 18 19 20 21 22 23] (24,)\n",
            "[[[ 0  1]\n",
            "  [ 2  3]\n",
            "  [ 4  5]]\n",
            "\n",
            " [[ 6  7]\n",
            "  [ 8  9]\n",
            "  [10 11]]\n",
            "\n",
            " [[12 13]\n",
            "  [14 15]\n",
            "  [16 17]]\n",
            "\n",
            " [[18 19]\n",
            "  [20 21]\n",
            "  [22 23]]] (4, 3, 2)\n"
          ]
        }
      ]
    }
  ]
}