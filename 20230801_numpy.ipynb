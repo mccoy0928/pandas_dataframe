{
  "nbformat": 4,
  "nbformat_minor": 0,
  "metadata": {
    "colab": {
      "provenance": [],
      "authorship_tag": "ABX9TyOxf1ddpgxFeW2ft/qe3267",
      "include_colab_link": true
    },
    "kernelspec": {
      "name": "python3",
      "display_name": "Python 3"
    },
    "language_info": {
      "name": "python"
    }
  },
  "cells": [
    {
      "cell_type": "markdown",
      "metadata": {
        "id": "view-in-github",
        "colab_type": "text"
      },
      "source": [
        "<a href=\"https://colab.research.google.com/github/mccoy0928/pandas_dataframe/blob/main/20230801_numpy.ipynb\" target=\"_parent\"><img src=\"https://colab.research.google.com/assets/colab-badge.svg\" alt=\"Open In Colab\"/></a>"
      ]
    },
    {
      "cell_type": "markdown",
      "source": [
        "# Numpy 練習"
      ],
      "metadata": {
        "id": "brsq4jsd0Sim"
      }
    },
    {
      "cell_type": "code",
      "execution_count": 1,
      "metadata": {
        "id": "lvC78vHw0R6a"
      },
      "outputs": [],
      "source": [
        "import numpy as np"
      ]
    },
    {
      "cell_type": "code",
      "source": [
        "arr1 = np.array([\n",
        "    [1, 2, 3],\n",
        "    [12, 13, 15]\n",
        "]) # 2x3\n",
        "\n",
        "arr2 = np.array([\n",
        "    [21, 22, 23],\n",
        "    [31, 35, 40],\n",
        "])"
      ],
      "metadata": {
        "id": "CqRytkJQ0et7"
      },
      "execution_count": 3,
      "outputs": []
    },
    {
      "cell_type": "markdown",
      "source": [
        "# ndarray 合并\n",
        "\n",
        "* vstack 垂直\n",
        "\n",
        "* hstack 水平\n",
        "\n",
        "* 維度合并 flatten(), reshape(-1), ravel()"
      ],
      "metadata": {
        "id": "m6O1MZyb6ulP"
      }
    },
    {
      "cell_type": "code",
      "source": [
        "newarr = np.vstack([arr1, arr2])\n",
        "print(\"vstack:\",newarr)\n",
        "newarr =np.hstack([arr1, arr2])\n",
        "print(\"hstack:\",newarr)\n",
        "newarr = arr1.flatten()  # 降維度\n",
        "# newarr = arr1.ravel()\n",
        "print(\"newArray:\", newarr)\n",
        "# newarrAll = newarr.reshape(-1)\n",
        "# print('All: ',newarrAll)\n"
      ],
      "metadata": {
        "colab": {
          "base_uri": "https://localhost:8080/"
        },
        "id": "E05VyGKb1HjB",
        "outputId": "9e18de60-a312-4edc-9c9b-af13e947f44e"
      },
      "execution_count": 16,
      "outputs": [
        {
          "output_type": "stream",
          "name": "stdout",
          "text": [
            "vstack: [[ 1  2  3]\n",
            " [12 13 15]\n",
            " [21 22 23]\n",
            " [31 35 40]]\n",
            "hstack: [[ 1  2  3 21 22 23]\n",
            " [12 13 15 31 35 40]]\n",
            "newArray: [ 1  2  3 12 13 15]\n"
          ]
        }
      ]
    },
    {
      "cell_type": "markdown",
      "source": [
        "# ndarray reshape 重新塑形"
      ],
      "metadata": {
        "id": "UuV1lKuI6jqz"
      }
    },
    {
      "cell_type": "code",
      "source": [
        "a = np.array(range(24))\n",
        "print(a, a.shape)\n",
        "b = a.reshape(4,3,2)\n",
        "print(b,b.shape)"
      ],
      "metadata": {
        "id": "lfyOatGe5t6j"
      },
      "execution_count": null,
      "outputs": []
    },
    {
      "cell_type": "code",
      "source": [
        "import matplotlib.pyplot as plt"
      ],
      "metadata": {
        "id": "l8w9vEfGAjIu"
      },
      "execution_count": 22,
      "outputs": []
    },
    {
      "cell_type": "code",
      "source": [
        "x = np.random.randint(0, 10, size=1000)\n",
        "# plt.plot(a)\n",
        "plt.hist(x)\n",
        "plt.xlabel('counts')\n",
        "plt.ylabel('numbers')\n",
        "plt.show()\n",
        "print(x)"
      ],
      "metadata": {
        "colab": {
          "base_uri": "https://localhost:8080/",
          "height": 935
        },
        "id": "Rp68Db7EAqR9",
        "outputId": "6c98625e-dc18-4f23-9e9f-6e17cb1f0ddc"
      },
      "execution_count": 45,
      "outputs": [
        {
          "output_type": "display_data",
          "data": {
            "text/plain": [
              "<Figure size 640x480 with 1 Axes>"
            ],
            "image/png": "[encoded data removed]"
          },
          "metadata": {}
        },
        {
          "output_type": "stream",
          "name": "stdout",
          "text": [
            "[2 4 8 8 1 1 9 6 7 3 8 2 9 1 4 9 2 2 3 2 9 0 8 6 5 9 9 2 3 1 3 9 7 4 2 7 9\n",
            " 4 6 3 8 6 1 5 4 2 3 1 0 0 4 3 1 5 2 8 1 7 6 4 8 0 4 3 6 8 1 5 4 2 2 3 8 6\n",
            " 8 2 0 6 8 5 3 7 8 2 7 8 4 1 2 2 2 8 5 9 8 0 1 4 4 0 3 7 3 7 4 4 2 9 1 1 1\n",
            " 4 6 9 0 6 1 9 8 6 7 4 7 4 7 7 9 9 2 2 2 9 6 1 0 4 7 6 5 9 6 5 1 4 1 0 6 5\n",
            " 4 2 6 8 3 2 1 6 2 0 0 8 8 8 1 3 8 1 3 0 2 6 7 3 6 4 4 4 6 5 6 5 3 8 1 8 3\n",
            " 3 7 6 3 6 3 5 8 1 1 9 9 7 9 4 5 9 5 7 8 0 3 6 1 2 0 6 0 8 1 9 8 1 0 1 6 4\n",
            " 1 2 6 5 4 4 8 3 8 9 8 1 6 3 3 3 4 7 6 9 4 9 7 0 2 5 2 1 8 9 2 9 9 4 0 7 3\n",
            " 7 8 4 3 0 6 0 2 1 7 2 3 1 2 7 8 3 2 5 8 5 4 0 6 7 7 2 9 3 4 8 6 2 6 5 5 5\n",
            " 1 0 8 6 4 7 4 6 9 7 4 7 9 5 8 0 7 3 1 6 7 7 5 4 7 4 4 5 2 2 7 7 6 8 9 2 7\n",
            " 3 6 8 5 4 8 7 2 8 0 9 9 3 5 5 8 1 8 7 4 9 1 9 9 3 9 1 8 8 4 9 0 8 9 0 3 8\n",
            " 0 0 7 5 9 7 7 9 0 9 6 6 1 2 5 8 1 0 0 9 3 6 6 8 7 5 1 6 1 3 5 5 8 8 9 3 2\n",
            " 6 0 6 9 9 7 2 0 5 3 5 5 0 6 3 6 8 6 4 0 0 1 0 6 9 5 7 4 7 3 6 7 7 8 8 5 7\n",
            " 1 8 0 8 6 8 6 7 4 6 5 5 1 6 2 8 4 7 8 7 3 0 1 0 3 3 5 8 3 9 6 8 3 7 2 4 9\n",
            " 5 3 3 9 3 0 0 9 4 7 7 2 0 7 4 7 1 4 3 8 1 9 7 6 1 3 0 1 8 3 3 4 9 1 3 4 2\n",
            " 7 1 5 0 4 3 5 0 0 7 6 6 7 4 4 3 7 5 5 5 5 9 4 7 1 3 9 9 9 4 6 1 8 0 1 0 0\n",
            " 4 1 5 0 8 3 8 1 4 8 2 4 0 1 5 8 3 4 6 4 0 9 5 4 4 3 9 9 9 1 7 6 5 9 0 9 8\n",
            " 4 3 8 6 7 4 8 5 7 4 4 5 6 1 6 1 7 5 0 0 0 9 8 7 1 5 1 2 6 7 3 2 4 3 7 7 9\n",
            " 5 6 8 4 4 8 2 5 2 7 5 1 1 0 0 9 9 2 8 9 8 4 5 4 7 7 7 5 8 3 8 7 7 7 8 6 0\n",
            " 1 0 1 5 4 8 2 5 9 8 8 1 1 6 3 8 5 2 8 9 9 4 6 4 8 8 3 7 8 4 9 8 0 4 2 6 2\n",
            " 8 4 3 3 9 0 0 0 4 2 2 0 5 6 5 7 3 0 4 7 7 6 0 8 8 4 0 2 3 8 5 9 5 0 9 9 7\n",
            " 3 3 9 4 8 5 5 1 8 4 6 1 7 4 3 1 3 2 5 7 8 5 1 9 5 8 1 5 3 3 0 8 4 4 4 1 8\n",
            " 4 8 5 9 0 7 1 2 8 7 3 2 7 5 7 2 6 5 7 7 1 0 8 4 6 3 5 0 5 4 2 5 1 8 5 8 5\n",
            " 6 8 6 4 1 7 8 0 3 1 3 1 1 2 7 5 8 0 0 4 9 8 9 5 9 4 5 4 9 6 3 4 5 2 4 1 7\n",
            " 3 1 6 5 6 4 2 0 1 6 3 7 4 2 1 4 0 8 8 6 5 9 8 2 1 6 2 4 0 0 1 7 0 8 8 0 5\n",
            " 4 9 4 6 5 0 0 5 4 1 4 3 9 2 7 7 1 2 2 2 2 7 1 1 5 9 5 0 5 6 1 4 3 7 4 1 6\n",
            " 5 8 5 2 0 8 9 4 9 0 4 3 2 2 3 7 4 2 0 0 2 7 4 6 5 4 5 5 1 7 8 9 4 7 6 4 4\n",
            " 7 9 0 6 4 1 5 1 4 5 4 7 6 7 4 1 0 2 6 5 1 1 8 1 2 7 8 2 4 7 8 2 6 1 3 4 1\n",
            " 6]\n"
          ]
        }
      ]
    },
    {
      "cell_type": "code",
      "source": [],
      "metadata": {
        "colab": {
          "base_uri": "https://localhost:8080/"
        },
        "id": "WS-qFUdhC1qC",
        "outputId": "b0299dca-3b38-41f2-8e50-028d2515b0e2"
      },
      "execution_count": 40,
      "outputs": [
        {
          "output_type": "stream",
          "name": "stdout",
          "text": [
            "21\n"
          ]
        }
      ]
    }
  ]
}