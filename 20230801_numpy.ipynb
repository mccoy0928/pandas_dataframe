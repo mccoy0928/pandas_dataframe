{
  "nbformat": 4,
  "nbformat_minor": 0,
  "metadata": {
    "colab": {
      "provenance": [],
      "authorship_tag": "ABX9TyOjiWj38umL7fZoYJ2R7Gka",
      "include_colab_link": true
    },
    "kernelspec": {
      "name": "python3",
      "display_name": "Python 3"
    },
    "language_info": {
      "name": "python"
    }
  },
  "cells": [
    {
      "cell_type": "markdown",
      "metadata": {
        "id": "view-in-github",
        "colab_type": "text"
      },
      "source": [
        "<a href=\"https://colab.research.google.com/github/mccoy0928/pandas_dataframe/blob/main/20230801_numpy.ipynb\" target=\"_parent\"><img src=\"https://colab.research.google.com/assets/colab-badge.svg\" alt=\"Open In Colab\"/></a>"
      ]
    },
    {
      "cell_type": "markdown",
      "source": [
        "# Numpy 練習"
      ],
      "metadata": {
        "id": "brsq4jsd0Sim"
      }
    },
    {
      "cell_type": "code",
      "execution_count": 1,
      "metadata": {
        "id": "lvC78vHw0R6a"
      },
      "outputs": [],
      "source": [
        "import numpy as np"
      ]
    },
    {
      "cell_type": "code",
      "source": [
        "arr1 = np.array([\n",
        "    [1, 2, 3],\n",
        "    [12, 13, 15]\n",
        "]) # 2x3\n",
        "\n",
        "arr2 = np.array([\n",
        "    [21, 22, 23],\n",
        "    [31, 35, 40],\n",
        "])"
      ],
      "metadata": {
        "id": "CqRytkJQ0et7"
      },
      "execution_count": 3,
      "outputs": []
    },
    {
      "cell_type": "markdown",
      "source": [
        "# ndarray 合并\n",
        "\n",
        "* vstack 垂直\n",
        "\n",
        "* hstack 水平\n",
        "\n",
        "* 維度合并 flatten(), reshape(-1), ravel()"
      ],
      "metadata": {
        "id": "m6O1MZyb6ulP"
      }
    },
    {
      "cell_type": "code",
      "source": [
        "newarr = np.vstack([arr1, arr2])\n",
        "print(\"vstack:\",newarr)\n",
        "newarr =np.hstack([arr1, arr2])\n",
        "print(\"hstack:\",newarr)\n",
        "newarr = arr1.flatten()  # 降維度\n",
        "# newarr = arr1.ravel()\n",
        "print(\"newArray:\", newarr)\n",
        "# newarrAll = newarr.reshape(-1)\n",
        "# print('All: ',newarrAll)\n"
      ],
      "metadata": {
        "colab": {
          "base_uri": "https://localhost:8080/"
        },
        "id": "E05VyGKb1HjB",
        "outputId": "9e18de60-a312-4edc-9c9b-af13e947f44e"
      },
      "execution_count": 16,
      "outputs": [
        {
          "output_type": "stream",
          "name": "stdout",
          "text": [
            "vstack: [[ 1  2  3]\n",
            " [12 13 15]\n",
            " [21 22 23]\n",
            " [31 35 40]]\n",
            "hstack: [[ 1  2  3 21 22 23]\n",
            " [12 13 15 31 35 40]]\n",
            "newArray: [ 1  2  3 12 13 15]\n"
          ]
        }
      ]
    },
    {
      "cell_type": "markdown",
      "source": [
        "# ndarray reshape 重新塑形"
      ],
      "metadata": {
        "id": "UuV1lKuI6jqz"
      }
    },
    {
      "cell_type": "code",
      "source": [
        "a = np.array(range(24))\n",
        "print(a, a.shape)\n",
        "b = a.reshape(4,3,2)\n",
        "print(b,b.shape)"
      ],
      "metadata": {
        "id": "lfyOatGe5t6j"
      },
      "execution_count": null,
      "outputs": []
    },
    {
      "cell_type": "code",
      "source": [
        "import matplotlib.pyplot as plt"
      ],
      "metadata": {
        "id": "l8w9vEfGAjIu"
      },
      "execution_count": 22,
      "outputs": []
    },
    {
      "cell_type": "code",
      "source": [
        "x = np.random.random_integers(0, 100, size=2000)\n",
        "plt.plot(newarr)\n",
        "plt.hist(x)\n",
        "plt.xlabel('counts')\n",
        "plt.ylabel('numbers')\n",
        "plt.show()\n",
        "print(x)"
      ],
      "metadata": {
        "colab": {
          "base_uri": "https://localhost:8080/",
          "height": 501
        },
        "id": "Rp68Db7EAqR9",
        "outputId": "8e47e205-740c-45ce-eca4-b055978a5c02"
      },
      "execution_count": 36,
      "outputs": [
        {
          "output_type": "stream",
          "name": "stderr",
          "text": [
            "<ipython-input-36-927544f6883d>:1: DeprecationWarning: This function is deprecated. Please call randint(0, 100 + 1) instead\n",
            "  x = np.random.random_integers(0, 100, size=2000)\n"
          ]
        },
        {
          "output_type": "display_data",
          "data": {
            "text/plain": [
              "<Figure size 640x480 with 1 Axes>"
            ],
            "image/png": "[encoded data removed]"
          },
          "metadata": {}
        },
        {
          "output_type": "stream",
          "name": "stdout",
          "text": [
            "[44 78 58 ... 95 35 31]\n"
          ]
        }
      ]
    },
    {
      "cell_type": "code",
      "source": [],
      "metadata": {
        "colab": {
          "base_uri": "https://localhost:8080/"
        },
        "id": "WS-qFUdhC1qC",
        "outputId": "b0299dca-3b38-41f2-8e50-028d2515b0e2"
      },
      "execution_count": 40,
      "outputs": [
        {
          "output_type": "stream",
          "name": "stdout",
          "text": [
            "21\n"
          ]
        }
      ]
    }
  ]
}