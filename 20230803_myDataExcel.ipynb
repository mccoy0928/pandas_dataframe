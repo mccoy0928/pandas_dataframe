{
  "nbformat": 4,
  "nbformat_minor": 0,
  "metadata": {
    "colab": {
      "provenance": [],
      "gpuType": "T4",
      "toc_visible": true,
      "authorship_tag": "ABX9TyNwJpGuzMHaNOIh0RZFxPhl",
      "include_colab_link": true
    },
    "kernelspec": {
      "name": "python3",
      "display_name": "Python 3"
    },
    "language_info": {
      "name": "python"
    }
  },
  "cells": [
    {
      "cell_type": "markdown",
      "metadata": {
        "id": "view-in-github",
        "colab_type": "text"
      },
      "source": [
        "<a href=\"https://colab.research.google.com/github/mccoy0928/pandas_dataframe/blob/main/20230803_myDataExcel.ipynb\" target=\"_parent\"><img src=\"https://colab.research.google.com/assets/colab-badge.svg\" alt=\"Open In Colab\"/></a>"
      ]
    },
    {
      "cell_type": "markdown",
      "source": [
        "# 20230803 update\n",
        "\n",
        "# 練習myData圖形繪製\n",
        "\n",
        "## 20230729 use seaborn 製作直方圖+KDE\n",
        "\n"
      ],
      "metadata": {
        "id": "ustuvS9-Gg5N"
      }
    },
    {
      "cell_type": "code",
      "execution_count": 304,
      "metadata": {
        "id": "jDYOjgLsGZte"
      },
      "outputs": [],
      "source": [
        "import pandas as pd\n",
        "import matplotlib.pyplot as plt\n",
        "import numpy as np\n"
      ]
    },
    {
      "cell_type": "code",
      "source": [
        "# from google.colab import drive\n",
        "# drive.mount('/content/drive')"
      ],
      "metadata": {
        "id": "d3mHKTn_L93i"
      },
      "execution_count": 305,
      "outputs": []
    },
    {
      "cell_type": "markdown",
      "source": [
        "## 資料讀取轉換"
      ],
      "metadata": {
        "id": "8uRD0nznHCSi"
      }
    },
    {
      "cell_type": "code",
      "source": [
        "myfile = \"myData5.xlsx\"  # 請變更讀取檔名 xlsx\n",
        "df = pd.read_excel(myfile, sheet_name = \"工作表1\")\n",
        "# print(df)\n",
        "# type(df)\n",
        "# len(df)\n",
        "# df.head()"
      ],
      "metadata": {
        "id": "W-EjQg0kHJS1"
      },
      "execution_count": 306,
      "outputs": []
    },
    {
      "cell_type": "code",
      "source": [],
      "metadata": {
        "id": "hzXsSHtr5bLD"
      },
      "execution_count": 306,
      "outputs": []
    },
    {
      "cell_type": "code",
      "source": [
        "df2 = pd.read_excel(myfile, sheet_name = \"工作表1\", usecols=\"B:AO\")  #讀取欄位名only 針對熱力圖所需\n",
        "# df2.head()"
      ],
      "metadata": {
        "id": "Dg2_2NDlIHau"
      },
      "execution_count": 307,
      "outputs": []
    },
    {
      "cell_type": "code",
      "source": [
        "myList = np.array(df2)\n",
        "df3 = df2.dropna()\n",
        "# myList\n",
        "# myList.shape"
      ],
      "metadata": {
        "id": "mB2zcXgeQCCT"
      },
      "execution_count": 308,
      "outputs": []
    },
    {
      "cell_type": "markdown",
      "source": [
        "## 熱力圖"
      ],
      "metadata": {
        "id": "izBukWGB7C9A"
      }
    },
    {
      "cell_type": "code",
      "source": [
        "# 創建熱力圖\n",
        "figName = myfile[:-5] +'_heatMap.jpg'\n",
        "plt.imshow(df3, cmap='viridis', origin='upper', aspect='auto')\n",
        "\n",
        "# 添加顏色欄圖示\n",
        "plt.title(figName[:-4])\n",
        "plt.colorbar()\n",
        "\n",
        "# 顯示圖形\n",
        "plt.title(figName[:-4])\n",
        "plt.savefig(figName)\n",
        "plt.show()\n"
      ],
      "metadata": {
        "colab": {
          "base_uri": "https://localhost:8080/",
          "height": 452
        },
        "id": "5OHULk6KU6bH",
        "outputId": "6d2567d4-411e-49f9-9cb7-d085c953774b"
      },
      "execution_count": 309,
      "outputs": [
        {
          "output_type": "display_data",
          "data": {
            "text/plain": [
              "<Figure size 640x480 with 2 Axes>"
            ],
            "image/png": "[encoded data removed]"
          },
          "metadata": {}
        }
      ]
    },
    {
      "cell_type": "code",
      "source": [
        "#df.iloc[:, 0]"
      ],
      "metadata": {
        "id": "J8eugXNfZH1I"
      },
      "execution_count": 310,
      "outputs": []
    },
    {
      "cell_type": "code",
      "source": [
        "# 維度轉換 範例\n",
        "# 二維陣列\n",
        "# two_dim_array = np.array([[1, 2, 3], [4, 5, 6], [7, 8, 9]])\n",
        "\n",
        "# # 使用 flatten() 方法\n",
        "# one_dim_array_flatten = two_dim_array.flatten()\n",
        "\n",
        "# # 使用 ravel() 方法\n",
        "# one_dim_array_ravel = two_dim_array.ravel()"
      ],
      "metadata": {
        "id": "DceShgV_g0CT"
      },
      "execution_count": 311,
      "outputs": []
    },
    {
      "cell_type": "markdown",
      "source": [
        "## 繪製分佈圖"
      ],
      "metadata": {
        "id": "idR2dPm17KCj"
      }
    },
    {
      "cell_type": "code",
      "source": [
        "temp = np.array(df3)\n",
        "x = temp.flatten()  # 二維轉換一維\n",
        "# 20230730 改用 seaborn 繪製hist分佈圖直方圖\n",
        "# 繪製分佈圖\n",
        "\n",
        "# plt.hist(x, bins=20, edgecolor='y')\n",
        "# # plt.hist(x, bins='auto', edgecolor='y')\n",
        "# plt.xlabel('Total %')\n",
        "# plt.ylabel('PCS')\n",
        "# plt.title('distribution')\n",
        "# plt.show()"
      ],
      "metadata": {
        "id": "sxFWOFGNfJ9z"
      },
      "execution_count": 312,
      "outputs": []
    },
    {
      "cell_type": "markdown",
      "source": [
        "* seaborn.histplot(data=None, *, x=None, y=None, hue=None, weights=None, stat='count', bins='auto', binwidth=None, binrange=None, discrete=None, cumulative=False, common_bins=True, common_norm=True, multiple='layer', element='bars', fill=True, shrink=1, kde=False, kde_kws=None, line_kws=None, thresh=0, pthresh=None, pmax=None, cbar=False, cbar_ax=None, cbar_kws=None, palette=None, hue_order=None, hue_norm=None, color=None, log_scale=None, legend=True, ax=None, **kwargs)\n",
        "\n",
        "[Seaborn API](https://seaborn.pydata.org/generated/seaborn.histplot.html)"
      ],
      "metadata": {
        "id": "Zp8Cb1HItov_"
      }
    },
    {
      "cell_type": "code",
      "source": [
        "# myfile[:-5]"
      ],
      "metadata": {
        "id": "V5dHuJaZvkjg"
      },
      "execution_count": 313,
      "outputs": []
    },
    {
      "cell_type": "code",
      "source": [
        "# 20230730 *********************\n",
        "import seaborn as sns\n",
        "figName = myfile[:-5] + '_hist.jpg'\n",
        "# import numpy as np\n",
        "# x = np.random.normal(size=2000)\n",
        "# sns.distplot(x)\n",
        "# myFig = sns.histplot(x, bins=35, color='green', kde=True).set_xlim(-3, 1) # kde曲線\n",
        "myFig = sns.histplot(x, bins=35, color='green', kde=True).set(title=figName[:-4])\n",
        "plt.savefig(figName)\n",
        "\n",
        "\n"
      ],
      "metadata": {
        "colab": {
          "base_uri": "https://localhost:8080/",
          "height": 452
        },
        "id": "Xxevn0YW0rI7",
        "outputId": "a2ad2479-3fee-454a-c336-1e12d5fa2192"
      },
      "execution_count": 314,
      "outputs": [
        {
          "output_type": "display_data",
          "data": {
            "text/plain": [
              "<Figure size 640x480 with 1 Axes>"
            ],
            "image/png": "[encoded data removed]"
          },
          "metadata": {}
        }
      ]
    },
    {
      "cell_type": "markdown",
      "source": [
        "## 趨勢圖\n",
        "\n",
        "\n",
        "* 均值\n",
        "  * np.mean(nums)\n",
        "* 中位数\n",
        "  * np.median(nums)"
      ],
      "metadata": {
        "id": "OgJk6dobjL0x"
      }
    },
    {
      "cell_type": "code",
      "source": [
        "# import numpy\n",
        "# from matplotlib import pyplot as plt\n",
        "df3 = df2.dropna()  # 剔除dataframe空值\n",
        "figName = myfile[:-5] + '_median.jpg'\n",
        "# a = df\n",
        "b = []\n",
        "for i in df3:\n",
        "  #mean = np.mean(df2[i])\n",
        "  mean = np.median(df3[i])\n",
        "  b.append(mean)\n",
        "\n",
        "# Plot the Data itself.\n",
        "plt.title(figName[:-4])\n",
        "plt.plot(b)\n",
        "plt.savefig(figName)\n",
        "plt.show()\n"
      ],
      "metadata": {
        "colab": {
          "base_uri": "https://localhost:8080/",
          "height": 452
        },
        "id": "ZtFM157WlK4p",
        "outputId": "09ec2c90-9aa0-45ea-eb07-dcdd0779cd5f"
      },
      "execution_count": 315,
      "outputs": [
        {
          "output_type": "display_data",
          "data": {
            "text/plain": [
              "<Figure size 640x480 with 1 Axes>"
            ],
            "image/png": "[encoded data removed]"
          },
          "metadata": {}
        }
      ]
    },
    {
      "cell_type": "markdown",
      "source": [
        "## R1~R68 良率%\n"
      ],
      "metadata": {
        "id": "3xmE8e0mrBQV"
      }
    },
    {
      "cell_type": "code",
      "source": [
        "# 設定各Row上下限標準 依照中位數為準\n",
        "bUp = []\n",
        "bDn = []\n",
        "allCenter = np.median(df3)\n",
        "for i in df3.columns :\n",
        "  #mean = np.mean(df2[i])\n",
        "  meanUp = np.median(df3[i]) + 0.8\n",
        "  meanDn = np.median(df3[i]) - 0.8\n",
        "  bUp.append(meanUp)\n",
        "  bDn.append(meanDn)\n"
      ],
      "metadata": {
        "id": "9lVcSaIFs5XF"
      },
      "execution_count": 316,
      "outputs": []
    },
    {
      "cell_type": "markdown",
      "source": [
        "### 計算中位數"
      ],
      "metadata": {
        "id": "KICki9G_8krD"
      }
    },
    {
      "cell_type": "code",
      "source": [
        "print('全部數據中位數:', allCenter)"
      ],
      "metadata": {
        "colab": {
          "base_uri": "https://localhost:8080/"
        },
        "id": "ffJOQBxB6PQ_",
        "outputId": "30cfd77d-5264-4e7e-c667-611610f7dc3d"
      },
      "execution_count": 317,
      "outputs": [
        {
          "output_type": "stream",
          "name": "stdout",
          "text": [
            "全部數據中位數: -0.649\n"
          ]
        }
      ]
    },
    {
      "cell_type": "code",
      "source": [
        "# print(df3.columns)\n",
        "\n",
        "# print(bUp)\n",
        "# print(b)\n",
        "# print(bDn)\n",
        "# # print(b)\n",
        "# # for i in range(len(df3)):\n",
        "# #   print(df3.iat[i, 0])\n",
        "\n",
        "# q = len(df3['Row 1'])\n",
        "# w = bUp[0]\n",
        "# e = bDn[0]\n",
        "# print(q, w, e)"
      ],
      "metadata": {
        "id": "G6Ntx11CuvLT"
      },
      "execution_count": 318,
      "outputs": []
    },
    {
      "cell_type": "markdown",
      "source": [
        "### 計算良品數"
      ],
      "metadata": {
        "id": "bkZlFEM1eDRB"
      }
    },
    {
      "cell_type": "code",
      "source": [
        "from numpy.ma import count\n",
        "Rows = df2.columns\n",
        "# print(len(Rows))\n",
        "# countAll = count(df2)\n",
        "nogoodCount = 0\n",
        "goodCount = 0\n",
        "# countHi = 0\n",
        "# countLo = 0\n",
        "# yieldList = []\n",
        "r_num = 0\n",
        "for k in Rows:\n",
        "  # print(k)\n",
        "  for i in range(len(df2)):\n",
        "    # print(df2.at[i, k])\n",
        "    # 20230730 add Hi & Lo **********\n",
        "    # if df2.at[i, k] > 4 :\n",
        "    #   countHi += 1\n",
        "    # if df2.at[i, k] < -8 :\n",
        "    #   countLo += 1\n",
        "# 20230730 1st. way ***********************\n",
        "    # if df2.at[i, k] <= bUp[r_num] and df2.at[i, k] >= bDn[r_num]:\n",
        "    #   goodCount += 1\n",
        "    # if df2.at[i, k] > bUp[r_num] or df2.at[i, k] < bDn[r_num]:  # 依照各Row中位數 +/- 0.8 做上下限\n",
        "    #   nogoodCount += 1\n",
        "# 20230730 採用全體中位數做計算 2nd. way *******************\n",
        "    if df2.at[i, k] <= (allCenter+0.8) and df2.at[i, k] >= (allCenter-0.8):\n",
        "      goodCount += 1\n",
        "    if df2.at[i, k] > (allCenter+0.8) or df2.at[i, k] < (allCenter-0.8):  # 依照中位數 +/- 0.8 做上下限\n",
        "      nogoodCount += 1\n",
        "# 20230730 *****************************************\n",
        "  r_num += 1\n",
        "countAll = goodCount + nogoodCount\n",
        "# 計算量測空值 sum null numbers 20230730 *******************\n",
        "nanum = df2.isna().sum()\n",
        "naN = 0\n",
        "for i in nanum:\n",
        "  if i == True:\n",
        "    naN += 1\n",
        "# print(naN)\n",
        "# **********************************************\n",
        "print(\"不良品數: \", nogoodCount)\n",
        "print(\"良品數: \", goodCount)\n",
        "print(\"Probe error: \", naN)\n",
        "print(\"基板有效量測數: \", countAll)\n",
        "# print(\"Yield %: {:.2%}\".format((countAll-nogoodCount) / countAll) )\n",
        "totalYield = (countAll-nogoodCount) / countAll\n",
        "print(f\"Yield %: {totalYield:.2%}\")\n",
        "\n"
      ],
      "metadata": {
        "colab": {
          "base_uri": "https://localhost:8080/"
        },
        "id": "mW0p1IOfPyWF",
        "outputId": "4f7ae53b-7bef-4014-e985-0a5b99cdb749"
      },
      "execution_count": 319,
      "outputs": [
        {
          "output_type": "stream",
          "name": "stdout",
          "text": [
            "不良品數:  1000\n",
            "良品數:  1714\n",
            "Probe error:  6\n",
            "基板有效量測數:  2714\n",
            "Yield %: 63.15%\n"
          ]
        }
      ]
    },
    {
      "cell_type": "code",
      "source": [
        "txtName = myfile[:-4] + 'txt'\n",
        "f = open(txtName, 'w')\n",
        "print(\"不良品數: \", nogoodCount, file=f)\n",
        "print(\"良品數: \", goodCount, file=f)\n",
        "print(\"Probe error: \", naN, file=f)\n",
        "print(\"基板有效量測數: \", countAll, file=f)\n",
        "# totalYield = (countAll-nogoodCount) / countAll\n",
        "print(f\"Yield %: {totalYield:.2%}\", file=f)\n",
        "f.close()"
      ],
      "metadata": {
        "id": "MoALSGxjAxqh"
      },
      "execution_count": 320,
      "outputs": []
    },
    {
      "cell_type": "code",
      "source": [
        "myOutputTxt = {\n",
        "    \"不良品數:\": nogoodCount,\n",
        "    \"良品數: \": goodCount,\n",
        "    \"Probe error: \": naN,\n",
        "    \"基板有效量測數:\": countAll\n",
        "\n",
        "}"
      ],
      "metadata": {
        "id": "jGgLdD-P_Qkd"
      },
      "execution_count": 321,
      "outputs": []
    },
    {
      "cell_type": "code",
      "source": [
        "myOutputTxt"
      ],
      "metadata": {
        "colab": {
          "base_uri": "https://localhost:8080/"
        },
        "id": "D8vwdeBMAK9t",
        "outputId": "f30c3221-39fa-46b6-b872-fe1e3ed7627a"
      },
      "execution_count": 322,
      "outputs": [
        {
          "output_type": "execute_result",
          "data": {
            "text/plain": [
              "{'不良品數:': 1000, '良品數: ': 1714, 'Probe error: ': 6, '基板有效量測數:': 2714}"
            ]
          },
          "metadata": {},
          "execution_count": 322
        }
      ]
    },
    {
      "cell_type": "code",
      "source": [
        "# 計算標準差std\n",
        "stdAverge = np.std(x)\n",
        "# print(\"sd: {:.3f}\".format(stdAverge))\n",
        "print(f'sd: {stdAverge:.3f}')"
      ],
      "metadata": {
        "colab": {
          "base_uri": "https://localhost:8080/"
        },
        "id": "KExzjc66h6Wm",
        "outputId": "21028fcd-8267-422c-f45e-f9697cc626ff"
      },
      "execution_count": 323,
      "outputs": [
        {
          "output_type": "stream",
          "name": "stdout",
          "text": [
            "sd: 0.927\n"
          ]
        }
      ]
    },
    {
      "cell_type": "code",
      "source": [
        "# df2.shape"
      ],
      "metadata": {
        "id": "8pm4Z8N_rgLi"
      },
      "execution_count": 324,
      "outputs": []
    },
    {
      "cell_type": "markdown",
      "source": [
        "### 繪製Row 良率圖表"
      ],
      "metadata": {
        "id": "hSKO3iD4eLYK"
      }
    },
    {
      "cell_type": "code",
      "source": [
        "# 利用迴圈計數存入每一Row List\n",
        "yieldCount = 0\n",
        "yieldList = []\n",
        "figName = myfile[:-5] + '_RowGoods.jpg'\n",
        "rowCount = 0\n",
        "r_num = 0\n",
        "\n",
        "for k in Rows:\n",
        "  # print(k)\n",
        "  for i in range(len(df2)):\n",
        "    # print(df2.at[i, k])\n",
        "    if df2.at[i, k] <= bUp[r_num] and df2.at[i, k] >= bDn[r_num]:  # 依照中位數 +/- 0.8 做上下限\n",
        "       yieldCount += 1\n",
        "\n",
        "  yieldList.append(yieldCount)\n",
        "\n",
        "\n",
        "  yieldCount = 0\n",
        "  rowCount = 0\n",
        "  r_num += 1\n",
        "\n",
        "print(yieldList)\n",
        "plt.title(figName[:-4])\n",
        "plt.plot(yieldList)\n",
        "plt.savefig(figName)\n",
        "plt.show()"
      ],
      "metadata": {
        "id": "7ECSOXpftDVK",
        "colab": {
          "base_uri": "https://localhost:8080/",
          "height": 489
        },
        "outputId": "2cc7fe18-560e-4297-941c-a608e8caf222"
      },
      "execution_count": 325,
      "outputs": [
        {
          "output_type": "stream",
          "name": "stdout",
          "text": [
            "[41, 36, 45, 48, 45, 48, 46, 39, 44, 46, 43, 42, 45, 41, 43, 45, 41, 40, 44, 48, 44, 42, 52, 45, 49, 47, 43, 47, 47, 48, 43, 51, 47, 50, 43, 47, 44, 45, 45, 41]\n"
          ]
        },
        {
          "output_type": "display_data",
          "data": {
            "text/plain": [
              "<Figure size 640x480 with 1 Axes>"
            ],
            "image/png": "[encoded data removed]"
          },
          "metadata": {}
        }
      ]
    },
    {
      "cell_type": "code",
      "source": [
        "figName = myfile[:-5] + '_RowYield.jpg'\n",
        "rowlist = np.array([68])\n",
        "newrowyield = yieldList / rowlist\n",
        "np.set_printoptions(formatter={'float': '{: 0.1%}'.format})\n",
        "print(newrowyield)\n",
        "plt.ylim(0.3,1)\n",
        "plt.title(figName[:-4])\n",
        "plt.plot(newrowyield)\n",
        "plt.savefig(figName)\n",
        "plt.show()"
      ],
      "metadata": {
        "colab": {
          "base_uri": "https://localhost:8080/",
          "height": 521
        },
        "id": "iClerMAOahtl",
        "outputId": "445e89b5-b7fb-423a-e7cf-7a400ad56e10"
      },
      "execution_count": 326,
      "outputs": [
        {
          "output_type": "stream",
          "name": "stdout",
          "text": [
            "[ 60.3%  52.9%  66.2%  70.6%  66.2%  70.6%  67.6%  57.4%  64.7%  67.6%\n",
            "  63.2%  61.8%  66.2%  60.3%  63.2%  66.2%  60.3%  58.8%  64.7%  70.6%\n",
            "  64.7%  61.8%  76.5%  66.2%  72.1%  69.1%  63.2%  69.1%  69.1%  70.6%\n",
            "  63.2%  75.0%  69.1%  73.5%  63.2%  69.1%  64.7%  66.2%  66.2%  60.3%]\n"
          ]
        },
        {
          "output_type": "display_data",
          "data": {
            "text/plain": [
              "<Figure size 640x480 with 1 Axes>"
            ],
            "image/png": "[encoded data removed]"
          },
          "metadata": {}
        }
      ]
    },
    {
      "cell_type": "code",
      "source": [
        "myfile"
      ],
      "metadata": {
        "colab": {
          "base_uri": "https://localhost:8080/",
          "height": 35
        },
        "id": "J6y3WMRRNoni",
        "outputId": "5eeb907a-4536-447b-8f5b-7cc7e6e85672"
      },
      "execution_count": 327,
      "outputs": [
        {
          "output_type": "execute_result",
          "data": {
            "text/plain": [
              "'myData5.xlsx'"
            ],
            "application/vnd.google.colaboratory.intrinsic+json": {
              "type": "string"
            }
          },
          "metadata": {},
          "execution_count": 327
        }
      ]
    },
    {
      "cell_type": "code",
      "source": [
        "from google.colab import files\n",
        "newfileName = myfile[:-5]\n",
        "iName = ['.txt', '_hist.jpg', '_heatMap.jpg', '_median.jpg', '_RowGoods.jpg', '_RowYield.jpg']\n",
        "for i in iName:\n",
        "  downName = newfileName + i\n",
        "  files.download(downName)\n",
        "  # print(downName)\n",
        "\n",
        "# print(newfileName + iName[0])"
      ],
      "metadata": {
        "colab": {
          "base_uri": "https://localhost:8080/",
          "height": 17
        },
        "id": "Wdp6kwPJMiBI",
        "outputId": "d52671e1-2d69-476b-8549-15a1ff320199"
      },
      "execution_count": 328,
      "outputs": [
        {
          "output_type": "display_data",
          "data": {
            "text/plain": [
              "<IPython.core.display.Javascript object>"
            ],
            "application/javascript": [
              "\n",
              "    async function download(id, filename, size) {\n",
              "      if (!google.colab.kernel.accessAllowed) {\n",
              "        return;\n",
              "      }\n",
              "      const div = document.createElement('div');\n",
              "      const label = document.createElement('label');\n",
              "      label.textContent = `Downloading \"${filename}\": `;\n",
              "      div.appendChild(label);\n",
              "      const progress = document.createElement('progress');\n",
              "      progress.max = size;\n",
              "      div.appendChild(progress);\n",
              "      document.body.appendChild(div);\n",
              "\n",
              "      const buffers = [];\n",
              "      let downloaded = 0;\n",
              "\n",
              "      const channel = await google.colab.kernel.comms.open(id);\n",
              "      // Send a message to notify the kernel that we're ready.\n",
              "      channel.send({})\n",
              "\n",
              "      for await (const message of channel.messages) {\n",
              "        // Send a message to notify the kernel that we're ready.\n",
              "        channel.send({})\n",
              "        if (message.buffers) {\n",
              "          for (const buffer of message.buffers) {\n",
              "            buffers.push(buffer);\n",
              "            downloaded += buffer.byteLength;\n",
              "            progress.value = downloaded;\n",
              "          }\n",
              "        }\n",
              "      }\n",
              "      const blob = new Blob(buffers, {type: 'application/binary'});\n",
              "      const a = document.createElement('a');\n",
              "      a.href = window.URL.createObjectURL(blob);\n",
              "      a.download = filename;\n",
              "      div.appendChild(a);\n",
              "      a.click();\n",
              "      div.remove();\n",
              "    }\n",
              "  "
            ]
          },
          "metadata": {}
        },
        {
          "output_type": "display_data",
          "data": {
            "text/plain": [
              "<IPython.core.display.Javascript object>"
            ],
            "application/javascript": [
              "download(\"download_625960c9-0c7a-4130-aca2-40dd42f9eb30\", \"myData5.txt\", 98)"
            ]
          },
          "metadata": {}
        },
        {
          "output_type": "display_data",
          "data": {
            "text/plain": [
              "<IPython.core.display.Javascript object>"
            ],
            "application/javascript": [
              "\n",
              "    async function download(id, filename, size) {\n",
              "      if (!google.colab.kernel.accessAllowed) {\n",
              "        return;\n",
              "      }\n",
              "      const div = document.createElement('div');\n",
              "      const label = document.createElement('label');\n",
              "      label.textContent = `Downloading \"${filename}\": `;\n",
              "      div.appendChild(label);\n",
              "      const progress = document.createElement('progress');\n",
              "      progress.max = size;\n",
              "      div.appendChild(progress);\n",
              "      document.body.appendChild(div);\n",
              "\n",
              "      const buffers = [];\n",
              "      let downloaded = 0;\n",
              "\n",
              "      const channel = await google.colab.kernel.comms.open(id);\n",
              "      // Send a message to notify the kernel that we're ready.\n",
              "      channel.send({})\n",
              "\n",
              "      for await (const message of channel.messages) {\n",
              "        // Send a message to notify the kernel that we're ready.\n",
              "        channel.send({})\n",
              "        if (message.buffers) {\n",
              "          for (const buffer of message.buffers) {\n",
              "            buffers.push(buffer);\n",
              "            downloaded += buffer.byteLength;\n",
              "            progress.value = downloaded;\n",
              "          }\n",
              "        }\n",
              "      }\n",
              "      const blob = new Blob(buffers, {type: 'application/binary'});\n",
              "      const a = document.createElement('a');\n",
              "      a.href = window.URL.createObjectURL(blob);\n",
              "      a.download = filename;\n",
              "      div.appendChild(a);\n",
              "      a.click();\n",
              "      div.remove();\n",
              "    }\n",
              "  "
            ]
          },
          "metadata": {}
        },
        {
          "output_type": "display_data",
          "data": {
            "text/plain": [
              "<IPython.core.display.Javascript object>"
            ],
            "application/javascript": [
              "download(\"download_6add5303-a856-4582-83c2-dcd552831ece\", \"myData5_hist.jpg\", 21023)"
            ]
          },
          "metadata": {}
        },
        {
          "output_type": "display_data",
          "data": {
            "text/plain": [
              "<IPython.core.display.Javascript object>"
            ],
            "application/javascript": [
              "\n",
              "    async function download(id, filename, size) {\n",
              "      if (!google.colab.kernel.accessAllowed) {\n",
              "        return;\n",
              "      }\n",
              "      const div = document.createElement('div');\n",
              "      const label = document.createElement('label');\n",
              "      label.textContent = `Downloading \"${filename}\": `;\n",
              "      div.appendChild(label);\n",
              "      const progress = document.createElement('progress');\n",
              "      progress.max = size;\n",
              "      div.appendChild(progress);\n",
              "      document.body.appendChild(div);\n",
              "\n",
              "      const buffers = [];\n",
              "      let downloaded = 0;\n",
              "\n",
              "      const channel = await google.colab.kernel.comms.open(id);\n",
              "      // Send a message to notify the kernel that we're ready.\n",
              "      channel.send({})\n",
              "\n",
              "      for await (const message of channel.messages) {\n",
              "        // Send a message to notify the kernel that we're ready.\n",
              "        channel.send({})\n",
              "        if (message.buffers) {\n",
              "          for (const buffer of message.buffers) {\n",
              "            buffers.push(buffer);\n",
              "            downloaded += buffer.byteLength;\n",
              "            progress.value = downloaded;\n",
              "          }\n",
              "        }\n",
              "      }\n",
              "      const blob = new Blob(buffers, {type: 'application/binary'});\n",
              "      const a = document.createElement('a');\n",
              "      a.href = window.URL.createObjectURL(blob);\n",
              "      a.download = filename;\n",
              "      div.appendChild(a);\n",
              "      a.click();\n",
              "      div.remove();\n",
              "    }\n",
              "  "
            ]
          },
          "metadata": {}
        },
        {
          "output_type": "display_data",
          "data": {
            "text/plain": [
              "<IPython.core.display.Javascript object>"
            ],
            "application/javascript": [
              "download(\"download_587690a7-9ab6-45aa-b60e-7a7f4fe26b6f\", \"myData5_heatMap.jpg\", 33148)"
            ]
          },
          "metadata": {}
        },
        {
          "output_type": "display_data",
          "data": {
            "text/plain": [
              "<IPython.core.display.Javascript object>"
            ],
            "application/javascript": [
              "\n",
              "    async function download(id, filename, size) {\n",
              "      if (!google.colab.kernel.accessAllowed) {\n",
              "        return;\n",
              "      }\n",
              "      const div = document.createElement('div');\n",
              "      const label = document.createElement('label');\n",
              "      label.textContent = `Downloading \"${filename}\": `;\n",
              "      div.appendChild(label);\n",
              "      const progress = document.createElement('progress');\n",
              "      progress.max = size;\n",
              "      div.appendChild(progress);\n",
              "      document.body.appendChild(div);\n",
              "\n",
              "      const buffers = [];\n",
              "      let downloaded = 0;\n",
              "\n",
              "      const channel = await google.colab.kernel.comms.open(id);\n",
              "      // Send a message to notify the kernel that we're ready.\n",
              "      channel.send({})\n",
              "\n",
              "      for await (const message of channel.messages) {\n",
              "        // Send a message to notify the kernel that we're ready.\n",
              "        channel.send({})\n",
              "        if (message.buffers) {\n",
              "          for (const buffer of message.buffers) {\n",
              "            buffers.push(buffer);\n",
              "            downloaded += buffer.byteLength;\n",
              "            progress.value = downloaded;\n",
              "          }\n",
              "        }\n",
              "      }\n",
              "      const blob = new Blob(buffers, {type: 'application/binary'});\n",
              "      const a = document.createElement('a');\n",
              "      a.href = window.URL.createObjectURL(blob);\n",
              "      a.download = filename;\n",
              "      div.appendChild(a);\n",
              "      a.click();\n",
              "      div.remove();\n",
              "    }\n",
              "  "
            ]
          },
          "metadata": {}
        },
        {
          "output_type": "display_data",
          "data": {
            "text/plain": [
              "<IPython.core.display.Javascript object>"
            ],
            "application/javascript": [
              "download(\"download_888bdcb5-80f2-4845-a910-42271120f2a2\", \"myData5_median.jpg\", 21008)"
            ]
          },
          "metadata": {}
        },
        {
          "output_type": "display_data",
          "data": {
            "text/plain": [
              "<IPython.core.display.Javascript object>"
            ],
            "application/javascript": [
              "\n",
              "    async function download(id, filename, size) {\n",
              "      if (!google.colab.kernel.accessAllowed) {\n",
              "        return;\n",
              "      }\n",
              "      const div = document.createElement('div');\n",
              "      const label = document.createElement('label');\n",
              "      label.textContent = `Downloading \"${filename}\": `;\n",
              "      div.appendChild(label);\n",
              "      const progress = document.createElement('progress');\n",
              "      progress.max = size;\n",
              "      div.appendChild(progress);\n",
              "      document.body.appendChild(div);\n",
              "\n",
              "      const buffers = [];\n",
              "      let downloaded = 0;\n",
              "\n",
              "      const channel = await google.colab.kernel.comms.open(id);\n",
              "      // Send a message to notify the kernel that we're ready.\n",
              "      channel.send({})\n",
              "\n",
              "      for await (const message of channel.messages) {\n",
              "        // Send a message to notify the kernel that we're ready.\n",
              "        channel.send({})\n",
              "        if (message.buffers) {\n",
              "          for (const buffer of message.buffers) {\n",
              "            buffers.push(buffer);\n",
              "            downloaded += buffer.byteLength;\n",
              "            progress.value = downloaded;\n",
              "          }\n",
              "        }\n",
              "      }\n",
              "      const blob = new Blob(buffers, {type: 'application/binary'});\n",
              "      const a = document.createElement('a');\n",
              "      a.href = window.URL.createObjectURL(blob);\n",
              "      a.download = filename;\n",
              "      div.appendChild(a);\n",
              "      a.click();\n",
              "      div.remove();\n",
              "    }\n",
              "  "
            ]
          },
          "metadata": {}
        },
        {
          "output_type": "display_data",
          "data": {
            "text/plain": [
              "<IPython.core.display.Javascript object>"
            ],
            "application/javascript": [
              "download(\"download_3c67f2ac-fe22-4ae9-ae60-2cfe7ef0b4a2\", \"myData5_RowGoods.jpg\", 24763)"
            ]
          },
          "metadata": {}
        },
        {
          "output_type": "display_data",
          "data": {
            "text/plain": [
              "<IPython.core.display.Javascript object>"
            ],
            "application/javascript": [
              "\n",
              "    async function download(id, filename, size) {\n",
              "      if (!google.colab.kernel.accessAllowed) {\n",
              "        return;\n",
              "      }\n",
              "      const div = document.createElement('div');\n",
              "      const label = document.createElement('label');\n",
              "      label.textContent = `Downloading \"${filename}\": `;\n",
              "      div.appendChild(label);\n",
              "      const progress = document.createElement('progress');\n",
              "      progress.max = size;\n",
              "      div.appendChild(progress);\n",
              "      document.body.appendChild(div);\n",
              "\n",
              "      const buffers = [];\n",
              "      let downloaded = 0;\n",
              "\n",
              "      const channel = await google.colab.kernel.comms.open(id);\n",
              "      // Send a message to notify the kernel that we're ready.\n",
              "      channel.send({})\n",
              "\n",
              "      for await (const message of channel.messages) {\n",
              "        // Send a message to notify the kernel that we're ready.\n",
              "        channel.send({})\n",
              "        if (message.buffers) {\n",
              "          for (const buffer of message.buffers) {\n",
              "            buffers.push(buffer);\n",
              "            downloaded += buffer.byteLength;\n",
              "            progress.value = downloaded;\n",
              "          }\n",
              "        }\n",
              "      }\n",
              "      const blob = new Blob(buffers, {type: 'application/binary'});\n",
              "      const a = document.createElement('a');\n",
              "      a.href = window.URL.createObjectURL(blob);\n",
              "      a.download = filename;\n",
              "      div.appendChild(a);\n",
              "      a.click();\n",
              "      div.remove();\n",
              "    }\n",
              "  "
            ]
          },
          "metadata": {}
        },
        {
          "output_type": "display_data",
          "data": {
            "text/plain": [
              "<IPython.core.display.Javascript object>"
            ],
            "application/javascript": [
              "download(\"download_392b94da-bcca-4638-bd0f-c818fc6baa0b\", \"myData5_RowYield.jpg\", 19906)"
            ]
          },
          "metadata": {}
        }
      ]
    },
    {
      "cell_type": "code",
      "source": [
        "# len(yieldList)"
      ],
      "metadata": {
        "id": "CD5IBGBmoaqa"
      },
      "execution_count": 329,
      "outputs": []
    },
    {
      "cell_type": "code",
      "source": [
        "# df3 = df2.dropna()  # 剔除dataframe空值\n",
        "\n",
        "# # Plot the Data itself.\n",
        "# plt.plot(df3)\n",
        "\n",
        "# plt.show()\n",
        "\n",
        "\n"
      ],
      "metadata": {
        "id": "yrHDaoQFrLyo"
      },
      "execution_count": 330,
      "outputs": []
    },
    {
      "cell_type": "markdown",
      "source": [
        "# 網路舉例\n",
        "\n",
        "```\n",
        "\n",
        "import matplotlib.pyplot as plt\n",
        "import numpy as np\n",
        "\n",
        "plt.style.use('_mpl-gallery')\n",
        "\n",
        "# make data\n",
        "np.random.seed(1)\n",
        "x = 4 + np.random.normal(0, 1.5, 200)\n",
        "\n",
        "# plot:\n",
        "fig, ax = plt.subplots()\n",
        "\n",
        "ax.hist(x, bins=8, linewidth=0.5, edgecolor=\"white\")\n",
        "\n",
        "ax.set(xlim=(0, 8), xticks=np.arange(1, 8),\n",
        "       ylim=(0, 56), yticks=np.linspace(0, 56, 9))\n",
        "\n",
        "plt.show()\n",
        "\n",
        "```"
      ],
      "metadata": {
        "id": "rrT3cRFGKwvU"
      }
    },
    {
      "cell_type": "code",
      "source": [
        "# from pandas._libs.algos import diff_2d\n",
        "# ChatGPT 產生code\n",
        "# import numpy as np\n",
        "# import matplotlib.pyplot as plt\n",
        "\n",
        "\n",
        "# # 產生範例資料，這裡使用了隨機的二維NumPy陣列\n",
        "# #data = np.random.randint(1, 10, size=(4, 3))  # 產生一個 4x3 的二維陣列，數值範圍在 1 到 10 之間\n",
        "# data = myList\n",
        "# # 設置長條圖參數\n",
        "# #rows = ['Row 1', 'Row 2', 'Row 3', 'Row 4']  # 每一列的標籤\n",
        "# rows = df.iloc[:, 0]\n",
        "\n",
        "# # columns = ['A', 'B', 'C']  # 每一行的標籤\n",
        "# columns = df2.columns.tolist()\n",
        "\n",
        "\n",
        "# # 建立長條圖\n",
        "# fig, ax = plt.subplots()\n",
        "# width = 0.2  # 設置每個長條的寬度\n",
        "# x = np.arange(len(columns))\n",
        "\n",
        "\n",
        "# for i, row in enumerate(data):\n",
        "#     ax.bar(x + i * width, row, width, label=rows[i])\n",
        "\n",
        "# # 加入標籤和圖例\n",
        "# ax.set_ylabel('%')\n",
        "# ax.set_title(' Row offset')\n",
        "# #ax.set_xticks(x + width * (len(data) - 1) / 2)\n",
        "# #ax.set_xticklabels(columns)\n",
        "# # ax.legend()\n",
        "\n",
        "# # 顯示圖形\n",
        "# plt.show()\n"
      ],
      "metadata": {
        "id": "Yh1aFKhuRNG7"
      },
      "execution_count": 331,
      "outputs": []
    }
  ]
}